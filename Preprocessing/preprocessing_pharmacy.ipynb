{
 "cells": [
  {
   "cell_type": "markdown",
   "metadata": {},
   "source": [
    "### Khai báo thư viện"
   ]
  },
  {
   "cell_type": "code",
   "execution_count": 1,
   "metadata": {},
   "outputs": [],
   "source": [
    "import pandas as pd\n",
    "import re"
   ]
  },
  {
   "cell_type": "markdown",
   "metadata": {},
   "source": [
    "### Tải dữ liệu"
   ]
  },
  {
   "cell_type": "code",
   "execution_count": 2,
   "metadata": {},
   "outputs": [
    {
     "data": {
      "text/html": [
       "<div>\n",
       "<style scoped>\n",
       "    .dataframe tbody tr th:only-of-type {\n",
       "        vertical-align: middle;\n",
       "    }\n",
       "\n",
       "    .dataframe tbody tr th {\n",
       "        vertical-align: top;\n",
       "    }\n",
       "\n",
       "    .dataframe thead th {\n",
       "        text-align: right;\n",
       "    }\n",
       "</style>\n",
       "<table border=\"1\" class=\"dataframe\">\n",
       "  <thead>\n",
       "    <tr style=\"text-align: right;\">\n",
       "      <th></th>\n",
       "      <th>LOAIHINHHN</th>\n",
       "      <th>PHAMVIHN</th>\n",
       "      <th>TENCOSO</th>\n",
       "      <th>DUONG</th>\n",
       "      <th>PHUONG</th>\n",
       "      <th>QUAN</th>\n",
       "      <th>CVXLCCHN</th>\n",
       "      <th>SOCCHN</th>\n",
       "      <th>NGCAPCCHN</th>\n",
       "      <th>NOICAPCCHN</th>\n",
       "      <th>SODDK</th>\n",
       "      <th>SOGCN</th>\n",
       "      <th>GPP_GDP_GSP</th>\n",
       "      <th>NGAYCAPGCN</th>\n",
       "      <th>NGAYHHGCN</th>\n",
       "    </tr>\n",
       "  </thead>\n",
       "  <tbody>\n",
       "    <tr>\n",
       "      <th>0</th>\n",
       "      <td>Đại lý bán thuốc của doanh nghiệp</td>\n",
       "      <td>Bán lẻ thuốc thành phẩm thuộc danh mục thuốc t...</td>\n",
       "      <td>Đại lý số 24 - Công ty TNHH một thành viên Dượ...</td>\n",
       "      <td>C5/22, Đường Hưng Nhơn, Ấp 3</td>\n",
       "      <td>Xã Tân Kiên</td>\n",
       "      <td>Huyện Bình Chánh</td>\n",
       "      <td>Ds Trương Việt Cường</td>\n",
       "      <td>01531/HCM-CCHND</td>\n",
       "      <td>20/02/2014</td>\n",
       "      <td>Sở Y tế TP.HCM</td>\n",
       "      <td>6427/HCM-ĐKKDD</td>\n",
       "      <td>NaN</td>\n",
       "      <td>NaN</td>\n",
       "      <td>NaN</td>\n",
       "      <td>NaN</td>\n",
       "    </tr>\n",
       "    <tr>\n",
       "      <th>1</th>\n",
       "      <td>Cơ sở bán lẻ thuốc: Nhà thuốc</td>\n",
       "      <td>Bán lẻ thuốc hóa dược, thuốc dược liệu, thuốc ...</td>\n",
       "      <td>Hộ kinh doanh Nhà thuốc Kim Châu</td>\n",
       "      <td>9, Đường số 5, Khu phố 2</td>\n",
       "      <td>Phường Linh Xuân</td>\n",
       "      <td>Quận Thủ Đức</td>\n",
       "      <td>Ds. Trương Việt Cường</td>\n",
       "      <td>4524/CCHN-D-SYT-HCM</td>\n",
       "      <td>14/06/2019</td>\n",
       "      <td>Sở Y tế TP.HCM</td>\n",
       "      <td>7969/ĐKKDD-HCM</td>\n",
       "      <td>9807.0</td>\n",
       "      <td>GPP</td>\n",
       "      <td>18/03/2020</td>\n",
       "      <td>NaN</td>\n",
       "    </tr>\n",
       "    <tr>\n",
       "      <th>2</th>\n",
       "      <td>Cơ sở bán lẻ thuốc: Nhà thuốc</td>\n",
       "      <td>Bán lẻ thuốc hóa dược, thuốc dược liệu, thuốc ...</td>\n",
       "      <td>Nhà thuốc Phương Hiền</td>\n",
       "      <td>493, Man Thiện, Khu phố 5</td>\n",
       "      <td>Phường Tăng Nhơn Phú A</td>\n",
       "      <td>Quận 9</td>\n",
       "      <td>NaN</td>\n",
       "      <td>2306/ĐNAI-CCHND</td>\n",
       "      <td>13/07/2016</td>\n",
       "      <td>Sở Y tế Tỉnh Đồng Nai</td>\n",
       "      <td>1660/ĐKKDD-HCM</td>\n",
       "      <td>7816.0</td>\n",
       "      <td>GPP</td>\n",
       "      <td>01/12/2017</td>\n",
       "      <td>01/12/2020</td>\n",
       "    </tr>\n",
       "    <tr>\n",
       "      <th>3</th>\n",
       "      <td>Cơ sở bán lẻ thuốc: Nhà thuốc</td>\n",
       "      <td>Bán lẻ thuốc hóa dược, thuốc dược liệu, thuốc ...</td>\n",
       "      <td>Địa điểm kinh doanh Công ty cổ phần dược phẩm ...</td>\n",
       "      <td>1097B, Tỉnh lộ 43, Khu phố 2</td>\n",
       "      <td>Phường Bình Chiểu</td>\n",
       "      <td>Quận Thủ Đức</td>\n",
       "      <td>Ds. Trần Minh Trí</td>\n",
       "      <td>1131/CCHN-D-SYT-HCM</td>\n",
       "      <td>26/10/2017</td>\n",
       "      <td>Sở Y tế TP.HCM</td>\n",
       "      <td>8433/ĐKKDD-HCM</td>\n",
       "      <td>10113.0</td>\n",
       "      <td>GPP</td>\n",
       "      <td>10/07/2020</td>\n",
       "      <td>10/07/2023</td>\n",
       "    </tr>\n",
       "    <tr>\n",
       "      <th>4</th>\n",
       "      <td>Nhà thuốc</td>\n",
       "      <td>Bán lẻ thuốc thành phẩm</td>\n",
       "      <td>Nhà thuốc Nguyễn Nhi</td>\n",
       "      <td>1B, Nguyễn Thượng Hiền</td>\n",
       "      <td>Phường 05</td>\n",
       "      <td>Quận Bình Thạnh</td>\n",
       "      <td>NaN</td>\n",
       "      <td>03135/HCM-CCHND</td>\n",
       "      <td>17/06/2015</td>\n",
       "      <td>Sở Y tế TP.HCM</td>\n",
       "      <td>5194/HCM-ĐKKDD</td>\n",
       "      <td>6121.0</td>\n",
       "      <td>GPP</td>\n",
       "      <td>13/10/2016</td>\n",
       "      <td>13/10/2019</td>\n",
       "    </tr>\n",
       "  </tbody>\n",
       "</table>\n",
       "</div>"
      ],
      "text/plain": [
       "                          LOAIHINHHN  \\\n",
       "0  Đại lý bán thuốc của doanh nghiệp   \n",
       "1      Cơ sở bán lẻ thuốc: Nhà thuốc   \n",
       "2      Cơ sở bán lẻ thuốc: Nhà thuốc   \n",
       "3      Cơ sở bán lẻ thuốc: Nhà thuốc   \n",
       "4                          Nhà thuốc   \n",
       "\n",
       "                                            PHAMVIHN  \\\n",
       "0  Bán lẻ thuốc thành phẩm thuộc danh mục thuốc t...   \n",
       "1  Bán lẻ thuốc hóa dược, thuốc dược liệu, thuốc ...   \n",
       "2  Bán lẻ thuốc hóa dược, thuốc dược liệu, thuốc ...   \n",
       "3  Bán lẻ thuốc hóa dược, thuốc dược liệu, thuốc ...   \n",
       "4                            Bán lẻ thuốc thành phẩm   \n",
       "\n",
       "                                             TENCOSO  \\\n",
       "0  Đại lý số 24 - Công ty TNHH một thành viên Dượ...   \n",
       "1                   Hộ kinh doanh Nhà thuốc Kim Châu   \n",
       "2                              Nhà thuốc Phương Hiền   \n",
       "3  Địa điểm kinh doanh Công ty cổ phần dược phẩm ...   \n",
       "4                               Nhà thuốc Nguyễn Nhi   \n",
       "\n",
       "                          DUONG                  PHUONG              QUAN  \\\n",
       "0  C5/22, Đường Hưng Nhơn, Ấp 3             Xã Tân Kiên  Huyện Bình Chánh   \n",
       "1      9, Đường số 5, Khu phố 2        Phường Linh Xuân      Quận Thủ Đức   \n",
       "2     493, Man Thiện, Khu phố 5  Phường Tăng Nhơn Phú A            Quận 9   \n",
       "3  1097B, Tỉnh lộ 43, Khu phố 2       Phường Bình Chiểu      Quận Thủ Đức   \n",
       "4        1B, Nguyễn Thượng Hiền               Phường 05   Quận Bình Thạnh   \n",
       "\n",
       "                CVXLCCHN               SOCCHN   NGCAPCCHN  \\\n",
       "0   Ds Trương Việt Cường      01531/HCM-CCHND  20/02/2014   \n",
       "1  Ds. Trương Việt Cường  4524/CCHN-D-SYT-HCM  14/06/2019   \n",
       "2                    NaN      2306/ĐNAI-CCHND  13/07/2016   \n",
       "3      Ds. Trần Minh Trí  1131/CCHN-D-SYT-HCM  26/10/2017   \n",
       "4                    NaN      03135/HCM-CCHND  17/06/2015   \n",
       "\n",
       "              NOICAPCCHN           SODDK    SOGCN GPP_GDP_GSP  NGAYCAPGCN  \\\n",
       "0         Sở Y tế TP.HCM  6427/HCM-ĐKKDD      NaN         NaN         NaN   \n",
       "1         Sở Y tế TP.HCM  7969/ĐKKDD-HCM   9807.0         GPP  18/03/2020   \n",
       "2  Sở Y tế Tỉnh Đồng Nai  1660/ĐKKDD-HCM   7816.0         GPP  01/12/2017   \n",
       "3         Sở Y tế TP.HCM  8433/ĐKKDD-HCM  10113.0         GPP  10/07/2020   \n",
       "4         Sở Y tế TP.HCM  5194/HCM-ĐKKDD   6121.0         GPP  13/10/2016   \n",
       "\n",
       "    NGAYHHGCN  \n",
       "0         NaN  \n",
       "1         NaN  \n",
       "2  01/12/2020  \n",
       "3  10/07/2023  \n",
       "4  13/10/2019  "
      ]
     },
     "execution_count": 2,
     "metadata": {},
     "output_type": "execute_result"
    }
   ],
   "source": [
    "data = pd.read_excel('./Dataset/Nha_Thuoc.xlsx')\n",
    "data.head(5)"
   ]
  },
  {
   "cell_type": "markdown",
   "metadata": {},
   "source": [
    "### Kiểm tra dữ liệu bị thiếu"
   ]
  },
  {
   "cell_type": "code",
   "execution_count": 3,
   "metadata": {},
   "outputs": [
    {
     "data": {
      "text/plain": [
       "LOAIHINHHN      114\n",
       "PHAMVIHN         63\n",
       "TENCOSO           0\n",
       "DUONG             0\n",
       "PHUONG           40\n",
       "QUAN              2\n",
       "CVXLCCHN       3775\n",
       "SOCCHN            0\n",
       "NGCAPCCHN       221\n",
       "NOICAPCCHN        1\n",
       "SODDK             2\n",
       "SOGCN           735\n",
       "GPP_GDP_GSP     735\n",
       "NGAYCAPGCN     4606\n",
       "NGAYHHGCN      4927\n",
       "dtype: int64"
      ]
     },
     "execution_count": 3,
     "metadata": {},
     "output_type": "execute_result"
    }
   ],
   "source": [
    "data.isna().sum()"
   ]
  },
  {
   "cell_type": "markdown",
   "metadata": {},
   "source": [
    "Ta nhận thấy tồn tại dữ liệu bị thiếu ở các cột trong bảng dữ liệu, các cột `CVXLCCHN`, `SOGCN`, `GPP_GDP_GSP`, `NGAYCAPGCN`, `NGAYHHGCN` đều là các thuộc tính đặc thù, không quá quan trọng khi phân tích các thuộc tính đặc trưng khác nên tạm thời ta sẽ giữ lại các giá trị bị thiếu ở cột này mà chỉ đi xử lí ở các cột `LOAIHINHHN`, `PHAMVIHN`, `QUAN`"
   ]
  },
  {
   "cell_type": "code",
   "execution_count": 4,
   "metadata": {},
   "outputs": [
    {
     "data": {
      "text/plain": [
       "LOAIHINHHN        0\n",
       "PHAMVIHN          0\n",
       "TENCOSO           0\n",
       "DUONG             0\n",
       "PHUONG           33\n",
       "QUAN              0\n",
       "CVXLCCHN       3758\n",
       "SOCCHN            0\n",
       "NGCAPCCHN       221\n",
       "NOICAPCCHN        1\n",
       "SODDK             2\n",
       "SOGCN           729\n",
       "GPP_GDP_GSP     729\n",
       "NGAYCAPGCN     4599\n",
       "NGAYHHGCN      4919\n",
       "dtype: int64"
      ]
     },
     "execution_count": 4,
     "metadata": {},
     "output_type": "execute_result"
    }
   ],
   "source": [
    "data = data.dropna(subset=['LOAIHINHHN','PHAMVIHN','QUAN'])\n",
    "data.isna().sum()"
   ]
  },
  {
   "cell_type": "code",
   "execution_count": 5,
   "metadata": {},
   "outputs": [
    {
     "data": {
      "text/plain": [
       "(16508, 15)"
      ]
     },
     "execution_count": 5,
     "metadata": {},
     "output_type": "execute_result"
    }
   ],
   "source": [
    "data.shape"
   ]
  },
  {
   "cell_type": "markdown",
   "metadata": {},
   "source": [
    "### Kiểm tra dữ liệu trùng lắp"
   ]
  },
  {
   "cell_type": "code",
   "execution_count": 6,
   "metadata": {},
   "outputs": [
    {
     "name": "stdout",
     "output_type": "stream",
     "text": [
      "Số lượng dòng dữ liệu trùng lắp: 84\n"
     ]
    }
   ],
   "source": [
    "print('Số lượng dòng dữ liệu trùng lắp:', data.duplicated().sum())"
   ]
  },
  {
   "cell_type": "markdown",
   "metadata": {},
   "source": [
    "Ta nhận thấy có 84 dòng dữ liệu bị trùng lắp, ta tiến hành loại bỏ các dòng dữ liệu này"
   ]
  },
  {
   "cell_type": "code",
   "execution_count": 7,
   "metadata": {},
   "outputs": [
    {
     "name": "stdout",
     "output_type": "stream",
     "text": [
      "Số lượng dòng dữ liệu sau khi loại trùng: 0\n"
     ]
    }
   ],
   "source": [
    "data.drop_duplicates(inplace=True)\n",
    "print('Số lượng dòng dữ liệu sau khi loại trùng:', data.duplicated().sum())"
   ]
  },
  {
   "cell_type": "markdown",
   "metadata": {},
   "source": [
    "### Gom các quận trong thành phố Thủ Đức\n",
    "Sau khi đã xử lí trùng, ta gom các quận Thủ Đức, 2 và 9 lại thành thành phố Thủ Đức."
   ]
  },
  {
   "cell_type": "code",
   "execution_count": 8,
   "metadata": {},
   "outputs": [
    {
     "data": {
      "text/plain": [
       "array(['Huyện Bình Chánh', 'TP. Thủ Đức', 'Quận Bình Thạnh', 'Quận 7',\n",
       "       'Quận Gò Vấp', 'Quận 10', 'Huyện Hóc Môn', 'Huyện Củ Chi',\n",
       "       'Quận 8', 'Quận 12', 'Quận Tân Phú', 'Huyện Cần Giờ', 'Quận 1',\n",
       "       'Quận 11', 'Quận Bình Tân', 'Quận 4', 'Quận 5', 'Quận Tân Bình',\n",
       "       'Quận 3', 'Huyện Nhà Bè', 'Quận 6', 'Quận Phú Nhuận'], dtype=object)"
      ]
     },
     "execution_count": 8,
     "metadata": {},
     "output_type": "execute_result"
    }
   ],
   "source": [
    "districts = ['Quận Thủ Đức', 'Quận 2', 'Quận 9']\n",
    "\n",
    "def normalize_address(address):\n",
    "    if address in districts:\n",
    "        return \"TP. Thủ Đức\"\n",
    "    return address\n",
    "\n",
    "data['QUAN'] = data['QUAN'].apply(normalize_address)\n",
    "\n",
    "data['QUAN'].unique()"
   ]
  },
  {
   "cell_type": "markdown",
   "metadata": {},
   "source": [
    "### Tinh chỉnh định dạng các quận"
   ]
  },
  {
   "cell_type": "markdown",
   "metadata": {},
   "source": [
    "Tinh chỉnh các quận về giống định dạng trong tập tin liên quan đến cơ sở nhà thuốc để dễ dàng trực quan."
   ]
  },
  {
   "cell_type": "code",
   "execution_count": 9,
   "metadata": {},
   "outputs": [
    {
     "data": {
      "text/plain": [
       "array(['Bình Chánh', 'TP. Thủ Đức', 'Bình Thạnh', 'Quận 7', 'Gò Vấp',\n",
       "       'Quận 10', 'Hóc Môn', 'Củ Chi', 'Quận 8', 'Quận 12', 'Tân Phú',\n",
       "       'Cần Giờ', 'Quận 1', 'Quận 11', 'Bình Tân', 'Quận 4', 'Quận 5',\n",
       "       'Tân Bình', 'Quận 3', 'Nhà Bè', 'Quận 6', 'Phú Nhuận'],\n",
       "      dtype=object)"
      ]
     },
     "execution_count": 9,
     "metadata": {},
     "output_type": "execute_result"
    }
   ],
   "source": [
    "# Hàm giữ nguyên các quận có số, xóa \"Quận\" ở các quận không có số\n",
    "def remove_quan_name(quan):\n",
    "    if \"Quận \" in quan and not quan.split()[1].isdigit():\n",
    "        return quan.replace(\"Quận \", \"\")\n",
    "    return quan\n",
    "\n",
    "# Áp dụng hàm trên cột QUAN\n",
    "data['QUAN'] = data['QUAN'].apply(remove_quan_name)\n",
    "data['QUAN'] = data['QUAN'].str.replace('Huyện ', '', regex=False)\n",
    "data['QUAN'].unique()"
   ]
  },
  {
   "cell_type": "markdown",
   "metadata": {},
   "source": [
    "### Làm gọn loại hình nhà thuốc"
   ]
  },
  {
   "cell_type": "code",
   "execution_count": 10,
   "metadata": {},
   "outputs": [
    {
     "data": {
      "text/html": [
       "<div>\n",
       "<style scoped>\n",
       "    .dataframe tbody tr th:only-of-type {\n",
       "        vertical-align: middle;\n",
       "    }\n",
       "\n",
       "    .dataframe tbody tr th {\n",
       "        vertical-align: top;\n",
       "    }\n",
       "\n",
       "    .dataframe thead th {\n",
       "        text-align: right;\n",
       "    }\n",
       "</style>\n",
       "<table border=\"1\" class=\"dataframe\">\n",
       "  <thead>\n",
       "    <tr style=\"text-align: right;\">\n",
       "      <th></th>\n",
       "      <th>LOAIHINHHN</th>\n",
       "      <th>PHAMVIHN</th>\n",
       "      <th>TENCOSO</th>\n",
       "      <th>DUONG</th>\n",
       "      <th>PHUONG</th>\n",
       "      <th>QUAN</th>\n",
       "      <th>CVXLCCHN</th>\n",
       "      <th>SOCCHN</th>\n",
       "      <th>NGCAPCCHN</th>\n",
       "      <th>NOICAPCCHN</th>\n",
       "      <th>SODDK</th>\n",
       "      <th>SOGCN</th>\n",
       "      <th>GPP_GDP_GSP</th>\n",
       "      <th>NGAYCAPGCN</th>\n",
       "      <th>NGAYHHGCN</th>\n",
       "    </tr>\n",
       "  </thead>\n",
       "  <tbody>\n",
       "    <tr>\n",
       "      <th>8320</th>\n",
       "      <td>Cơ sở bán lẻ thuốc: Nhà thuốc</td>\n",
       "      <td>Bán lẻ thuốc hóa dược, thuốc dược liệu, thuốc ...</td>\n",
       "      <td>Hộ kinh doanh Nhà thuốc Minh Anh 1</td>\n",
       "      <td>C4/2, Quốc lộ 1A, Ấp 3</td>\n",
       "      <td>Xã Tân Kiên</td>\n",
       "      <td>Bình Chánh</td>\n",
       "      <td>NaN</td>\n",
       "      <td>290/TTH-CCHND</td>\n",
       "      <td>31/07/2014</td>\n",
       "      <td>Sở Y tế Tỉnh Thừa Thiên - Huế</td>\n",
       "      <td>1255/ĐKKDD-HCM</td>\n",
       "      <td>5307.0</td>\n",
       "      <td>GPP</td>\n",
       "      <td>20/02/2024</td>\n",
       "      <td>20/02/2027</td>\n",
       "    </tr>\n",
       "    <tr>\n",
       "      <th>6690</th>\n",
       "      <td>Cơ sở bán buôn thuốc</td>\n",
       "      <td>Bán buôn thuốc hóa dược, thuốc dược liệu, thuố...</td>\n",
       "      <td>Công ty TNHH Dược phầm Natra</td>\n",
       "      <td>Số 6G16, Đường Trần Não, Khu phố 3</td>\n",
       "      <td>Phường An Khánh</td>\n",
       "      <td>TP. Thủ Đức</td>\n",
       "      <td>Ds. Bùi Hùng Cường</td>\n",
       "      <td>11619/CCHN-D-SYT-HCM</td>\n",
       "      <td>27/01/2023</td>\n",
       "      <td>Sở Y tế TP.HCM</td>\n",
       "      <td>10617/ĐKKDD-HCM</td>\n",
       "      <td>47.0</td>\n",
       "      <td>GDP</td>\n",
       "      <td>19/06/2023</td>\n",
       "      <td>10/01/2025</td>\n",
       "    </tr>\n",
       "    <tr>\n",
       "      <th>6407</th>\n",
       "      <td>Cơ sở bán buôn thuốc</td>\n",
       "      <td>Bán buôn thuốc hóa dược, thuốc dược liệu, thuố...</td>\n",
       "      <td>Công ty TNHH Dược phẩm Minh Quân</td>\n",
       "      <td>Quầy J10, 134/1, Tô Hiến Thành</td>\n",
       "      <td>Phường 15</td>\n",
       "      <td>Quận 10</td>\n",
       "      <td>Ds Tô Văn Minh</td>\n",
       "      <td>6055/HCM-CCHND</td>\n",
       "      <td>15/06/2016</td>\n",
       "      <td>Sở Y tế TP.HCM</td>\n",
       "      <td>4367/ĐKKDD-HCM</td>\n",
       "      <td>980.0</td>\n",
       "      <td>GDP</td>\n",
       "      <td>NaN</td>\n",
       "      <td>NaN</td>\n",
       "    </tr>\n",
       "    <tr>\n",
       "      <th>13021</th>\n",
       "      <td>Cơ sở bán lẻ thuốc: Nhà thuốc</td>\n",
       "      <td>Bán lẻ thuốc hóa dược, thuốc dược liệu, thuốc ...</td>\n",
       "      <td>Hộ kinh doanh Nhà thuốc Thu Trà</td>\n",
       "      <td>300/23/4, Nguyễn Văn Linh</td>\n",
       "      <td>Phường Bình Thuận</td>\n",
       "      <td>Quận 7</td>\n",
       "      <td>Ds. Nguyễn Trần Công Huân</td>\n",
       "      <td>4322/CCHN-D-SYT-HCM</td>\n",
       "      <td>24/04/2019</td>\n",
       "      <td>Sở Y tế TP.HCM</td>\n",
       "      <td>6943/ĐKKDD-HCM</td>\n",
       "      <td>9338.0</td>\n",
       "      <td>GPP</td>\n",
       "      <td>11/11/2022</td>\n",
       "      <td>11/11/2025</td>\n",
       "    </tr>\n",
       "    <tr>\n",
       "      <th>16257</th>\n",
       "      <td>Cơ sở bán lẻ thuốc: Nhà thuốc</td>\n",
       "      <td>Bán lẻ thuốc hóa dược, thuốc dược liệu, thuốc ...</td>\n",
       "      <td>Công ty Cổ phần Dược phẩm FPT Long Châu - Địa ...</td>\n",
       "      <td>Số 234/1, Đường Phạm Phú Thứ</td>\n",
       "      <td>Phường 04</td>\n",
       "      <td>Quận 6</td>\n",
       "      <td>Ds. Nguyễn Huy Hùng</td>\n",
       "      <td>7865/CCHN-D-SYT-HCM</td>\n",
       "      <td>15/06/2021</td>\n",
       "      <td>Sở Y tế TP.HCM</td>\n",
       "      <td>10641/ĐKKDD-HCM</td>\n",
       "      <td>11637.0</td>\n",
       "      <td>GPP</td>\n",
       "      <td>NaN</td>\n",
       "      <td>NaN</td>\n",
       "    </tr>\n",
       "  </tbody>\n",
       "</table>\n",
       "</div>"
      ],
      "text/plain": [
       "                          LOAIHINHHN  \\\n",
       "8320   Cơ sở bán lẻ thuốc: Nhà thuốc   \n",
       "6690            Cơ sở bán buôn thuốc   \n",
       "6407            Cơ sở bán buôn thuốc   \n",
       "13021  Cơ sở bán lẻ thuốc: Nhà thuốc   \n",
       "16257  Cơ sở bán lẻ thuốc: Nhà thuốc   \n",
       "\n",
       "                                                PHAMVIHN  \\\n",
       "8320   Bán lẻ thuốc hóa dược, thuốc dược liệu, thuốc ...   \n",
       "6690   Bán buôn thuốc hóa dược, thuốc dược liệu, thuố...   \n",
       "6407   Bán buôn thuốc hóa dược, thuốc dược liệu, thuố...   \n",
       "13021  Bán lẻ thuốc hóa dược, thuốc dược liệu, thuốc ...   \n",
       "16257  Bán lẻ thuốc hóa dược, thuốc dược liệu, thuốc ...   \n",
       "\n",
       "                                                 TENCOSO  \\\n",
       "8320                  Hộ kinh doanh Nhà thuốc Minh Anh 1   \n",
       "6690                        Công ty TNHH Dược phầm Natra   \n",
       "6407                    Công ty TNHH Dược phẩm Minh Quân   \n",
       "13021                    Hộ kinh doanh Nhà thuốc Thu Trà   \n",
       "16257  Công ty Cổ phần Dược phẩm FPT Long Châu - Địa ...   \n",
       "\n",
       "                                    DUONG             PHUONG         QUAN  \\\n",
       "8320               C4/2, Quốc lộ 1A, Ấp 3        Xã Tân Kiên   Bình Chánh   \n",
       "6690   Số 6G16, Đường Trần Não, Khu phố 3    Phường An Khánh  TP. Thủ Đức   \n",
       "6407       Quầy J10, 134/1, Tô Hiến Thành          Phường 15      Quận 10   \n",
       "13021           300/23/4, Nguyễn Văn Linh  Phường Bình Thuận       Quận 7   \n",
       "16257        Số 234/1, Đường Phạm Phú Thứ          Phường 04       Quận 6   \n",
       "\n",
       "                        CVXLCCHN                SOCCHN   NGCAPCCHN  \\\n",
       "8320                         NaN         290/TTH-CCHND  31/07/2014   \n",
       "6690          Ds. Bùi Hùng Cường  11619/CCHN-D-SYT-HCM  27/01/2023   \n",
       "6407              Ds Tô Văn Minh        6055/HCM-CCHND  15/06/2016   \n",
       "13021  Ds. Nguyễn Trần Công Huân   4322/CCHN-D-SYT-HCM  24/04/2019   \n",
       "16257        Ds. Nguyễn Huy Hùng   7865/CCHN-D-SYT-HCM  15/06/2021   \n",
       "\n",
       "                          NOICAPCCHN            SODDK    SOGCN GPP_GDP_GSP  \\\n",
       "8320   Sở Y tế Tỉnh Thừa Thiên - Huế   1255/ĐKKDD-HCM   5307.0         GPP   \n",
       "6690                  Sở Y tế TP.HCM  10617/ĐKKDD-HCM     47.0         GDP   \n",
       "6407                  Sở Y tế TP.HCM   4367/ĐKKDD-HCM    980.0         GDP   \n",
       "13021                 Sở Y tế TP.HCM   6943/ĐKKDD-HCM   9338.0         GPP   \n",
       "16257                 Sở Y tế TP.HCM  10641/ĐKKDD-HCM  11637.0         GPP   \n",
       "\n",
       "       NGAYCAPGCN   NGAYHHGCN  \n",
       "8320   20/02/2024  20/02/2027  \n",
       "6690   19/06/2023  10/01/2025  \n",
       "6407          NaN         NaN  \n",
       "13021  11/11/2022  11/11/2025  \n",
       "16257         NaN         NaN  "
      ]
     },
     "execution_count": 10,
     "metadata": {},
     "output_type": "execute_result"
    }
   ],
   "source": [
    "data.sample(5)"
   ]
  },
  {
   "cell_type": "markdown",
   "metadata": {},
   "source": [
    "#### Kiểm tra các giá trị khác biệt trong cột `LOAIHINHHN`"
   ]
  },
  {
   "cell_type": "code",
   "execution_count": 11,
   "metadata": {},
   "outputs": [
    {
     "data": {
      "text/plain": [
       "array(['Đại lý bán thuốc của doanh nghiệp',\n",
       "       'Cơ sở bán lẻ thuốc: Nhà thuốc', 'Nhà thuốc',\n",
       "       'Cơ sở bán buôn thuốc',\n",
       "       'Cơ sở sản xuất thuốc đông y, thuốc từ dược liệu',\n",
       "       'Doanh nghiệp bán buôn thuốc', 'Nhà thuốc bệnh viện công lập',\n",
       "       'Cơ sở bán lẻ thuốc: Cơ sở chuyên bán lẻ dược liệu, thuốc dược liệu, thuốc cổ truyền',\n",
       "       'Cơ sở bán lẻ thuốc: Nhà thuốc.', 'Cơ sở bán buôn thuốc.',\n",
       "       'Doanh nghiệp xuất khẩu, nhập khẩu thuốc',\n",
       "       'Cơ sở xuất nhập khẩu thuốc',\n",
       "       'Doanh nghiệp sản xuất, bán buôn thuốc',\n",
       "       'Cơ sở bán lẻ thuốc đông y, thuốc từ dược liệu',\n",
       "       'Cơ sở bán lẻ thuốc: Nhà thuốc. Cơ sở bán lẻ thuốc: Cơ sở chuyên bán lẻ dược liệu, thuốc dược liệu, thuốc cổ truyền.',\n",
       "       'Nhà thuốc của Doanh nghiệp', 'Cơ sở bán lẻ thuốc: Kệ thuốc',\n",
       "       'Cơ sở bán buôn dược liệu, thuốc đông y, thuốc từ dược liệu',\n",
       "       'Cơ sở bán buôn dược liệu',\n",
       "       'Cơ sở bán buôn thuốc, nguyên liệu làm thuốc',\n",
       "       'Doanh nghiệp sản xuất thuốc dùng ngoài từ dược liệu',\n",
       "       'Cơ sở bán lẻ thuốc: Cơ sở chuyên bán lẻ dược liệu, thuốc dược liệu, thuốc cổ truyền.',\n",
       "       'Cơ sở bán lẻ thuốc: Cơ sở chuyên bán lẻ thuốc dược liệu, thuốc cổ truyền',\n",
       "       'DOANH NGHIỆP XUẤT KHẨU, NHẬP KHẨU THUỐC',\n",
       "       'Cơ sở bán lẻ thuốc: Cơ sở chuyên bán lẻ dược liệu.',\n",
       "       'Nhà thuốc bệnh viện ngoài công lập',\n",
       "       'Cơ sở bán lẻ thuốc: Cơ sở chuyên bán lẻ dược liệu',\n",
       "       'Cơ sở bán buôn nguyên liệu làm thuốc',\n",
       "       'Cơ sở bán buôn thuốc, nguyên liệu làm thuốc.',\n",
       "       'Doanh nghiệp kinh doanh thuốc',\n",
       "       'Doanh nghiệp bán buôn thuốc, Vắc xin, Sinh phẩm y tế',\n",
       "       'Doanh nghiệp bảo quản thuốc',\n",
       "       'Cơ sở chuyên bán lẻ dược liệu, vị thuốc cổ truyền',\n",
       "       'Cơ sở bán lẻ thuốc: Cơ sở chuyên bán lẻ dược liệu, thuốc cổ truyền.',\n",
       "       'Cơ sở chuyên bán lẻ dược liệu, thuốc dược liệu, thuốc cổ truyền',\n",
       "       'Cơ sở bán lẻ dược liệu, thuốc dược liệu, thuốc cổ truyền',\n",
       "       'Cơ sở bán lẻ thuốc: Cơ sở chuyên bán lẻ dược liệu, vị thuốc cổ truyền',\n",
       "       'Cơ sở chuyên bán lẻ thuốc dược liệu, thuốc cổ truyền',\n",
       "       'Doanh nghiệp bán buôn dược liệu, thuốc đông y, thuốc từ dược liệu',\n",
       "       'Cơ sở bán buôn nguyên liệu làm thuốc.',\n",
       "       'Doanh nghiệp bán buôn sinh phẩm y tế',\n",
       "       'Cơ sở bán buôn thuốc. Cơ sở bán buôn nguyên liệu làm thuốc.',\n",
       "       'Cơ sở Xuất nhập khẩu thuốc',\n",
       "       'Doanh nghiệp bán buôn Vắc xin, Sinh phẩm y tế'], dtype=object)"
      ]
     },
     "execution_count": 11,
     "metadata": {},
     "output_type": "execute_result"
    }
   ],
   "source": [
    "data['LOAIHINHHN'].unique()"
   ]
  },
  {
   "cell_type": "markdown",
   "metadata": {},
   "source": [
    "Ta nhận thấy dòng chữ \"Cơ sở bán lẻ thuốc\" là khá dư thừa trong chuỗi, ta tiến hành loại bỏ chuỗi này. Đồng thời có dấu '.' thừa ở cuối câu ta cũng sẽ loại bỏ"
   ]
  },
  {
   "cell_type": "code",
   "execution_count": 12,
   "metadata": {},
   "outputs": [],
   "source": [
    "data['LOAIHINHHN'] = data['LOAIHINHHN'].str.replace('Cơ sở bán lẻ thuốc: ', '', regex=True)\n",
    "data['LOAIHINHHN'] = data['LOAIHINHHN'].apply(lambda x: x.rstrip('.') if x.endswith('.') else x)\n",
    "data['LOAIHINHHN'] = data['LOAIHINHHN'].str.lower()"
   ]
  },
  {
   "cell_type": "markdown",
   "metadata": {},
   "source": [
    "#### Kiểm tra lại sau khi đã loại bỏ"
   ]
  },
  {
   "cell_type": "code",
   "execution_count": 13,
   "metadata": {},
   "outputs": [
    {
     "name": "stdout",
     "output_type": "stream",
     "text": [
      "'nhà thuốc': 13429 lần\n",
      "'cơ sở bán buôn thuốc': 1976 lần\n",
      "'cơ sở chuyên bán lẻ dược liệu, thuốc dược liệu, thuốc cổ truyền': 365 lần\n",
      "'đại lý bán thuốc của doanh nghiệp': 152 lần\n",
      "'doanh nghiệp bán buôn thuốc': 150 lần\n",
      "'cơ sở bán lẻ thuốc đông y, thuốc từ dược liệu': 72 lần\n",
      "'nhà thuốc của doanh nghiệp': 52 lần\n",
      "'cơ sở bán buôn thuốc, nguyên liệu làm thuốc': 49 lần\n",
      "'doanh nghiệp xuất khẩu, nhập khẩu thuốc': 39 lần\n",
      "'cơ sở sản xuất thuốc đông y, thuốc từ dược liệu': 34 lần\n",
      "'cơ sở bán buôn nguyên liệu làm thuốc': 21 lần\n",
      "'cơ sở bán buôn dược liệu, thuốc đông y, thuốc từ dược liệu': 18 lần\n",
      "'cơ sở chuyên bán lẻ thuốc dược liệu, thuốc cổ truyền': 14 lần\n",
      "'nhà thuốc. cơ sở chuyên bán lẻ dược liệu, thuốc dược liệu, thuốc cổ truyền': 8 lần\n",
      "'nhà thuốc bệnh viện công lập': 7 lần\n",
      "'cơ sở chuyên bán lẻ dược liệu': 7 lần\n",
      "'cơ sở bán buôn dược liệu': 5 lần\n",
      "'kệ thuốc': 3 lần\n",
      "'doanh nghiệp bán buôn dược liệu, thuốc đông y, thuốc từ dược liệu': 3 lần\n",
      "'doanh nghiệp kinh doanh thuốc': 3 lần\n",
      "'cơ sở xuất nhập khẩu thuốc': 2 lần\n",
      "'doanh nghiệp bảo quản thuốc': 2 lần\n",
      "'cơ sở chuyên bán lẻ dược liệu, vị thuốc cổ truyền': 2 lần\n",
      "'nhà thuốc bệnh viện ngoài công lập': 2 lần\n",
      "'doanh nghiệp sản xuất thuốc dùng ngoài từ dược liệu': 2 lần\n",
      "'doanh nghiệp bán buôn thuốc, vắc xin, sinh phẩm y tế': 1 lần\n",
      "'doanh nghiệp sản xuất, bán buôn thuốc': 1 lần\n",
      "'cơ sở chuyên bán lẻ dược liệu, thuốc cổ truyền': 1 lần\n",
      "'cơ sở bán lẻ dược liệu, thuốc dược liệu, thuốc cổ truyền': 1 lần\n",
      "'doanh nghiệp bán buôn sinh phẩm y tế': 1 lần\n",
      "'cơ sở bán buôn thuốc. cơ sở bán buôn nguyên liệu làm thuốc': 1 lần\n",
      "'doanh nghiệp bán buôn vắc xin, sinh phẩm y tế': 1 lần\n"
     ]
    }
   ],
   "source": [
    "unique_counts = data['LOAIHINHHN'].value_counts()\n",
    "\n",
    "for value, count in unique_counts.items():\n",
    "    print(f\"'{value}': {count} lần\")"
   ]
  },
  {
   "cell_type": "code",
   "execution_count": 14,
   "metadata": {},
   "outputs": [
    {
     "data": {
      "text/plain": [
       "LOAIHINHHN        0\n",
       "PHAMVIHN          0\n",
       "TENCOSO           0\n",
       "DUONG             0\n",
       "PHUONG           33\n",
       "QUAN              0\n",
       "CVXLCCHN       3745\n",
       "SOCCHN            0\n",
       "NGCAPCCHN       221\n",
       "NOICAPCCHN        1\n",
       "SODDK             2\n",
       "SOGCN           723\n",
       "GPP_GDP_GSP     723\n",
       "NGAYCAPGCN     4545\n",
       "NGAYHHGCN      4869\n",
       "dtype: int64"
      ]
     },
     "execution_count": 14,
     "metadata": {},
     "output_type": "execute_result"
    }
   ],
   "source": [
    "data.isna().sum()"
   ]
  },
  {
   "cell_type": "markdown",
   "metadata": {},
   "source": [
    "### Kiểm tra các giá trị trong cột `PHAMVIHN`"
   ]
  },
  {
   "cell_type": "code",
   "execution_count": 15,
   "metadata": {},
   "outputs": [
    {
     "name": "stdout",
     "output_type": "stream",
     "text": [
      "['Bán lẻ thuốc thành phẩm thuộc danh mục thuốc thiết yếu (trừ thuốc gây nghiện, thuốc hướng tâm thần và tiền chất dùng làm thuốc và các thuốc kê đơn).'\n",
      " 'Bán lẻ thuốc hóa dược, thuốc dược liệu, thuốc cổ truyền, sinh phẩm bảo quản điều kiện thường (Có bao gồm thuốc phải kiểm soát đặc biệt: Thuốc dạng phối hợp có chứa dược chất gây nghiện; Thuốc dạng phối hợp có chứa dược chất hướng thần; Thuốc dạng phối hợp có chứa tiền chất; Thuốc độc; Thuốc trong danh mục thuốc, dược chất thuộc danh mục chất bị cấm sử dụng trong một số ngành, lĩnh vực).'\n",
      " 'Bán lẻ thuốc thành phẩm'\n",
      " 'Bán lẻ thuốc hóa dược, thuốc dược liệu, thuốc cổ truyền, sinh phẩm (Có bao gồm thuốc phải kiểm soát đặc biệt: Thuốc dạng phối hợp có chứa dược chất gây nghiện; Thuốc dạng phối hợp có chứa dược chất hướng thần; thuốc dạng phối hợp có chứa tiền chất; Thuốc độc; Thuốc trong danh mục thuốc, dược chất thuộc danh mục chất bị cấm sử dụng trong một số ngành, lĩnh vực).'\n",
      " 'Bán lẻ thuốc hóa dược, thuốc dược liệu, thuốc cổ truyền, sinh phẩm bảo quản ở điều kiện thường (Có bao gồm thuốc phải kiểm soát đặc biệt: Thuốc dạng phối hợp có chứa dược chất gây nghiện; Thuốc dạng phối hợp có chứa dược chất hướng thần; Thuốc dạng phối hợp có chứa tiền chất; Thuốc độc; Thuốc trong danh mục thuốc, dược chất thuộc danh mục chất bị cấm sử dụng trong một số ngành, lĩnh vực).'\n",
      " 'Bán lẻ thuốc hóa dược, thuốc dược liệu, thuốc cổ truyền, sinh phẩm (Có bao gồm thuốc phải kiểm soát đặc biệt: Thuốc dạng phối hợp có chứa dược chất gây nghiện; Thuốc dạng phối hợp có chứa dược chất hướng thần; Thuốc dạng phối hợp có chứa tiền chất; Thuốc độc; Thuốc trong danh mục thuốc, dược chất thuộc danh mục chất bị cấm sử dụng trong một số ngành, lĩnh vực).'\n",
      " 'Bán buôn thuốc hóa dược, thuốc dược liệu, thuốc cổ truyền, sinh phẩm bảo quản điều kiện thường (Có bao gồm thuốc phải kiểm soát đặc biệt: Thuốc dạng phối hợp có chứa dược chất gây nghiện; Thuốc dạng phối hợp có chứa dược chất hướng thần; Thuốc dạng phối hợp có chứa tiền chất; Thuốc độc; Thuốc trong danh mục thuốc, dược chất thuộc danh mục chất bị cấm sử dụng trong một số ngành, lĩnh vực).'\n",
      " 'Bán lẻ thuốc hóa dược, thuốc dược liệu, thuốc cổ truyền, sinh phẩm bảo quản ở điều kiện thường (Có bao gồm thuốc phải kiểm soát đặc biệt: Thuốc dạng phối hợp có chứa dược chất gây nghiện; Thuốc dạng phối hợp có chứa dược chất hướng thần; thuốc dạng phối hợp có chứa tiền chất; Thuốc độc; Thuốc trong danh mục thuốc, dược chất thuộc danh mục chất bị cấm sử dụng trong một số ngành, lĩnh vực).'\n",
      " 'Sản xuất thuốc đông y, thuốc từ dược liệu (dạng thuốc nước, viên hoàn mềm, viên hoàn cứng, thuốc bột)'\n",
      " 'Bán buôn thuốc thành phẩm'\n",
      " 'Bán lẻ dược liệu, thuốc dược liệu, thuốc cổ truyền.'\n",
      " 'Bán lẻ thuốc hóa dược, thuốc dược liệu, thuốc cổ truyền và sinh phẩm bảo quản điều kiện thường (Có bao gồm Thuốc phải kiểm soát đặc biệt: thuốc dạng phối hợp có chứa dược chất gây nghiện, thuốc dạng phối hợp có chứa dược chất hướng thần, thuốc dạng phối hợp có chứa tiền chất; thuốc độc; thuốc trong danh mục thuốc, dược chất thuộc danh mục chất bị cấm sử dụng trong một số ngành, lĩnh vực)'\n",
      " 'Bán buôn thuốc hóa dược, thuốc dược liệu, thuốc cổ truyền, sinh phẩm bảo quản ở điều kiện thường (Có bao gồm thuốc phải kiểm soát đặc biệt: Thuốc trong danh mục thuốc, dược chất thuộc danh mục chất bị cấm sử dụng trong một số ngành, lĩnh vực).'\n",
      " 'Bán lẻ thuốc trừ vắc xin.'\n",
      " 'Bán buôn thuốc thành phẩm do Công ty TNHH Dược phẩm SHINPOONG DAEWOO (hoạt động theo giấy chứng nhận đầu tư số 472023000345 chứng nhận lần đầu ngày 4/10/1996, chứng nhận thay đổi lần thứ 10 ngày 09/3/2015 do Ban Quản lý các KCN tỉnh Đồng Nai cấp) sản xuất'\n",
      " 'Bán buôn thuốc hóa dược, thuốc dược liệu, thuốc cổ truyền, sinh phẩm bảo quản điều kiện thường (Không bao gồm thuốc phải kiểm soát đặc biệt).'\n",
      " 'Bán buôn thuốc hóa dược, thuốc dược liệu, thuốc cổ truyền và sinh phẩm bảo quản điều kiện thường (Có bao gồm Thuốc phải kiểm soát đặc biệt: thuốc dạng phối hợp có chứa dược chất gây nghiện, thuốc dạng phối hợp có chứa dược chất hướng thần, thuốc dạng phối hợp có chứa tiền chất; thuốc độc; thuốc trong danh mục thuốc, dược chất thuộc danh mục chất bị cấm sử dụng trong một số ngành, lĩnh vực)'\n",
      " 'Xuất khẩu, nhập khẩu thuốc thành phẩm'\n",
      " 'Bán buôn thuốc hóa dược, thuốc dược liệu, thuốc cổ truyền, sinh phẩm bảo quản ở điều kiện thường (Có bao gồm thuốc phải kiểm soát đặc biệt: Thuốc dạng phối hợp có chứa dược chất gây nghiện; Thuốc dạng phối hợp có chứa dược chất hướng thần; Thuốc dạng phối hợp có chứa tiền chất; Thuốc độc; Thuốc trong danh mục thuốc, dược chất thuộc danh mục chất bị cấm sử dụng trong một số ngành, lĩnh vực).'\n",
      " 'Bán buôn thuốc hóa dược, thuốc dược liệu, thuốc cổ truyền, sinh phẩm bảo quản điều kiện thường (không bao gồm thuốc phải kiểm soát đặc biệt).'\n",
      " 'Bán lẻ thuốc hóa dược, thuốc dược liệu, thuốc cổ truyền, sinh phẩm bảo quản điều kiện thường (Có bao gồm thuốc phải kiểm soát đặc biệt: Thuốc dạng phối hợp có chứa dược chất gây nghiện, thuốc dạng phối hợp có chứa dược chất hướng thần, thuốc dạng phối hợp có chứa tiền chất; Thuốc độc; Thuốc thuộc danh mục chất bị cấm sử dụng trong một số ngành, lĩnh vực).'\n",
      " 'Bán lẻ thuốc hóa dược, thuốc dược liệu, thuốc cổ truyền, sinh phẩm bảo quản ở điều kiện thường (Không bao gồm thuốc phải kiểm soát đặc biệt).'\n",
      " 'Xuất nhập khẩu thuốc (QĐ số 4570/QĐ-BYT ngày 27/09/2021 của BYT)'\n",
      " 'Bán lẻ thuốc hóa dược, thuốc dược liệu, thuốc cổ truyền, sinh phẩm bảo quản ở điều kiện thường. (Có bao gồm thuốc phải kiểm soát đặc biệt: Thuốc dạng phối hợp có chứa dược chất gây nghiện; Thuốc dạng phối hợp có chứa dược chất hướng thần; Thuốc dạng phối hợp có chứa tiền chất; Thuốc độc; Thuốc trong danh mục thuốc, dược chất thuộc danh mục chất bị cấm sử dụng trong một số ngành, lĩnh vực)'\n",
      " 'Bán lẻ thuốc hóa dược, thuốc dược liệu, thuốc cổ truyền và sinh phẩm (Có bao gồm Thuốc phải kiểm soát đặc biệt: thuốc dạng phối hợp có chứa dược chất gây nghiện, thuốc dạng phối hợp có chứa dược chất hướng thần, thuốc dạng phối hợp có chứa tiền chất; thuốc độc; thuốc trong danh mục thuốc, dược chất thuộc danh mục chất bị cấm sử dụng trong một số ngành, lĩnh vực)'\n",
      " 'Bán buôn thuốc hóa dược, thuốc dược liệu, thuốc cổ truyền.'\n",
      " 'Bán lẻ thuốc hóa dược, thuốc dược liệu, thuốc cổ truyền, sinh phẩm bảo quản điều kiện thường (Có bao gồm thuốc phải kiểm soát đặc biệt: Thuốc dạng phối hợp có chứa dược chất gây nghiện; Thuốc dạng phối hợp có chứa dược chất hướng thần; Thuốc dạng phối hợp có chứa tiền chất; Thuốc trong danh mục thuốc, dược chất thuộc danh mục chất bị cấm sử dụng trong một số ngành, lĩnh vực).'\n",
      " 'Bán buôn thuốc hóa dược, thuốc dược liệu, thuốc cổ truyền, sinh phẩm bảo quản điều kiện thường (Có bao gồm thuốc phải kiểm soát đặc biệt: Thuốc hướng thần; Thuốc dạng phối hợp có chứa dược chất gây nghiện; Thuốc dạng phối hợp có chứa dược chất hướng thần; Thuốc dạng phối hợp có chứa tiền chất; Thuốc độc; Thuốc trong danh mục thuốc, dược chất thuộc danh mục chất bị cấm sử dụng trong một số ngành, lĩnh vực).'\n",
      " 'Bán lẻ thuốc hóa dược, thuốc dược liệu, thuốc cổ truyền, sinh phẩm (Có bao gồm thuốc phải kiểm soát đặc biệt: Thuốc hướng thần; Thuốc tiền chất; Thuốc dạng phối hợp có chứa dược chất gây nghiện; Thuốc dạng phối hợp có chứa dược chất hướng thần; Thuốc dạng phối hợp có chứa tiền chất; Thuốc độc; Thuốc trong danh mục thuốc, dược chất thuộc danh mục chất bị cấm sử dụng trong một số ngành, lĩnh vực).'\n",
      " 'Bán lẻ thuốc hóa dược, thuốc dược liệu, thuốc cổ truyền, sinh phẩm bảo quản điều kiện thường (Có bao gồm thuốc phải kiểm soát đặc biệt: Thuốc dạng phối hợp có chứa dược chất gây nghiện, thuốc dạng phối hợp có chứa dược chất hướng thần, thuốc dạng phối hợp có chứa tiền chất; Thuốc độc; Thuốc trong danh mục thuốc, dược chất thuộc danh mục chất bị cấm sử dụng trong một số ngành, lĩnh vực).'\n",
      " 'Bán buôn thuốc hóa dược và sinh phẩm (Không bao gồm thuốc phải kiểm soát đặc biệt).'\n",
      " 'Bán buôn thuốc hóa dược, thuốc dược liệu, thuốc cổ truyền, vắc xin và sinh phẩm (Không bao gồm thuốc phải kiểm soát đặc biệt).'\n",
      " 'Bán buôn thuốc hóa dược, thuốc dược liệu, thuốc cổ truyền, sinh phẩm bảo quản ở điều kiện thường (Có bao gồm thuốc phải kiểm soát đặc biệt: Thuốc độc; Thuốc trong danh mục thuốc, dược chất thuộc danh mục chất bị cấm sử dụng trong một số ngành, lĩnh vực).'\n",
      " 'Bán buôn thuốc hóa dược, thuốc dược liệu, thuốc cổ truyền, sinh phẩm bảo quản điều kiện thường (Có bao gồm thuốc phải kiểm soát đặc biệt: Thuốc độc; Thuốc trong danh mục thuốc, dược chất thuộc danh mục chất bị cấm sử dụng trong một số ngành, lĩnh vực).'\n",
      " 'Sản xuất thuốc đông y, thuốc từ dược liệu (thuốc nước, viên hoàn cứng, hoàn mềm)'\n",
      " 'Bán buôn thuốc hóa dược, thuốc dược liệu, sinh phẩm bảo quản điều kiện thường (Có bao gồm thuốc phải kiểm soát đặc biệt: Thuốc dạng phối hợp có chứa dược chất gây nghiện; Thuốc dạng phối hợp có chứa dược chất hướng thần; Thuốc dạng phối hợp có chứa tiền chất; Thuốc độc; Thuốc trong danh mục thuốc, dược chất thuộc danh mục chất bị cấm sử dụng trong một số ngành, lĩnh vực).'\n",
      " 'Bán buôn thuốc hóa dược, thuốc dược liệu, thuốc cổ truyền (Không bao gồm thuốc phải kiểm soát đặc biệt).'\n",
      " 'Bán lẻ thuốc hóa dược, thuốc dược liệu, thuốc cổ truyền, sinh phẩm (Có bao gồm thuốc phải kiểm soát đặc biệt: Thuốc gây nghiện; Thuốc hướng thần; Thuốc tiền chất; Thuốc dạng phối hợp có chứa dược chất gây nghiện; Thuốc dạng phối hợp có chứa dược chất hướng thần; Thuốc dạng phối hợp có chứa tiền chất; Thuốc độc; Thuốc trong danh mục thuốc, dược chất thuộc danh mục chất bị cấm sử dụng trong một số ngành, lĩnh vực).'\n",
      " 'Bán lẻ thuốc hóa dược, thuốc dược liệu (Có bao gồm thuốc phải kiểm soát đặc biệt: Thuốc trong danh mục thuốc, dược chất thuộc danh mục chất bị cấm sử dụng trong một số ngành, lĩnh vực).'\n",
      " 'Bán lẻ thuốc dược liệu, thuốc cổ truyền.'\n",
      " 'Bán lẻ thuốc hóa dược, thuốc dược liệu, thuốc cổ truyền, sinh phẩm bảo quản điều kiện thường (Có bao gồm thuốc phải kiểm soát đặc biệt: Thuốc dạng phối hợp có chứa dược chất gây nghiện; Thuốc dạng phối hợp có chứa dược chất hướng thần; Thuốc dạng phối hợp có chứa tiền chất; Thuốc độc; Thuốc trong danh mục thuốc, dược chất thuộc danh mục chất bị cấm sử dụng trong một số ngành, lĩnh vực).'\n",
      " 'Bán lẻ thuốc đông y, thuốc từ dược liệu.'\n",
      " 'Bán buôn thuốc hóa dược, thuốc dược liệu, thuốc cổ truyền và sinh phẩm bảo quản ở điều kiện thường. (Không bao gồm thuốc phải kiểm soát đặc biệt).'\n",
      " 'Bán lẻ thuốc hóa dược, thuốc dược liệu, thuốc cổ truyền, sinh phẩm bảo quản điều kiện thường (Có bao gồm thuốc phải kiểm soát đặc biệt: Thuốc dạng phối hợp có chứa dược chất gây nghiện; Thuốc dạng phối hợp có chứa dược chất hướng thần; thuốc dạng phối hợp có chứa tiền chất; Thuốc độc; Thuốc trong danh mục thuốc, dược chất thuộc danh mục chất bị cấm sử dụng trong một số ngành, lĩnh vực).'\n",
      " 'Bán lẻ thuốc đông y, thuốc từ dược liệu'\n",
      " 'Bán buôn thuốc hóa dược, thuốc dược liệu, thuốc cổ truyền, sinh phẩm bảo quản ở điều kiện thường (Có bao gồm thuốc phải kiểm soát đặc biệt: Thuốc dạng phối hợp có chứa dược chất gây nghiện; Thuốc độc; Thuốc trong danh mục thuốc, dược chất thuộc danh mục chất bị cấm sử dụng trong một số ngành, lĩnh vực).'\n",
      " 'Bán buôn thuốc hóa dược, thuốc dược liệu, thuốc cổ truyền và sinh phẩm (Có bao gồm thuốc phải kiểm soát đặc biệt: Thuốc dạng phối hợp có chứa dược chất gây nghiện; Thuốc dạng phối hợp có chứa dược chất hướng thần; Thuốc dạng phối hợp có chứa tiền chất; Thuốc độc; Thuốc trong danh mục thuốc, dược chất thuộc danh mục chất bị cấm sử dụng trong một số ngành, lĩnh vực).'\n",
      " 'Bán buôn thuốc hóa dược, thuốc dược liệu, thuốc cổ truyền và sinh phẩm bảo quản điều kiện thường (Không bao gồm Thuốc phải kiểm soát đặc biệt)'\n",
      " 'Bán lẻ thuốc hóa dược, thuốc dược liệu, thuốc cổ truyền, sinh phẩm bảo quản điều kiện thường (Không bao gồm thuốc phải kiểm soát đặc biệt).'\n",
      " 'Bán lẻ thuốc hóa dược, thuốc dược liệu, thuốc cổ truyền, sinh phẩm bảo quản ở điều kiện thường (Bao gồm thuốc phải kiểm soát đặc biệt: Thuốc dạng phối hợp có chứa dược chất gây nghiện; Thuốc dạng phối hợp có chứa dược chất hướng thần; thuốc dạng phối hợp có chứa tiền chất; Thuốc độc; Thuốc trong danh mục thuốc, dược chất thuộc danh mục chất bị cấm sử dụng trong một số ngành, lĩnh vực).'\n",
      " 'Bán buôn thuốc thành phẩm, vắc xin, sinh phẩm y tế'\n",
      " 'Sản xuất thuốc đông y, thuốc từ dược liệu (hoàn cứng, hoàn mềm)'\n",
      " 'Sản xuất thuốc đông y, thuốc từ dược liệu (dạng thuốc nước uống)'\n",
      " 'Bán buôn thuốc hóa dược, thuốc dược liệu, thuốc cổ truyền (Có bao gồm thuốc phải kiểm soát đặc biệt: Thuốc dạng phối hợp có chứa dược chất gây nghiện; Thuốc dạng phối hợp có chứa dược chất hướng thần; Thuốc dạng phối hợp có chứa tiền chất; Thuốc độc; Thuốc trong danh mục thuốc, dược chất thuộc danh mục chất bị cấm sử dụng trong một số ngành, lĩnh vực).'\n",
      " 'Bán lẻ thuốc (Theo danh mục thuốc bán tại kệ thuốc căn cứ Thông tư số 07/TT-BYT ngày 12 tháng 4 năm 2018 của Bộ trưởng Bộ Y tế)'\n",
      " 'Sản xuất thuốc đông y, thuốc từ dược liệu (dạng thuốc bột, viên hoàn mềm)'\n",
      " 'Bán buôn thuốc hóa dược, thuốc dược liệu, thuốc cổ truyền và sinh phẩm bảo quản điều kiện thường (Có bao gồm Thuốc phải kiểm soát đặc biệt: thuốc trong danh mục thuốc, dược chất thuộc danh mục chất bị cấm sử dụng trong một số ngành, lĩnh vực)'\n",
      " 'Bán lẻ thuốc thành phẩm thuộc danh mục thuốc thiết yếu (trừ thuốc gây nghiện, thuốc hướng tâm thần và tiền chất dùng làm thuốc và các thuốc kê đơn)'\n",
      " 'Bán lẻ dược liệu, thuốc dược liệu, thuốc cổ truyền' 'Bán buôn dược liệu'\n",
      " 'Bán buôn thuốc hóa dược (Không bao gồm thuốc phải kiểm soát đặc biệt).'\n",
      " 'Bán lẻ thuốc hóa dược, thuốc dược liệu, thuốc cổ truyền và sinh phẩm (Có bao gồm: Thuốc dạng phối hợp có chứa dược chất gây nghiện; Thuốc dạng phối hợp có chứa dược chất hướng thần; Thuốc dạng phối hợp có chứa tiền chất; Thuốc độc; Thuốc trong danh mục thuốc, dược chất thuộc danh mục chất bị cấm sử dụng trong một số ngành, lĩnh vực).'\n",
      " 'Xuất khẩu, nhập khẩu dược liệu, thuốc đông y, thuốc từ dược liệu'\n",
      " 'Bán buôn thuốc hóa dược, thuốc dược liệu, thuốc cổ truyền, sinh phẩm bảo quản điều kiện thường (Có bao gồm thuốc phải kiểm soát đặc biệt: Thuốc độc, thuốc thuộc danh mục thuốc, dược chất bị cấm sử dụng trong một số ngành, lĩnh vực).'\n",
      " 'Bán buôn thuốc hóa dược, thuốc dược liệu, thuốc cổ truyền, sinh phẩm bảo quản ở điều kiện thường.'\n",
      " 'Sản xuất thuốc bột, viên hoàn cứng và thuốc nước uống'\n",
      " 'Bán lẻ thuốc hóa dược, thuốc dược liệu, thuốc cổ truyền và sinh phẩm (Có bao gồm Thuốc phải kiểm soát đặc biệt: thuốc gây nghiện, thuốc hướng thần, thuốc tiền chất, thuốc dạng phối hợp có chứa dược chất gây nghiện, thuốc dạng phối hợp có chứa dược chất hướng thần, thuốc dạng phối hợp có chứa tiền chất; thuốc độc; thuốc trong danh mục thuốc, dược chất thuộc danh mục chất bị cấm sử dụng trong một số ngành, lĩnh vực)'\n",
      " 'Bán lẻ thuốc hóa dược, thuốc dược liệu, thuốc cổ truyền, sinh phẩm bảo quản điều kiện thường (Có bao gồm thuốc phải kiểm soát đặc biệt: Thuốc trong danh mục thuốc, dược chất thuộc danh mục chất bị cấm sử dụng trong một số ngành, lĩnh vực).'\n",
      " 'Bán buôn thuốc hóa dược, thuốc dược liệu, thuốc cổ truyền, sinh phẩm bảo quản ở điều kiện thường (không bao gồm thuốc phải kiểm soát đặc biệt).'\n",
      " 'Bán buôn thuốc hóa dược, thuốc dược liệu, thuốc cổ truyền, sinh phẩm bảo quản ở điều kiện thường (Không bao gồm thuốc phải kiểm soát đặc biệt).'\n",
      " 'Bán buôn nguyên liệu làm thuốc: Dược chất, tá dược (Không bao gồm nguyên liệu nhóm Beta-lactam và nguyên liệu làm thuốc phải kiểm soát đặc biệt).'\n",
      " 'Bán buôn thuốc thuốc hóa dược, thuốc dược liệu, thuốc cổ truyền và sinh phẩm bảo quản ở điều kiện thường'\n",
      " 'Bán lẻ thuốc hóa dược, thuốc dược liệu, thuốc cổ truyền, sinh phẩm bảo quản ở điều kiện thường (Có bao gồm thuốc phải kiểm soát đặc biệt: Thuốc dạng phối hợp có chứa dược chất gây nghiện; Thuốc dạng phối hợp có chứa dược chất hướng thần; Thuốc dạng phối h'\n",
      " 'Bán buôn thuốc hóa dược, thuốc dược liệu, thuốc cổ truyền, sinh phẩm bảo quản ở điều kiện thường (Có bao gồm thuốc phải kiểm soát đặc biệt: Thuốc dạng phối hợp có chứa dược chất gây nghiện; Thuốc dạng phối hợp có chứa dược chất hướng thần; thuốc dạng phối hợp có chứa tiền chất; Thuốc độc; Thuốc trong danh mục thuốc, dược chất thuộc danh mục chất bị cấm sử dụng trong một số ngành, lĩnh vực).'\n",
      " 'Sản xuất viên hoàn cứng, thuốc nước, thuốc bột'\n",
      " 'Bán buôn thuốc hóa dược, thuốc dược liệu, thuốc cổ truyền, sinh phẩm bảo quản ở điều kiện thường (Không bao gồm thuốc phải kiểm soát đặc biệt)'\n",
      " 'Bán lẻ thuốc hóa dược, thuốc dược liệu, thuốc cổ truyền, sinh phẩm bảo quản điều kiện thường (Có bao gồm thuốc phải kiểm soát đặc biệt: Thuốc dạng phối hợp có chứa dược chất gây nghiện; Thuốc dạng phối hợp có chứa dược chất hướng thần; Thuốc dạng phối hợp'\n",
      " 'Bán buôn thuốc hóa dược, thuốc dược liệu, thuốc cổ truyền, vắc xin, sinh phẩm (Có bao gồm thuốc phải kiểm soát đặc biệt: Thuốc gây nghiện; Thuốc hướng thần; Thuốc tiền chất; Thuốc dạng phối hợp có chứa dược chất gây nghiện; Thuốc dạng phối hợp có chứa dược chất hướng thần; Thuốc dạng phối hợp có chứa tiền chất; Thuốc độc; Thuốc trong danh mục thuốc, dược chất thuộc danh mục chất bị cấm sử dụng trong một số ngành, lĩnh vực, không bao gồm thuốc phóng xạ); và nguyên liệu làm thuốc (Có bao gồm nguyên liệu làm thuốc phải kiểm soát đặc biệt: Nguyên liệu độc làm thuốc, dược chất trong danh mục thuốc, dược chất thuộc danh mục chất bị cấm sử dụng trong một số ngành, lĩnh vực; không bao gồm nguyên liệu chứa kháng sinh nhóm β - Lactam, dược liệu, chất phóng xạ để sản xuất thuốc).'\n",
      " 'Bán lẻ thuốc dược liệu, thuốc cổ truyền'\n",
      " 'Sản xuất thuốc dùng ngoài từ dược liệu (thuốc bột dùng ngoài và cồn xoa bóp)'\n",
      " 'Bán lẻ thuốc hóa dược, thuốc dược liệu, thuốc cổ truyền, sinh phẩm bảo quản ở điều kiện thường (Có bao gồm thuốc phải kiểm soát đặc biệt: thuốc dạng phối hợp có chứa dược chất gây nghiện, thuốc dạng phối hợp có chứa dược chất hướng thần, thuốc dạng phối hợp có chứa tiền chất, thuốc độc, thuốc trong danh mục thuốc, dược chất thuộc danh mục chất bị cấm sử dụng trong một số ngành, lĩnh vực).'\n",
      " 'Bán buôn thuốc hóa dược, thuốc dược liệu, thuốc cổ truyền, sinh phẩm bảo quản điều kiện thường (Có bao gồm thuốc phải kiểm soát đặc biệt: Thuốc trong danh mục thuốc, dược chất thuộc danh mục chất bị cấm sử dụng trong một số ngành, lĩnh vực).'\n",
      " 'Bán buôn thuốc hóa dược, thuốc dược liệu, thuốc cổ truyền, sinh phẩm bảo quản ở điều kiện thường (Có bao gồm thuốc phải kiểm soát đặc biệt: Thuốc gây nghiện; Thuốc hướng thần; Thuốc tiền chất; Thuốc dạng phối hợp có chứa dược chất gây nghiện; Thuốc dạng phối hợp có chứa dược chất hướng thần; Thuốc dạng phối hợp có chứa tiền chất; Thuốc độc; Thuốc trong danh mục thuốc, dược chất thuộc danh mục chất bị cấm sử dụng trong một số ngành, lĩnh vực).'\n",
      " 'Bán lẻ thuốc hóa dược, thuốc dược liệu, thuốc cổ truyền, sinh phẩm bảo quản điều kiện thường (Có bao gồm thuốc phải kiểm soát đặc biệt: Thuốc dạng phối hợp có chứa dược chất gây nghiện; Thuốc dạng phối hợp có chứa tiền chất; Thuốc độc; Thuốc trong danh mục thuốc, dược chất thuộc danh mục chất bị cấm sử dụng trong một số ngành, lĩnh vực).'\n",
      " 'Bán lẻ thuốc hóa dược, thuốc dược liệu, thuốc cổ truyền, sinh phẩm bảo quản ở điều kiện thường (Có bao gồm thuốc phải kiểm soát đặc biệt: Thuốc trong danh mục thuốc, dược chất thuộc danh mục chất bị cấm sử dụng trong một số ngành, lĩnh vực).'\n",
      " 'Bán buôn thuốc dược liệu, thuốc cổ truyền (Không bao gồm thuốc phải kiểm soát đặc biệt).'\n",
      " 'Bán buôn thuốc hóa dược, thuốc dược liệu, thuốc cổ truyền, sinh phẩm bảo quản ở điều kiện thường. (Không bao gồm thuốc phải kiểm soát đặc biệt).'\n",
      " 'Bán buôn thuốc hóa dược, thuốc dược liệu, thuốc cổ truyền, vắc xin, sinh phẩm (Có bao gồm thuốc phải kiểm soát đặc biệt: Thuốc dạng phối hợp có chứa dược chất gây nghiện; Thuốc dạng phối hợp có chứa dược chất hướng thần; Thuốc dạng phối hợp có chứa tiền chất; Thuốc độc; Thuốc trong danh mục thuốc, dược chất thuộc danh mục chất bị cấm sử dụng trong một số ngành, lĩnh vực); Nguyên liệu làm thuốc: Dược chất, tá dược (Có bao gồm nguyên liệu phải kiểm soát đặc biệt: Dược chất trong danh mục thuốc, dược chất thuộc danh mục chất bị cấm sử dụng trong một số ngành, lĩnh vực; Không bao gồm nguyên liệu nhóm Beta - Lactam).'\n",
      " 'Bán lẻ thuốc hóa dược, thuốc dược liệu, thuốc cổ truyền, sinh phẩm bảo quản điều kiện thường (Có bao gồm thuốc phải kiểm soát đặc biệt: Thuốc dạng phối hợp có chứa dược chất gây nghiện; Thuốc dạng phối hợp có chứa dược chất hướng thần; Thuốc dạng phối hợp có chứa tiền chất; Thuốc độc; Thuốc trong danh mục thuốc, dược chất thuộc danh mục chất bị cấm sử dụng trong một số ngành, lĩnh vực)'\n",
      " 'Bán lẻ thuốc hóa dược, thuốc dược liệu, thuốc cổ truyền, sinh phẩm (Có bao gồm thuốc phải kiểm soát đặc biệt: Thuốc dạng phối hợp có chứa dược chất gây nghiện; Thuốc dạng phối hợp có chứa dược chất hướng thần; Thuốc độc; Thuốc trong danh mục thuốc, dược chất thuộc danh mục chất bị cấm sử dụng trong một số ngành, lĩnh vực).'\n",
      " 'Sản xuất thuốc đông y, thuốc từ dược liệu (viên hoàn cứng)'\n",
      " 'Bán lẻ thuốc hóa dược, thuốc dược liệu, thuốc cổ truyền, sinh phẩm (Có bao gồm thuốc phải kiểm soát đặc biệt: thuốc dạng phối hợp có chứa dược chất gây nghiện, thuốc dạng phối hợp có chứa dược chất hướng thần, thuốc dạng phối hợp có chứa tiền chất; thuốc độc; thuốc trong danh mục thuốc, dược chất thuộc danh mục chất bị cấm sử dụng trong một số ngành, lĩnh vực).'\n",
      " 'Bán buôn thuốc hóa dược, thuốc dược liệu, thuốc cổ truyền và sinh phẩm bảo quản ở điều kiện thường (Không bao gồm thuốc phải kiểm soát đặc biệt).'\n",
      " 'Bán buôn thuốc hóa dược, thuốc dược liệu, thuốc cổ truyền, vắc xin và sinh phẩm (Có bao gồm thuốc phải kiểm soát đặc biệt: Thuốc dạng phối hợp có chứa dược chất gây nghiện; Thuốc dạng phối hợp có chứa dược chất hướng thần; Thuốc dạng phối hợp có chứa tiền chất; Thuốc độc; Thuốc trong danh mục thuốc, dược chất thuộc danh mục chất bị cấm sử dụng trong một số ngành, lĩnh vực).'\n",
      " 'Bán buôn dược liệu, thuốc đông y, thuốc từ dược liệu'\n",
      " 'Bán buôn nguyên liệu làm thuốc: Dược chất, Tá dược (Không bao gồm nguyên liệu Beta- Lactam, nguyên liệu vô trùng; Có bao gồm nguyên liệu độc làm thuốc, nguyên liệu làm thuốc là dược chất thuộc danh mục thuốc, dược chất thuộc danh mục chất bị cấm sử dụng trong một số ngành, lĩnh vực).'\n",
      " 'Bán lẻ thuốc hóa dược, thuốc dược liệu, thuốc cổ truyền, sinh phẩm. (Có bao gồm thuốc phải kiểm soát đặc biệt: Thuốc dạng phối hợp có chứa dược chất gây nghiện; Thuốc dạng phối hợp có chứa dược chất hướng thần; Thuốc dạng phối hợp có chứa tiền chất; Thuốc độc; Thuốc trong danh mục thuốc, dược chất thuộc danh mục chất bị cấm sử dụng trong một số ngành, lĩnh vực).'\n",
      " 'Bán lẻ thuốc hóa dược, thuốc dược liệu, thuốc cổ truyền, sinh phẩm bảo quản ở điều kiện thường (Không bao gồm thuốc phải kiểm soát đặc biệt)'\n",
      " 'Bán buôn dược liệu, vị thuốc cổ truyền; Bán buôn thuốc hóa dược, thuốc dược liệu, thuốc cổ truyền, sinh phẩm bảo quản điều kiện thường (Có bao gồm thuốc phải kiểm soát đặc biệt: Thuốc dạng phối hợp có chứa dược chất gây nghiện; Thuốc dạng phối hợp có chứa dược chất hướng thần; Thuốc dạng phối hợp có chứa tiền chất; Thuốc độc; Thuốc trong danh mục thuốc, dược chất thuộc danh mục chất bị cấm sử dụng trong một số ngành, lĩnh vực).'\n",
      " 'Bán buôn thuốc hóa dược, thuốc dược liệu, thuốc cổ truyền và sinh phẩm bảo quản ở điều kiện thường (Có bao gồm thuốc phải kiểm soát đặc biệt: Thuốc dạng phối hợp có chứa dược chất gây nghiện; Thuốc dạng phối hợp có chứa dược chất hướng thần; Thuốc dạng phối hợp có chứa tiền chất; Thuốc trong danh mục thuốc, dược chất thuộc danh mục chất bị cấm sử dụng trong một số ngành, lĩnh vực).'\n",
      " 'Bán lẻ thuốc hóa dược, thuốc dược liệu, thuốc cổ truyền (Không bao gồm thuốc phải kiểm soát đặc biệt).'\n",
      " 'Bán buôn thuốc hóa dược, thuốc dược liệu, thuốc cổ truyền, sinh phẩm bảo quản điều kiện thường (Có bao gồm thuốc phải kiểm soát đặc biệt: Thuốc dạng phối hợp có chứa dược chất gây nghiện; Thuốc dạng phối hợp có chứa dược chất hướng thần; Thuốc dạng phối hợp có chứa tiền chất; Thuốc trong danh mục thuốc, dược chất thuộc danh mục chất bị cấm sử dụng trong một số ngành, lĩnh vực).'\n",
      " 'Bán lẻ thuốc hóa dược, thuốc dược liệu, thuốc cổ truyền (Có bao gồm thuốc phải kiểm soát đặc biệt: Thuốc dạng phối hợp có chứa dược chất gây nghiện; Thuốc dạng phối hợp có chứa dược chất hướng thần; Thuốc dạng phối hợp có chứa tiền chất; Thuốc độc; Thuốc trong danh mục thuốc, dược chất thuộc danh mục chất bị cấm sử dụng trong một số ngành, lĩnh vực).'\n",
      " 'Bán lẻ thuốc hóa dược, thuốc dược liệu, thuốc cổ truyền, sinh phẩm (Có bao gồm thuốc phải kiểm soát đặc biệt: Thuốc độc; Thuốc trong danh mục thuốc, dược chất thuộc danh mục chất bị cấm sử dụng trong một số ngành, lĩnh vực).'\n",
      " 'Bán buôn thuốc hóa dược, thuốc dược liệu, thuốc cổ truyền và sinh phẩm bảo quản ở điều kiện thường.'\n",
      " 'Bán buôn thuốc hóa dược, thuốc dược liệu, thuốc cổ truyền, sinh phẩm bảo quản ở điều kiện thường (không bao gồm thuốc phải kiểm soát đặc biệt)'\n",
      " 'Sản xuất thuốc đông y, thuốc từ dược liệu (dạng thuốc nước uống, viên hoàn mềm, viên hoàn cứng, thuốc bột)'\n",
      " 'Bán buôn thuốc hóa dược (Không bao gồm thuốc phải kiểm soát đặc biệt)'\n",
      " 'Xuất khẩu, Nhập khẩu: Thuốc thành phẩm, Vắc xin, Sinh phẩm Y tế và Nguyên liệu làm thuốc (không chứa kháng sinh nhóm Beta Lactam).'\n",
      " 'Sản xuất thuốc đông y, thuốc từ dược liệu (thuốc nước dùng ngoài, dầu gió)'\n",
      " 'Bán lẻ thuốc hóa dược, thuốc dược liệu, thuốc cổ truyền, sinh phẩm bảo quản ở điều kiện thường (không bao gồm thuốc phải kiểm soát đặc biệt).'\n",
      " 'Bán buôn thuốc hóa dược, thuốc dược liệu, thuốc cổ truyền, vắc xin và sinh phẩm (Có bao gồm thuốc phải kiểm soát đặc biệt: Thuốc dạng phối hợp có chứa dược chất gây nghiện, thuốc dạng phối hợp có chứa dược chất hướng thần, thuốc dạng phối hợp có chứa tiền chất ; thuốc độc; thuốc trong danh mục thuốc, dược chất thuộc danh mục chất bị cấm sử dụng trong một số ngành, lĩnh vực).'\n",
      " 'Bán lẻ thuốc hóa dược, thuốc dược liệu, thuốc cổ truyền, sinh phẩm bảo quản điều kiện thường (Không bao gồm thuốc phải kiểm soát đặc biệt)'\n",
      " 'Xuất khẩu, nhập khẩu thuốc thành phẩm, vắc xin và sinh phẩm y tế'\n",
      " 'Bán buôn nguyên liệu làm thuốc'\n",
      " 'Bán buôn thuốc hóa dược, thuốc dược liệu, thuốc cổ truyền, sinh phẩm (Có bao gồm thuốc phải kiểm soát đặc biệt: Thuốc dạng phối hợp có chứa dược chất gây nghiện; Thuốc dạng phối hợp có chứa dược chất hướng thần; Thuốc dạng phối hợp có chứa tiền chất; Thuốc độc; Thuốc trong danh mục thuốc, dược chất thuộc danh mục chất bị cấm sử dụng trong một số ngành, lĩnh vực).'\n",
      " 'Bán buôn thuốc hóa dược, thuốc dược liệu, thuốc cổ truyền, sinh phẩm bảo quản điều kiện thường (Có bao gồm thuốc phải kiểm soát đặc biệt: Thuốc dạng phối hợp có chứa dược chất gây nghiện, thuốc dạng phối hợp có chứa dược chất hướng thần, thuốc dạng phối hợp có chứa tiền chất; thuốc độc; thuốc trong danh mục thuốc, dược chất thuộc danh mục chất bị cấm sử dụng trong một số ngành, lĩnh vực).'\n",
      " 'Bán lẻ thuốc hóa dược, thuốc dược liệu, thuốc cổ truyền, sinh phẩm bảo quản điều kiện thường. (Có bao gồm thuốc phải kiểm soát đặc biệt: Thuốc dạng phối hợp có chứa dược chất gây nghiện; Thuốc dạng phối hợp có chứa dược chất hướng thần; Thuốc dạng phối hợp có chứa tiền chất; Thuốc độc; Thuốc trong danh mục thuốc, dược chất thuộc danh mục chất bị cấm sử dụng trong một số ngành, lĩnh vực)'\n",
      " 'Bán lẻ thuốc hóa dược, thuốc dược liệu, thuốc cổ truyền, sinh phẩm bảo quản điều kiện thường. (Có bao gồm thuốc phải kiểm soát đặc biệt: Thuốc dạng phối hợp có chứa dược chất gây nghiện; Thuốc dạng phối hợp có chứa dược chất hướng thần; Thuốc dạng phối hợp có chứa tiền chất; Thuốc độc; Thuốc trong danh mục thuốc, dược chất thuộc danh mục chất bị cấm sử dụng trong một số ngành, lĩnh vực).'\n",
      " 'Bán lẻ thuốc hóa dược, thuốc dược liệu, thuốc cổ truyền, sinh phẩm bảo quản ở điều kiện thường (Có bao gồm thuốc phải kiểm soát đặc biệt: Thuốc dạng phối hợp có chứa dược chất gây nghiện; Thuốc dạng phối hợp có chứa dược chất hướng thần; Thuốc dạng phối hợp có chứa tiền chất; Thuốc trong danh mục thuốc, dược chất thuộc danh mục chất bị cấm sử dụng trong một số ngành, lĩnh vực).'\n",
      " 'Bán buôn thuốc hóa dược, thuốc dược liệu, thuốc cổ truyền, sinh phẩm bảo quản điều kiện thường (Có bao gồm thuốc phải kiểm soát đặc biệt: Thuốc trong danh mục thuốc, dược chất thuộc danh mục chất bị cấm sử dụng trong một số ngành, lĩnh vực); Bán buôn nguyên liệu làm thuốc: Dược chất (Nguyên liệu Non β-Lactam), tá dược và vỏ nang (Có bao gồm nguyên liệu làm thuốc phải kiểm soát đặc biệt: Nguyên liệu độc làm thuốc; dược chất thuộc danh mục chất bị cấm sử dụng trong một số ngành, lĩnh vực).'\n",
      " 'Bán buôn nguyên liệu làm thuốc (Non Betalactam, Betalactam); Bán buôn thuốc hóa dược, thuốc dược liệu, thuốc cổ truyền (Có bao gồm thuốc phải kiểm soát đặc biệt: Thuốc dạng phối hợp có chứa dược chất gây nghiện, thuốc dạng phối hợp có chứa dược chất hướng thần, thuốc dạng phối hợp có chứa tiền chất ; thuốc độc; thuốc trong danh mục thuốc, dược chất thuộc danh mục chất bị cấm sử dụng trong một số ngành, lĩnh vực) và vắc xin, sinh phẩm.'\n",
      " 'Bán buôn thuốc hóa dược, thuốc dược liệu, thuốc cổ truyền và sinh phẩm bảo quản điều kiện thường (Có bao gồm thuốc phải kiểm soát đặc biệt: Thuốc dạng phối hợp có chứa dược chất gây nghiện; Thuốc dạng phối hợp có chứa dược chất hướng thần; Thuốc dạng phối hợp có chứa tiền chất; Thuốc độc; Thuốc trong danh mục thuốc, dược chất thuộc danh mục chất bị cấm sử dụng trong một số ngành, lĩnh vực).'\n",
      " 'Bán lẻ thuốc dược llệu, thuốc cổ truyền.'\n",
      " 'Sản xuất thuốc đông y, thuốc từ dược liệu dạng bào chế: viên hoàn cứng, thuốc bột'\n",
      " 'Sản xuất viên hoàn mềm, rượu thuốc'\n",
      " 'Bán lẻ thuốc hóa dược, thuốc dược liệu, thuốc cổ truyền, sinh phẩm bảo quản điều kiện thường (Có bao gồm thuốc phải kiểm soát đặc biệt: Thuốc dạng phối hợp có chứa dược chất gây nghiện; Thuốc dạng phối hợp có chứa dược chất hướng thần; Thuốc trong danh mục thuốc, dược chất thuộc danh mục chất bị cấm sử dụng trong một số ngành, lĩnh vực).'\n",
      " 'Bán lẻ thuốc hóa dược, thuốc dược liệu, thuốc cổ truyền, sinh phẩm (Có bao gồm thuốc phải kiểm soát đặc biệt: Thuốc gây nghiện; Thuốc hướng thần; Thuốc dạng phối hợp có chứa dược chất gây nghiện; Thuốc dạng phối hợp có chứa dược chất hướng thần; Thuốc dạng phối hợp có chứa tiền chất; Thuốc độc; Thuốc trong danh mục thuốc, dược chất thuộc danh mục chất bị cấm sử dụng trong một số ngành, lĩnh vực).'\n",
      " 'Bán buôn thuốc hóa dược, thuốc dược liệu, thuốc cổ truyền, sinh phẩm bảo quản điều kiện thường (Có bao gồm thuốc phải kiểm soát đặc biệt: Thuốc gây nghiện; Thuốc trong danh mục thuốc, dược chất thuộc danh mục chất bị cấm sử dụng trong một số ngành, lĩnh vực).'\n",
      " 'Bán lẻ thuốc hóa dược, thuốc dược liệu, thuốc cổ truyền, sinh phẩm bảo quản ở điều kiện thường (Có bao gồm thuốc phải kiểm soát đặc biệt: Thuốc độc; Thuốc trong danh mục thuốc, dược chất thuộc danh mục chất bị cấm sử dụng trong một số ngành, lĩnh vực).'\n",
      " 'Bán lẻ thuốc hóa dược, thuốc dược liệu, thuốc cổ truyền, sinh phẩm bảo quản điều kiện thường (Có bao gồm thuốc phải kiểm soát đặc biệt: Thuốc dạng phối hợp có chứa dược chất gây nghiện; Thuốc độc; Thuốc trong danh mục thuốc, dược chất thuộc danh mục chất bị cấm sử dụng trong một số ngành, lĩnh vực).'\n",
      " 'Bán lẻ dược liệu, thuôc cổ truyền.'\n",
      " 'Bán lẻ thuốc hóa dược, thuốc dược liệu, thuốc cổ truyền, sinh phẩm bảo quản điều kiện thường (Có bao gồm thuốc phải kiểm soát đặc biệt: Thuốc dạng phối hợp có chứa dược chất gây nghiện; Thuốc dạng phối hợp có chứa dược chất hướng thần; Thuốc dạng phối hợp có chứa tiền chất; Thuốc trong danh mục thuốc, dược chất thuộc danh mục chất bị cấm sử dụng trong một số ngành, lĩnh vực)'\n",
      " 'Bán buôn thuốc thành phẩm, nguyên liệu làm thuốc (Non Beta Lactam)'\n",
      " 'Sản xuất thuốc đông y, thuốc từ dược liệu (dạng viên hoàn cứng, viên hoàn mềm, thuốc nước, cồn xoa bóp)'\n",
      " 'Bán buôn thuốc hóa dược, thuốc dược liệu, thuốc cổ truyền và sinh phẩm bảo quản ở điều kiện thường (Không bao gồm Thuốc phải kiểm soát đặc biệt).'\n",
      " 'Bán buôn thuốc thành phẩm, nguyên liệu làm thuốc'\n",
      " 'Sản xuất thuốc đông y, thuốc từ dược liệu (dạng cao xoa)'\n",
      " 'Bán buôn thuốc hóa dược, thuốc dược liệu, thuốc cổ truyền, sinh phẩm bảo quản điều kiện thường, dược liệu, vị thuốc cổ truyền (Có bao gồm thuốc phải kiểm soát đặc biệt: Thuốc dạng phối hợp có chứa dược chất gây nghiện; Thuốc dạng phối hợp có chứa dược chất hướng thần; Thuốc dạng phối hợp có chứa tiền chất; Thuốc độc; Thuốc trong danh mục thuốc, dược chất thuộc danh mục chất bị cấm sử dụng trong một số ngành, lĩnh vực).'\n",
      " 'Bán buôn thuốc hóa dược, thuốc dược liệu, thuốc cổ truyền, sinh phẩm bảo quản điều kiện thường (Có bao gồm thuốc phải kiểm soát đặc biệt: Thuốc dạng phối hợp có chứa dược chất gây nghiện, thuốc dạng phối hợp có chứa dược chất hướng thần, thuốc dạng phối hợp có chứa tiền chất; Thuốc độc; Thuốc trong danh mục thuốc, dược chất thuộc danh mục chất bị cấm sử dụng trong một số ngành, lĩnh vực).'\n",
      " 'Bán buôn thuốc hóa dược, thuốc dược liệu, thuốc cổ truyền, sinh phẩm bảo quản điều kiện thường (Không bao gồm Thuốc phải kiểm soát đặc biệt)'\n",
      " 'Bán lẻ thuốc hóa dược, thuốc dược liệu, thuốc cổ truyền, sinh phẩm bảo quản ở điều kiện thường. (Không bao gồm thuốc phải kiểm soát đặc biệt).'\n",
      " 'Bán lẻ thuốc hóa dược, thuốc dược liệu, thuốc cổ truyền, sinh phẩm bảo quản ở điều kiện thường (Bao gồm thuốc phải kiểm soát đặc biệt: thuốc dạng phối hợp có chứa dược chất gây nghiện, thuốc dạng phối hợp có chứa dược chất hướng thần, thuốc dạng phối hợp có chứa tiền chất, thuốc độc, thuốc trong danh mục thuốc, dược chất thuộc danh mục chất bị cấm sử dụng trong một số ngành, lĩnh vực).'\n",
      " 'Bán buôn thuốc hóa dược, thuốc dược liệu, thuốc cổ truyền, sinh phẩm bảo quản ở điều kiện thường (Có bao gồm thuốc phải kiểm soát đặc biệt: Thuốc dạng phối hợp có chứa dược chất gây nghiện, thuốc dạng phối hợp có chứa dược chất hướng thần, thuốc dạng phối hợp có chứa tiền chất ; thuốc độc; thuốc trong danh mục thuốc, dược chất thuộc danh mục chất bị cấm sử dụng trong một số ngành, lĩnh vực).'\n",
      " 'Bán lẻ thuốc hóa dược, thuốc dược liệu, thuốc cổ truyền, sinh phẩm bảo quản điều kiện thường (Có bao gồm thuốc phải kiểm soát đặc biệt: Thuốc dạng phối hợp có chứa dược chất gây nghiện; Thuốc dạng phối hợp có chứa dược chất hướng thần; Thuốc dạng phối hợp có chứa tiền chất).'\n",
      " 'Bán buôn thuốc hóa dược, thuốc dược liệu, thuốc cổ truyền, sinh phẩm bảo quản điều kiện thường (Có bao gồm thuốc phải kiểm soát đặc biệt: Thuốc dạng phối hợp có chứa dược chất gây nghiện, thuốc dạng phối hợp có chứa dược chất hướng thần, thuốc dạng ……).'\n",
      " 'Bán lẻ dược liệu, thuốc cổ truyền.'\n",
      " 'Bán lẻ thuốc hóa dược, thuốc dược liệu, thuốc cổ truyền, sinh phẩm bảo quản điều kiện thường (Có bao gồm thuốc phải kiểm soát đặc biệt: Thuốc dạng phối hợp có chứa dược chất gây nghiện; Thuốc dạng phối hợp có chứa dược chất hướng thần; Thuốc độc; Thuốc trong danh mục thuốc, dược chất thuộc danh mục chất bị cấm sử dụng trong một số ngành, lĩnh vực).'\n",
      " 'Bán lẻ thuốc hóa dược, thuốc dược liệu, thuốc cổ truyền và sinh phẩm bảo quản điều kiện thường (Có bao gồm Thuốc phải kiểm soát đặc biệt: thuốc trong danh mục thuốc, dược chất thuộc danh mục chất bị cấm sử dụng trong một số ngành, lĩnh vực)'\n",
      " 'Bán buôn thuốc hóa dược, thuốc dược liệu, thuốc cổ truyền và sinh phẩm bảo quản điều kiện thường (Không bao gồm thuốc phải kiểm soát đặc biệt).'\n",
      " 'Sản xuất thuốc đông y, thuốc từ dược liệu (dạng thuốc nước uống, rượu thuốc và cồn thuốc)'\n",
      " 'Bán lẻ thuốc hóa dược, thuốc dược liệu, thuốc cổ truyền, sinh phẩm bảo quản điều kiện thường (Có bao gồm thuốc phải kiểm soát đặc biệt: Thuốc dạng phối hợp có chứa dược chất gây nghiện; Thuốc dạng phối hợp có chứa dược chất hướng thần; Thuốc dạng phối hợp có chứa tiền chất;Thuốc độc; Thuốc trong danh mục thuốc, dược chất thuộc danh mục chất bị cấm sử dụng trong một số ngành, lĩnh vực).'\n",
      " 'Bán lẻ thuốc hóa dược, thuốc dược liệu, thuốc cổ truyền, sinh phẩm (Có bao gồm thuốc phải kiểm soát đặc biệt: Thuốc dạng phối hợp có chứa dược chất gây nghiện, thuốc dạng phối hợp có chứa dược chất hướng thần, thuốc dạng phối hợp có chứa tiền chất; Thuốc độc; Thuốc trong danh mục thuốc, dược chất thuộc danh mục chất bị cấm sử dụng trong một số ngành, lĩnh vực).'\n",
      " 'Bán lẻ thuốc hóa dược, thuốc dược liệu, thuốc cổ truyền (Không bao gồm Thuốc phải kiểm soát đặc biệt).'\n",
      " 'Bán buôn nguyên liệu làm thuốc (Nguyên liệu làm thuốc thành phẩm không vô trùng bảo quản ở điều kiện thường, tá dược, vỏ nang), bán buôn thuốc hóa dược, thuốc dược liệu, thuốc cổ truyền, sinh phẩm bảo quản ở điều kiện thường.'\n",
      " 'Bán buôn thuốc hóa dược, thuốc dược liệu, thuốc cổ truyền, sinh phẩm bảo quản điều kiện thường (Không bao gồm Thuốc phải kiểm soát đặc biệt).'\n",
      " 'Bán buôn thuốc hóa dược, thuốc dược liệu, thuốc cổ truyền, sinh phẩm bảo quản điều kiện thường (Có bao gồm thuốc phải kiểm soát đặc biệt: Thuốc dạng phối hợp có chứa dược chất gây nghiện; Thuốc dạng phối hợp có chứa dược chất hướng thần; thuốc dạng phối hợp có chứa tiền chất; Thuốc độc; Thuốc trong danh mục thuốc, dược chất thuộc danh mục chất bị cấm sử dụng trong một số ngành, lĩnh vực). Nguyên liệu làm thuốc: Tá dược; Vỏ nang; Dược chất (Không bao gồm nguyên liệu kháng sinh nhóm β-lactam. Có bao gồm nguyên liệu phải kiểm soát đặc biệt: Dược chất trong danh mục thuốc, dược chất thuộc danh mục chất bị cấm sử dụng trong một số ngành, lĩnh vực).'\n",
      " 'Bán lẻ thuốc hóa dược, thuốc dược liệu, thuốc cổ truyền, sinh phẩm bảo quản điều kiện thường (Có bao gồm thuốc phải kiểm soát đặc biệt: Kinh doanh Thuốc dạng phối hợp có chứa dược chất gây nghiện; Thuốc dạng phối hợp có chứa dược chất hướng thần; Thuốc dạng phối hợp có chứa tiền chất; Thuốc độc; Thuốc trong danh mục thuốc, dược chất thuộc danh mục chất bị cấm sử dụng trong một số ngành, lĩnh vực).'\n",
      " 'Bán buôn thuốc hóa dược, thuốc dược liệu, thuốc cổ truyền, sinh phẩm bảo quản điều kiện thường (Có bao gồm thuốc phải kiểm soát đặc biệt: Thuốc dạng phối hợp có chứa dược chất gây nghiện; Thuốc dạng phối hợp có chứa dược chất hướng thần; Thuốc dạng phối h'\n",
      " 'Bán buôn thuốc hóa dược, vắc xin và sinh phẩm (Không bao gồm thuốc phải kiểm soát đặc biệt).'\n",
      " 'Bán lẻ dược liệu, thuốc từ dược liệu, thuốc cổ truyền.'\n",
      " 'Bán buôn thuốc hóa dược, thuốc dược liệu, thuốc cổ truyền và sinh phẩm bảo quản ở điều kiện thường (Có bao gồm thuốc phải kiểm soát đặc biệt: Thuốc dạng phối hợp có chứa dược chất gây nghiện; Thuốc dạng phối hợp có chứa dược chất hướng thần; Thuốc dạng phối hợp có chứa tiền chất; Thuốc độc; Thuốc trong danh mục thuốc, dược chất thuộc danh mục chất bị cấm sử dụng trong một số ngành, lĩnh vực).'\n",
      " 'Sản xuất viên hoàn cứng'\n",
      " 'Bán buôn thuốc hóa dược, thuốc dược liệu, thuốc cổ truyền, sinh phẩm bảo quản ở điều kiện thường (Bao gồm thuốc phải kiểm soát đặc biệt: Thuốc độc; Thuốc trong danh mục thuốc, dược chất thuộc danh mục chất bị cấm sử dụng trong một số ngành, lĩnh vực).'\n",
      " 'Bán buôn thuốc hóa dược, thuốc dược liệu, thuốc cổ truyền, sinh phẩm bảo quản ở điều kiện thường (Có bao gồm thuốc phải kiểm soát đặc biệt: Thuốc độc).'\n",
      " 'Bán lẻ thuốc hóa dược, thuốc dược liệu, thuốc cổ truyền, sinh phẩm bảo quản điều kiện thường (Có bao gồm thuốc phải kiểm soát đặc biệt: Thuốc độc; Thuốc trong danh mục thuốc, dược chất thuộc danh mục chất bị cấm sử dụng trong một số ngành, lĩnh vực).'\n",
      " 'án lẻ thuốc hóa dược, thuốc dược liệu, thuốc cổ truyền, sinh phẩm bảo quản điều kiện thường (Có bao gồm thuốc phải kiểm soát đặc biệt: Thuốc dạng phối hợp có chứa dược chất gây nghiện; Thuốc dạng phối hợp có chứa dược chất hướng thần; Thuốc dạng phối hợp có chứa tiền chất; Thuốc độc; Thuốc trong danh mục thuốc, dược chất thuộc danh mục chất bị cấm sử dụng trong một số ngành, lĩnh vực).'\n",
      " 'Sản xuất thuốc đông y, thuốc từ dược liệu (viên hoàn mềm, dầu xoa, thuốc cốm - trà hòa tan)'\n",
      " 'Bán lẻ dược liệu.'\n",
      " 'Bán buôn thuốc hóa dược, thuốc dược liệu, thuốc cổ truyền và sinh phẩm (Có bao gồm thuốc phải kiểm soát đặc biệt: Thuốc độc; Thuốc trong danh mục thuốc, dược chất thuộc danh mục chất bị cấm sử dụng trong một số ngành, lĩnh vực).'\n",
      " 'Bán buôn thuốc hóa dược, thuốc dược liệu, thuốc cổ truyền, sinh phẩm bảo quản điều kiện thường. (Không bao gồm Thuốc phải kiểm soát đặc biệt)'\n",
      " 'Bán buôn thuốc hóa dược, thuốc dược liệu, thuốc cổ truyền và sinh phẩm bảo quản ở điều kiện thường (Không bao gồm thuốc phải kiểm soát đặc biệt)'\n",
      " 'Bán buôn thuốc hóa dược (có bao gồm Thuốc dạng phối hợp có chứa dược chất gây nghiện; Thuốc dạng phối hợp có chứa dược chất hướng thần; Thuốc dạng phối hợp có chứa tiền chất; Thuốc độc; Thuốc trong danh mục thuốc, dược chất thuộc danh mục chất bị cấm sử d'\n",
      " 'Bán buôn hóa dược, thuốc dược liệu, thuốc cổ truyền, sinh phẩm (Có bao gồm thuốc phải kiểm soát đặc biệt: Thuốc dạng phối hợp có chứa dược chất gây nghiện; Thuốc dạng phối hợp có chứa dược chất hướng thần; Thuốc dạng phối hợp có chứa tiền chất; Thuốc độc; Thuốc trong danh mục thuốc, dược chất thuộc danh mục chất bị cấm sử dụng trong một số ngành, lĩnh vực).'\n",
      " 'Xuất khẩu, nhập khẩu thuốc thành phẩm, nguyên liệu làm thuốc thành phẩm không vô trùng bảo quản ở điều kiện thường.'\n",
      " 'Sản xuất thuốc đông y, thuốc từ dược liệu (thuốc nước uống, thuốc bột, viên hoàn cứng, dung dịch dầu, rượu thuốc, cồn thuốc dùng ngoài)'\n",
      " 'Sản xuất thuốc đông y, thuốc từ dược liệu (thuốc nước uống, viên hoàn cứng, thuốc bột)'\n",
      " 'Sản xuất thuốc đông y, thuốc từ dược liệu: dầu gió, cao xoa.'\n",
      " 'Bán buôn dược chất, tá dược (Có bao gồm nguyên liệu phải kiểm soát đặc biệt: dược chất trong danh mục thuốc, dược chất thuộc danh mục chất bị cấm sử dụng trong một số ngành, lĩnh vực).'\n",
      " 'Bán buôn thuốc hóa dược, thuốc dược liệu, thuốc cổ truyền, sinh phẩm (Có bao gồm thuốc phải kiểm soát đặc biệt: Thuốc trong danh mục thuốc, dược chất thuộc danh mục chất bị cấm sử dụng trong một số ngành, lĩnh vực).'\n",
      " 'Bán buôn thuốc dược liệu, thuốc cổ truyền, nguyên liệu làm thuốc (chỉ dược liệu - Có bao gồm dược liệu độc).'\n",
      " 'Bán buôn dược liệu, thuốc hóa dược, thuốc dược liệu, thuốc cổ truyền, sinh phẩm bảo quản ở điều kiện thường.'\n",
      " 'Bán lẻ thuốc hóa dược, thuốc dược liệu, thuốc cổ truyền và sinh phẩm (Có bao gồm cả thuốc dạng phối hợp có chứa dược chất gây nghiện; Thuốc dạng phối hợp có chứa dược chất hướng thần; Thuốc dạng phối hợp có chứa tiền chất; Thuốc độc; Thuốc trong danh mục thuốc, dược chất thuộc danh mục chất bị cấm sử dụng trong một số ngành, lĩnh vực).'\n",
      " 'Sản xuất thuốc dùng ngoài từ dược liệu: Cồn thuốc dùng ngoài.'\n",
      " 'Bán buôn thuốc hóa dược, thuốc dược liệu, thuốc cổ truyền, vắc xin và sinh phẩm (Bảo quản điều kiện thường, điều kiện 2-80C và điều kiện bảo quản âm sâu (-)450C đến (-)200C); Có bao gồm thuốc phải kiểm soát đặc biệt: Thuốc dạng phối hợp có chứa dược chất gây nghiện; Thuốc dạng phối hợp có chứa dược chất hướng thần; Thuốc dạng phối hợp có chứa tiền chất; Thuốc độc; Thuốc trong danh mục thuốc, dược chất thuộc danh mục chất bị cấm sử dụng trong một số ngành, lĩnh vực).'\n",
      " 'Bán buôn thuốc hóa dược, thuốc dược liệu, thuốc cổ truyền (Không bao gồm Thuốc phải kiểm soát đặc biệt).'\n",
      " 'Bán buôn dược liệu.'\n",
      " 'Bán buôn thuốc hóa dược (Bảo quản điều kiện thường và điều kiện 2-8 oC), thuốc dược liệu, thuốc cổ truyền, sinh phẩm bảo quản điều kiện thường (Không bao gồm thuốc phải kiểm soát đặc biệt).'\n",
      " 'Bán buôn dược liệu, thuốc dược liệu, thuốc cổ truyền.'\n",
      " 'Bán lẻ thuốc hóa dược, thuốc dược liệu, thuốc cổ truyền và sinh phẩm (Có bao gồm thuốc phải kiểm soát đặc biệt: Thuốc dạng phối hợp có chứa dược chất gây nghiện; Thuốc dạng phối hợp có chứa dược chất hướng thần; Thuốc dạng phối hợp có chứa tiền chất; Thuốc độc; Thuốc trong danh mục thuốc, dược chất thuộc danh mục chất bị cấm sử dụng trong một số ngành, lĩnh vực).'\n",
      " 'Bán lẻ thuốc hóa dược, thuốc dược liệu, thuốc cổ truyền, sinh phẩm bảo quản điều kiện thường (Có bao gồm thuốc phải kiểm soát đặc biệt: Thuốc dạng phối hợp có chứa dược chất gây nghiện; Thuốc dạng phối hợp có chứa dược chất hướng thần; Thuốc độc; Thuốc dạng phối hợp có chứa tiền chất; Thuốc trong danh mục thuốc, dược chất thuộc danh mục chất bị cấm sử dụng trong một số ngành, lĩnh vực).'\n",
      " 'Bán buôn thuốc hóa dược, thuốc dược liệu, thuốc cổ truyền, vắc xin, sinh phẩm (Có bao gồm thuốc phải kiểm soát đặc biệt: Thuốc dạng phối hợp có chứa dược chất gây nghiện; Thuốc dạng phối hợp có chứa dược chất hướng thần; Thuốc dạng phối hợp có chứa tiền chất; Thuốc độc; Thuốc trong danh mục thuốc, dược chất thuộc danh mục chất bị cấm sử dụng trong một số ngành, lĩnh vực).'\n",
      " 'Sản xuất thuốc đông y, thuốc từ dược liệu (dạng thuốc nước uống, rượu thuốc)'\n",
      " 'Sản xuất thuốc đông y, thuốc từ dược liệu (dạng dầu gió)'\n",
      " 'Bán buôn nguyên liệu làm thuốc: Dược chất (Không bao gồm nguyên liệu kháng sinh nhóm β-lactam. Có bao gồm nguyên liệu phải kiểm soát đặc biệt: Nguyên liệu độc làm thuốc; Dược chất trong danh mục thuốc, dược chất thuộc danh mục chất bị cấm sử dụng trong một số ngành, lĩnh vực); Tá dược; Vỏ nang.'\n",
      " 'Xuất khẩu, nhập khẩu thuốc thành phẩm, vắc xin, sinh phẩm y tế'\n",
      " 'Bán buôn nguyên liệu làm thuốc: Dược chất, Tá dược, Vỏ nang (Không bao gồm nguyên liệu nhóm β-lactam và nguyên liệu phải kiểm soát đặc biệt).'\n",
      " 'Bán buôn thuốc thành phẩm, nguyên liệu làm thuốc thành phẩm không vô trùng bảo quản ở điều kiện thường'\n",
      " 'Sản xuất thuốc đông y, thuốc từ dược liệu (cồn xoa bóp, viên hoàn cứng, thuốc bột)'\n",
      " 'Bán lẻ thuốc hóa dược, thuốc dược liệu, thuốc cổ truyền, sinh phẩm bảo quản điều kiện thường (Có bao gồm thuốc phải kiểm soát đặc biệt: Thuốc thuộc danh mục chất bị cấm sử dụng trong một số ngành, lĩnh vực).'\n",
      " 'Sản xuất thuốc đông y, thuốc từ dược liệu (thuốc nước uống, cồn thuốc dùng ngoài)'\n",
      " 'Bán buôn thuốc hóa dược (bảo quản điều kiện thường và điều kiện 2 - 80C), thuốc dược liệu, thuốc cổ truyền, sinh phẩm bảo quản điều kiện thường (Có bao gồm thuốc phải kiểm soát đặc biệt: Thuốc độc).'\n",
      " 'Bán buôn thuốc hóa dược, thuốc dược liệu, thuốc cổ truyền, sinh phẩm (Có bao gồm thuốc phải kiểm soát đặc biệt: thuốc dạng phối hợp có chứa dược chất gây nghiện, thuốc dạng phối hợp có chứa dược chất hướng thần, thuốc dạng phối hợp có chứa tiền chất, thuốc độc, thuốc trong danh mục thuốc, dược chất thuộc danh mục chất bị cấm sử dụng trong một số ngành, lĩnh vực).'\n",
      " 'Cơ sở chuyên bán lẻ thuốc dược liệu, thuốc cổ truyền.'\n",
      " 'Bán buôn thuốc hóa dược, thuốc dược liệu, thuốc cổ truyền, sinh phẩm bảo quản ở điều kiện thường (Có bao gồm thuốc phải kiểm soát đặc biệt: Thuốc dạng phối hợp có chứa dược chất gây nghiện, thuốc dạng phối hợp có chứa dược chất hướng thần, thuốc dạng phối hợp có chứa tiền chất ; thuốc độc; thuốc trong danh mục thuốc, dược chất thuộc danh mục chất bị cấm sử dụng trong một số ngành, lĩnh vực); Nguyên liệu làm thuốc là dược chất (Non β - Lactam - không bao gồm nguyên liệu làm thuốc phải kiểm soát đặc biệt).'\n",
      " 'Bán buôn thuốc hóa dược, thuốc dược liệu, thuốc cổ truyền, sinh phẩm bảo quản ở điều kiện thường (Có bao gồm thuốc phải kiểm soát đặc biệt: thuốc trong danh mục thuốc, dược chất thuộc danh mục chất bị cấm sử dụng trong một số ngành, lĩnh vực).'\n",
      " 'Bán buôn vắc xin, sinh phẩm y tế'\n",
      " 'Bán lẻ thuốc hóa dược, thuốc dược liệu, thuốc cổ truyền, sinh phẩm (Có bao gồm thuốc phải kiểm soát đặc biệt: Thuốc gây nghiện; Thuốc hướng thần; Thuốc dạng phối hợp có chứa dược chất gây nghiện; Thuốc dạng phối hợp có chứa dược chất hướng thần; thuốc dạng phối hợp có chứa tiền chất; Thuốc độc; Thuốc trong danh mục thuốc, dược chất thuộc danh mục chất bị cấm sử dụng trong một số ngành, lĩnh vực).'\n",
      " 'Bán buôn thuốc hóa dược, thuốc dược liệu, thuốc cổ truyền và sinh phẩm (Có bao gồm Thuốc phải kiểm soát đặc biệt:, thuốc dạng phối hợp có chứa dược chất gây nghiện, thuốc dạng phối hợp có chứa dược chất hướng thần, thuốc dạng phối hợp có chứa tiền chất; thuốc độc; thuốc trong danh mục thuốc, dược chất thuộc danh mục chất bị cấm sử dụng trong một số ngành, lĩnh vực)'\n",
      " 'Sản xuất thuốc đông y, thuốc từ dược liệu (thuốc nước uống)'\n",
      " 'Bán buôn nguyên liệu làm thuốc: Dược chất, tá dược (Không bao gồm nguyên liệu kháng sinh nhóm β-lactam và nguyên liệu làm thuốc phải kiểm soát đặc biệt).'\n",
      " 'Sản xuất thuốc cốm, thuốc nước, thuốc bột, viên hoàn cứng, viên hoàn mềm.'\n",
      " 'Bán buôn thuốc hóa dược, thuốc dược liệu, thuốc cổ truyền (Có bao gồm thuốc phải kiểm soát đặc biệt: Thuốc dạng phối hợp có chứa dược chất gây nghiện; Thuốc dạng phối hợp có chứa dược chất hướng thần; Thuốc dạng phối hợp có chứa tiền chất; Thuốc độc; Thuốc trong danh mục thuốc, dược chất thuộc danh mục chất bị cấm sử dụng trong một số ngành, lĩnh vực), vắc xin, sinh phẩm.'\n",
      " 'Sản xuất thuốc đông y, thuốc từ dược liệu (dạng thuốc bột, hoàn cứng, hoàn mềm)'\n",
      " 'Bán buôn thuốc thành phẩm, vắc xin và sinh phẩm y tế'\n",
      " 'Bán buôn thuốc hóa dược, thuốc dược liệu, thuốc cổ truyền, sinh phẩm bảo quản điều kiện thường.'\n",
      " 'Bán buôn dược liệu (Có bao gồm dược liệu độc); Bán buôn thuốc dược liệu, thuốc cổ truyền (Có bao gồm thuốc chứa dược liệu độc).'\n",
      " 'Bán lẻ thuốc hóa dược, thuốc dược liệu, thuốc cổ truyền, sinh phẩm bảo quản ở điều kiện thường (Có bao gồm thuốc phải kiểm soát đặc biệt: Thuốc dạng phối hợp có chứa dược chất gây nghiện; Thuốc dạng phối hợp có chứa dược chất hướng thần; thuốc dạng phối hợp có chứa tiền chất; Thuốc trong danh mục thuốc, dược chất thuộc danh mục chất bị cấm sử dụng trong một số ngành, lĩnh vực).'\n",
      " 'Sản xuất thuốc đông y, thuốc từ dược liệu (dạng thuốc bột)'\n",
      " 'Sản xuất thuốc đông y, thuốc từ dược liệu (dạng thuốc bột, thuốc nước uống)'\n",
      " 'Bán lẻ thuốc hóa dược, thuốc dược liệu, thuốc cổ truyền, sinh phẩm (Có bao gồm thuốc phải kiểm soát đặc biệt: thuốc dạng phối hợp có chứa dược chất gây nghiện, thuốc dạng phối hợp có chứa dược chất hướng thần, thuốc dạng phối hợp có chứa tiền chất, thuốc độc, thuốc trong danh mục thuốc, dược chất thuộc danh mục chất bị cấm sử dụng trong một số ngành, lĩnh vực).'\n",
      " 'Bán buôn thuốc hóa dược (Có bao gồm thuốc phải kiểm soát đặc biệt: Thuốc dạng phối hợp có chứa dược chất gây nghiện; Thuốc dạng phối hợp có chứa dược chất hướng thần; Thuốc dạng phối hợp có chứa tiền chất; Thuốc độc; Thuốc trong danh mục thuốc, dược chất thuộc danh mục chất bị cấm sử dụng trong một số ngành, lĩnh vực).'\n",
      " 'Bán buôn thuốc hóa dược, thuốc dược liệu, thuốc cổ truyền, sinh phẩm (Không bao gồm Thuốc phải kiểm soát đặc biệt).'\n",
      " 'Bán lẻ thuốc hóa dược, thuốc dược liệu, thuốc cổ truyền, sinh phẩm (Có bao gồm thuốc phải kiểm soát đặc biệt: Thuốc gây nghiện, thuốc hướng thần, thuốc tiền chất; thuốc dạng phối hợp có chứa dược chất gây nghiện; Thuốc dạng phối hợp có chứa dược chất hướng thần; Thuốc dạng phối hợp có chứa tiền chất; Thuốc độc; Thuốc trong danh mục thuốc, dược chất thuộc danh mục chất bị cấm sử dụng trong một số ngành, lĩnh vực).'\n",
      " 'Bán buôn thuốc hóa dược, thuốc dược liệu, thuốc cổ truyền, sinh phẩm bảo quản điều kiện thường. (Có bao gồm thuốc phải kiểm soát đặc biệt: Thuốc dạng phối hợp có chứa dược chất gây nghiện; Thuốc dạng phối hợp có chứa dược chất hướng thần; Thuốc dạng phối hợp có chứa tiền chất; Thuốc độc; Thuốc trong danh mục thuốc, dược chất thuộc danh mục chất bị cấm sử dụng trong một số ngành, lĩnh vực).'\n",
      " 'Sản xuất thuốc đông y, thuốc từ dược liệu (thuốc nước, thuốc bột).'\n",
      " 'Bán buôn thuốc hóa dược, thuốc dược liệu, thuốc cổ truyền, sinh phẩm bảo quản ở điều kiện thường (Có bao gồm thuốc phải kiểm soát đặc biệt: Thuốc độc; Thuốc trong danh mục thuốc, dược chất thuộc danh mục chất bị cấm sử dụng trong một số ngành, lĩnh vực). Nguyên liệu làm thuốc: Dược chất (Có bao gồm kháng sinh nhóm β - Lactam; Nguyên liệu phải kiểm soát đặc biệt: Nguyên liệu độc, nguyên liệu làm thuốc trong danh mục thuốc, dược chất thuộc danh mục chất bị cấm sử dụng trong một số ngành, lĩnh vực); Tá dược.'\n",
      " 'Sản xuất thuốc đông y, thuốc từ dược liệu (cao xoa, dầu gió)'\n",
      " 'Bán buôn thuốc dược liệu, thuốc cổ truyền; Nguyên liệu làm thuốc: dược liệu.'\n",
      " 'Sản xuất dầu gió.'\n",
      " 'Bán buôn thuốc hóa dược, thuốc dược liệu, thuốc cổ truyền, vắc xin và sinh phẩm (Bảo quản điều kiện thường, điều kiện 2-8 0C và điều kiện âm sâu (-)25 0C đến (-)15 0C); Có bao gồm thuốc phải kiểm soát đặc biệt: Thuốc dạng phối hợp có chứa dược chất gây nghiện; Thuốc dạng phối hợp có chứa dược chất hướng thần; Thuốc dạng phối hợp có chứa tiền chất; Thuốc độc; Thuốc trong danh mục thuốc, dược chất thuộc danh mục chất bị cấm sử dụng trong một số ngành, lĩnh vực); Bán buôn nguyên liệu làm thuốc (Dược chất, tá dược, vỏ nang - Bảo quản điều kiện thường, điều kiện 2-8 0C; Có bao gồm nguyên liệu phải kiểm soát đặc biệt; nguyên liệu độc, dược chất trong danh mục thuốc, dược chất thuộc danh mục chất bị cấm sử dụng trong một số ngành, lĩnh vực; Không bao gồm nguyên liệu nhóm Betalactam).'\n",
      " 'Bán lẻ thuốc hóa dược, thuốc dược liệu, thuốc cổ truyền, sinh phẩm bảo quản điều kiện thường (Có bao gồm thuốc phải kiểm soát đặc biệt: Thuốc dạng phối hợp có chứa tiền chất; Thuốc độc; Thuốc trong danh mục thuốc, dược chất thuộc danh mục chất bị cấm sử dụng trong một số ngành, lĩnh vực).'\n",
      " 'Sản xuất thuốc đông y, thuốc từ dược liệu (thuốc nước uống, thuốc nước dùng ngoài)'\n",
      " 'Bảo quản thuốc thành phẩm'\n",
      " 'Bảo quản thuốc thành phẩm, sinh phẩm y tế và nguyên liệu làm thuốc'\n",
      " 'Bán quản thuốc thành phẩm, nguyên liệu làm thuốc'\n",
      " 'Cơ sở bán lẻ thuốc dược liệu, thuốc cổ truyền.'\n",
      " 'Bán lẻ dược liệu, vị thuốc cổ truyền.'\n",
      " 'Bán lẻ thuốc thuốc dược liệu, thuốc cổ truyền.'\n",
      " 'Bán lẻ dược liệu, thuốc cổ truyền'\n",
      " 'Cơ sở chuyên bán lẻ dược liệu, thuốc dược liệu, thuốc cổ truyền.'\n",
      " 'Cơ sở bán lẻ dược liệu, thuốc dược liệu, thuốc cổ truyền.'\n",
      " 'Bán lẻ vị thuốc cổ truyền.'\n",
      " 'Cơ sở chuyên bán lẻ dược liệu, thuốc cổ truyền.'\n",
      " 'Bán lẻ thuốc cổ truyền' 'Cơ sơ bán lẻ thuốc đông y, thuốc từ dược liệu'\n",
      " 'Bán lẻ thuốc cổ truyền.' 'Bán lẻ dược liệu, vị thuốc cổ truyền'\n",
      " 'Bán lẻ vị thuốc cổ truyền' 'Bán lẻ dược liệu'\n",
      " 'bán lẻ dược liệu, thuốc dược liệu, thuốc cổ truyền'\n",
      " 'Cơ sở bán lẻ dược liệu, vị thuốc cổ truyền.'\n",
      " 'Bán lẻ thuốc dược liệu, vị thuốc cổ truyền.'\n",
      " 'Bán lẻ thuốc dược liệu, thuốc cổ truyền,'\n",
      " 'Bán buôn nguyên liệu làm thuốc: Chỉ dược liệu (Không bao gồm dược liệu độc).'\n",
      " 'Bán buôn nguyên liệu làm thuốc: Dược liệu (Không bao gồm dược liệu độc và vị thuốc cổ truyền).'\n",
      " 'Bán buôn vị thuốc cổ truyền, nguyên liệu làm thuốc (Chỉ dược liệu - Có bao gồm dược liệu độc).'\n",
      " 'Bán buôn dược liệu, thuốc dược liệu, thuốc cổ truyền (Không bao gồm thuốc phải kiểm soát đặc biệt).'\n",
      " 'Bán buôn thuốc hóa dược, thuốc dược liệu, thuốc cổ truyền, vắc xin và sinh phẩm (Có bao gồm thuốc phải kiểm soát đặc biệt: Thuốc độc; Thuốc trong danh mục thuốc, dược chất thuộc danh mục chất bị cấm sử dụng trong một số ngành, lĩnh vực).'\n",
      " 'Bán buôn thuốc: Chất đánh dấu (còn gọi là chất dẫn, chất mang - bảo quản điều kiện thường và điều kiện 2-8 độ C); Thuốc phải kiểm soát đặc biệt: Thuốc phóng xạ.'\n",
      " 'Bán buôn Nguyên liệu làm thuốc: Chỉ dược liệu (không bao gồm dược liệu độc).'\n",
      " 'Bán buôn thuốc hóa dược, sinh phẩm bảo quản điều kiện thường (Có bao gồm Thuốc phải kiểm soát đặc biệt: thuốc dạng phối hợp có chứa dược chất gây nghiện, thuốc dạng phối hợp có chứa dược chất hướng thần, thuốc dạng phối hợp có chứa tiền chất; thuốc độc; thuốc trong danh mục thuốc, dược chất thuộc danh mục chất bị cấm sử dụng trong một số ngành, lĩnh vực)'\n",
      " 'Bán buôn thuốc hóa dược, thuốc dược liệu, thuốc cổ truyền, vắc xin, sinh phẩm (Có bao gồm thuốc phải kiểm soát đặc biệt: Thuốc trong danh mục thuốc, dược chất thuộc danh mục chất bị cấm sử dụng trong một số ngành, lĩnh vực).'\n",
      " 'Bán buôn thuốc hóa dược, thuốc dược liệu, thuốc cổ truyền, vắc xin và sinh phẩm (Bảo quản điều kiện thường, điều kiện 2-80C và điều kiện bảo quản âm sâu (-)200C). (Không bao gồm thuốc phải kiểm soát đặc biệt).'\n",
      " 'Bán buôn thuốc hóa dược, thuốc dược liệu, thuốc cổ truyền và sinh phẩm bảo quản điều kiện thường (Có bao gồm Thuốc phải kiểm soát đặc biệt: thuốc dạng phối hợp có chứa dược chất gây nghiện, thuốc dạng phối hợp có chứa dược chất hướng thần, thuốc dạng phối hợp có chứa tiền chất; thuốc độc; thuốc trong danh mục thuốc, dược chất thuộc danh mục chất bị cấm sử dụng trong một số ngành, lĩnh vực).'\n",
      " 'Bán buôn thuốc hóa dược, thuốc dược liệu, thuốc cổ truyền, sinh phẩm bảo quản điều kiện thường (Có bao gồm thuốc phải kiểm soát đặc biệt: Thuốc dạng phối hợp có chứa dược chất gây nghiện, thuốc dạng phối hợp có chứa dược chất hướng thần, thuốc dạng phối hợp có chứa tiền chất ; thuốc độc; thuốc trong danh mục thuốc, dược chất thuộc danh mục chất bị cấm sử dụng trong một số ngành, lĩnh vực).'\n",
      " 'Bán buôn thuốc hóa dược, thuốc dược liệu, thuốc cổ truyền, sinh phẩm (Có bao gồm thuốc phải kiểm soát đặc biệt: Thuốc dạng phối hợp có chứa dược chất gây nghiện; Thuốc dạng phối hợp có chứa dược chất hướng thần; Thuốc dạng phối hợp có chứa tiền chất; Thuốc trong danh mục thuốc, dược chất thuộc danh mục chất bị cấm sử dụng trong một số ngành, lĩnh vực).'\n",
      " 'Bán buôn thuốc hóa dược, thuốc dược liệu, thuốc cổ truyền, sinh phẩm bảo quản điều kiện thường (Có bao gồm thuốc phải kiểm soát đặc biệt: Thuốc dạng phối hợp có chứa dược chất gây nghiện; Thuốc dạng phối hợp có chứa dược chất hướng thần; Thuốc dạng phối hợp có chứa tiền chất; Thuốc độc; Thuốc trong danh mục thuốc, dược chất thuộc danh mục chất bị cấm sử dụng trong một số ngành, lĩnh vực); Bán buôn Nguyên liệu làm thuốc: Dược chất (Không bao gồm nguyên liệu phải kiểm soát đặc biệt; Có bao gồm nguyên liệu kháng sinh nhóm β-Lactam); Tá dược.'\n",
      " 'Bán buôn thuốc hóa dược, thuốc dược liệu, thuốc cổ truyền, sinh phẩm bảo quản ở điều kiện thường; Bán buôn nguyên liệu làm thuốc bảo quản điều kiện thường và mát (từ 8ºC – 15ºC); Dược chất (Nguyên liệu Non β - Lactam), tá dược (Có bao gồm thuốc, nguyên liệu làm thuốc phải kiểm soát đặc biệt: Thuốc độc, Nguyên liệu độc làm thuốc; Thuốc, dược chất trong danh mục thuốc, dược chất thuộc danh mục chất bị cấm sử dụng trong một số ngành, lĩnh vực).'\n",
      " 'Bán buôn thuốc hóa dược, thuốc dược liệu, thuốc cổ truyền, sinh phẩm (Không bao gồm thuốc phải kiểm soát đặc biệt).'\n",
      " 'Bán buôn thuốc hóa dược, thuốc dược liệu, thuốc cổ truyền, vắc xin, sinh phẩm (Có bao gồm thuốc phải kiểm soát đặc biệt: Thuốc dạng phối hợp có chứa dược chất gây nghiện; Thuốc dạng phối hợp có chứa dược chất hướng thần; Thuốc dạng phối hợp có chứa tiền chất; Thuốc độc; Thuốc trong danh mục thuốc, dược chất thuộc danh mục chất bị cấm sử dụng trong một số ngành, lĩnh vực). Nguyên liệu làm thuốc bao gồm: dược chất, tá dược (Không bao gồm nguyên liệu nhóm Beta - Lactam; Có bao gồm nguyên liệu phải kiểm soát đặc biệt: dược chất trong danh mục thuốc, dược chất thuộc danh mục chất bị cấm sử dụng trong một số ngành, lĩnh vực).'\n",
      " 'Bán buôn vắc xin, sinh phẩm.'\n",
      " 'Bán buôn thuốc hóa dược, thuốc dược liệu, thuốc cổ truyền, sinh phẩm bảo quản điều kiện thường (Không bao gồm thuốc kiểm soát đặc biệt).'\n",
      " 'Bán buôn thuốc hóa dược, thuốc dược liệu, thuốc cổ truyền, sinh phẩm bảo quản điểu kiện thường (Có bao gồm thuốc phải kiểm soát đặc biệt: Thuốc dạng phối hợp có chứa dược chất gây nghiện; Thuốc dạng phối hợp có chứa dược chất hướng thần; Thuốc dạng phối hợp có chứa tiền chất; Thuốc độc; Thuốc trong danh mục thuốc, dược chất thuộc danh mục chất bị cấm sử dụng trong một số ngành, lĩnh vực).'\n",
      " 'Bán buôn thuốc hóa dược, thuốc dược liệu, thuốc cổ truyền, vắc xin và sinh phẩm.'\n",
      " 'Bán buôn thuốc hóa dược, thuốc dược liệu, thuốc cổ truyền, sinh phẩm bảo quản điều kiện thường (Có bao gồm Thuốc phải kiểm soát đặc biệt: Thuốc trong danh mục thuốc, dược chất thuộc danh mục chất bị cấm sử dụng trong một số ngành, lĩnh vực).'\n",
      " 'Bán buôn thuốc hóa dược, thuốc dược liệu, thuốc cổ truyền và sinh phẩm bảo quản ở điều kiện thường'\n",
      " 'Bán buôn thuốc hóa dược (Bảo quản điều kiện thường và điều kiện 2-8ºC), thuốc dược liệu, thuốc cổ truyền, sinh phẩm bảo quản điều kiện thường (Có bao gồm thuốc phải kiểm soát đặc biệt: Thuốc dạng phối hợp có chứa dược chất gây nghiện; Thuốc dạng phối hợp có chứa dược chất hướng thần; Thuốc dạng phối hợp có chứa tiền chất; Thuốc độc; Thuốc trong danh mục thuốc, dược chất thuộc danh mục chất bị cấm sử dụng trong một số ngành, lĩnh vực); Nguyên liệu làm thuốc: Dược chất (Có bao gồm nhóm β -Lactam và Non β -Lactam; Nguyên liệu độc; Dược chất trong danh mục thuốc, dược chất thuộc danh mục chất bị cấm sử dụng trong một số ngành, lĩnh vực); Tá dược; Vỏ nang.'\n",
      " 'Bán buôn thuốc dược liệu, thuốc cổ truyền (Không bao gồm Thuốc phải kiểm soát đặc biệt).'\n",
      " 'Bán buôn thuốc hóa dược, thuốc dược liệu, thuốc cổ truyền và sinh phẩm (Có bao gồm Thuốc phải kiểm soát đặc biệt: Thuốc trong danh mục thuốc, dược chất thuộc danh mục chất bị cấm sử dụng trong một số ngành, lĩnh vực)'\n",
      " 'Bán buôn thuốc hóa dược, thuốc dược liệu, thuốc cổ truyền,sinh phẩm bảo quản điều kiện thường (Có bao gồm thuốc phải kiểm soát đặc biệt: Thuốc dạng phối hợp có chứa dược chất gây nghiện; Thuốc dạng phối hợp có chứa dược chất hướng thần; Thuốc dạng phối hợp có chứa tiền chất; Thuốc độc; Thuốc trong danh mục thuốc, dược chất thuộc danh mục chất bị cấm sử dụng trong một số ngành, lĩnh vực).'\n",
      " 'Bán buôn thuốc hóa dược, thuốc dược liệu, thuốc cổ truyền (Có bao gồm thuốc phải kiểm soát đặc biệt: Thuốc dạng phối hợp có chứa dược chất gây nghiện; Thuốc dạng phối hợp có chứa dược chất hướng thần; Thuốc dạng phối hợp có chứa tiền chất; Thuốc độc; Thuốc trong danh mục thuốc, dược chất thuộc danh mục chất bị cấm sử dụng trong một số ngành, lĩnh vực) và sinh phẩm (Có bao gồm thuốc phải kiểm soát đặc biệt: Thuốc độc).'\n",
      " 'Bán buôn thuốc hóa dược, thuốc dược liệu, thuốc cổ truyền, sinh phẩm bảo quản ở điều kiện thường (Có bao gồm thuốc phải kiểm soát đặc biệt: thuốc dạng phối hợp có chứa dược chất gây nghiện, thuốc dạng phối hợp có chứa dược chất hướng thần, thuốc dạng phối hợp có chứa tiền chất ; thuốc độc; thuốc trong danh mục thuốc, dược chất thuộc danh mục chất bị cấm sử dụng trong một số ngành, lĩnh vực).'\n",
      " 'Bán buôn thuốc hóa dược, thuốc dược liệu, thuốc cổ truyền, vắc xin và sinh phẩm (Có bao gồm thuốc phải kiểm soát đặc biệt: Thuốc dạng phối hợp có chứa dược chất hướng thần; Thuốc dạng phối hợp có chứa tiền chất; Thuốc độc; Thuốc trong danh mục thuốc, dược chất thuộc danh mục chất bị cấm sử dụng trong một số ngành, lĩnh vực).'\n",
      " 'Bán buôn sinh phẩm chẩn đoán bảo quản ở điều kiện thường'\n",
      " 'Bán buôn vắc xin, sinh phẩm (điều kiện bảo quản 2-80C và điều kiện bảo quản âm sâu (-)400C đến (-)860C (Có bao gồm thuốc phải kiểm soát đặc biệt: Sinh phẩm thuộc danh mục thuốc độc bảo quản ở điều kiện 2-80C).'\n",
      " 'Bán buôn thuốc hóa dược, sinh phẩm bảo quản điều kiện thường (Có bao gồm thuốc phải kiểm soát đặc biệt: Thuốc dạng phối hợp có chứa dược chất gây nghiện; Thuốc dạng phối hợp có chứa dược chất hướng thần; Thuốc dạng phối hợp có chứa tiền chất; Thuốc độc; Thuốc trong danh mục thuốc, dược chất thuộc danh mục chất bị cấm sử dụng trong một số ngành, lĩnh vực).'\n",
      " 'Bán buôn thuốc hóa dược, thuốc dược liệu, thuốc cổ truyền, vắc xin, sinh phẩm (Có bao gồm thuốc phải kiểm soát đặc biệt: Thuốc dạng phối hợp có chứa dược chất gây nghiện; Thuốc dạng phối hợp có chứa dược chất hướng thần; thuốc dạng phối hợp có chứa tiền chất; Thuốc độc; Thuốc trong danh mục thuốc, dược chất thuộc danh mục chất bị cấm sử dụng trong một số ngành, lĩnh vực).'\n",
      " 'Bán buôn thuốc hóa dược, thuốc dược liệu, thuốc cổ truyền, sinh phẩm bảo quản ở điều kiện bảo quản thường'\n",
      " 'Bán buôn thuốc hóa dược, thuốc dược liệu, thuốc cổ truyền, sinh phẩm bảo quản điều kiện thường (Có bao gồm thuốc phải kiểm soát đặc biệt: Thuốc dạng phối hợp có chứa dược chất gây nghiện; Thuốc dạng phối hợp có chứa tiền chất; Thuốc độc; Thuốc trong danh mục thuốc, dược chất thuộc danh mục chất bị cấm sử dụng trong một số ngành, lĩnh vực).'\n",
      " 'Bán buôn thuốc hóa dược, thuốc dược liệu, thuốc cổ truyền (Không bao gồm Thuốc phải kiểm soát đặc biệt)'\n",
      " 'Bán buôn thuốc hóa dược, thuốc dược liệu, thuốc cổ truyền và sinh phẩm bảo quản điều kiện thường (Không bao gồm Thuốc phải kiểm soát đặc biệt).'\n",
      " 'Bán buôn nguyên liệu làm thuốc: Dược chất (Non β-Lactam - Không bao gồm nguyên liệu làm thuốc phải kiểm soát đặc biệt); Tá dược; Vỏ nang.'\n",
      " 'Bán buôn nguyên liệu làm thuốc: dược chất, tá dược, vỏ nang (Không bao gồm nguyên liệu làm thuốc phải kiểm soát đặc biệt và kháng sinh nhóm β lactam).'\n",
      " 'Bán buôn thuốc hóa dược, thuốc dược liệu, thuốc cổ truyền và sinh phẩm bảo quản ở điều kiện thường (Có bao gồm thuốc phải kiểm soát đặc biệt: Thuốc độc; Thuốc trong danh mục thuốc, dược chất thuộc danh mục chất bị cấm sử dụng trong một số ngành, lĩnh vực).'\n",
      " 'Bán buôn thuốc hóa dược (Có bao gồm thuốc phải kiểm soát đặc biệt: Thuốc độc; Thuốc trong danh mục thuốc, dược chất thuộc danh mục chất bị cấm sử dụng trong một số ngành, lĩnh vực).'\n",
      " 'Bán buôn thuốc hóa dược, thuốc dược liệu, thuốc cổ truyền, vắc xin, sinh phẩm y tế.'\n",
      " 'Bán buôn thuốc hóa dược, thuốc dược liệu, thuốc cổ truyền và sinh phẩm bảo quản ở điều kiện thường (Có bao gồm thuốc phải kiểm soát đặc biệt: Thuốc dạng phối hợp có chứa dược chất gây nghiện; Thuốc dạng phối hợp có chứa dược chất hướng thần; Thuốc dạng ph'\n",
      " 'Bán buôn thuốc hóa dược, thuốc dược liệu, thuốc cổ truyền, sinh phẩm (Có bao gồm thuốc phải kiểm soát đặc biệt: thuốc độc; thuốc trong danh mục thuốc, dược chất thuộc danh mục chất bị cấm sử dụng trong một số ngành, lĩnh vực).'\n",
      " 'Bán buôn thuốc hóa dược, thuốc dược liệu, thuốc cổ truyền và sinh phẩm (không bao gồm thuốc phải kiểm soát đặc biệt).'\n",
      " 'Bán buôn thuốc hóa dược, vắc xin và sinh phẩm (Không bao gồm Thuốc phải kiểm soát đặc biệt).'\n",
      " 'Bán buôn nguyên liệu làm thuốc: Dược chất, Tá dược (Không bao gồm nguyên liệu nhóm Beta-Lactam, nguyên liệu dược liệu, nguyên liệu sinh học và nguyên liệu phải kiểm soát đặc biệt) bảo quan ở điều kiện thường.'\n",
      " 'Bán buôn thuốc hóa dược, thuốc dược liệu, thuốc cổ truyền, sinh phẩm bảo quản điều kiện thường (Không bao gồm thuốc phải kiểm soát đặc biệt). Bán buôn dược liệu (Không bao gồm dược liệu độc).'\n",
      " 'Bán buôn thuốc hóa dược, thuốc dược liệu, thuốc cổ truyền, sinh phẩm bảo quản điều kiện thường (Không bao gồm thuốc phải soát đặc biệt).'\n",
      " 'Bán buôn thuốc hóa dược, thuốc dược liệu, thuốc cổ truyền, sinh phẩm bảo quản điều kiện thường (Có bao gồm thuốc phải kiểm soát đặc biệt: Thuốc dạng phối hợp có chứa dược chất gây nghiện; Thuốc độc; Thuốc trong danh mục thuốc, dược chất thuộc danh mục chất bị cấm sử dụng trong một số ngành, lĩnh vực).'\n",
      " 'Bán buôn thuốc hóa dược, thuốc dược liệu, thuốc cổ truyền và sinh phẩm bảo quản ở điều kiện thường (Có bao gồm thuốc phải kiểm soát đặc biệt: Thuốc dạng phối hợp có chứa dược chất gây nghiện; Thuốc trong danh mục thuốc, dược chất thuộc danh mục chất bị cấm sử dụng trong một số ngành, lĩnh vực). Nguyên liệu làm thuốc: Dược chất (Có bao gồm nhóm β-Lactam, nguyên liệu phải kiểm soát đặc biệt: Dược chất trong danh mục thuốc, dược chất thuộc danh mục chất bị cấm sử dụng trong một số ngành, lĩnh vực), Tá dược, Vỏ nang.'\n",
      " 'Bán buôn thuốc hóa dược, thuốc dược liệu, thuốc cổ truyền, sinh phẩm bảo quản điều kiện thường (Có bao gồm thuốc phải kiểm soát đặc biệt: Thuốc dạng phối hợp có chứa dược chất gây nghiện; Thuốc dạng phối hợp có chứa dược chất hướng thần; Thuốc độc; Thuốc trong danh mục thuốc, dược chất thuộc danh mục chất bị cấm sử dụng trong một số ngành, lĩnh vực).'\n",
      " 'Bán buôn thuốc hóa dược, thuốc dược liệu, thuốc cổ truyền, sinh phẩm (Có bao gồm thuốc phải kiểm soát đặc biệt: Thuốc dạng phối hợp có chứa dược chất gây nghiện; Thuốc dạng phối hợp có chứa dược chất hướng thần; thuốc dạng phối hợp có chứa tiền chất; Thuốc độc; Thuốc trong danh mục thuốc, dược chất thuộc danh mục chất bị cấm sử dụng trong một số ngành, lĩnh vực).'\n",
      " 'Bán buôn nguyên liệu làm thuốc: Dược chất (Có bao gồm kháng sinh nhóm β-Lactam; Nguyên liệu phải kiểm soát đặc biệt: Nguyên liệu độc; Dược chất trong danh mục thuốc, dược chất thuộc danh mục chất bị cấm sử dụng trong một số ngành, lĩnh vực); Tá dược.'\n",
      " 'Bán buôn nguyên liệu làm thuốc: Dược chất, tá dược (Không bao gồm nguyên liệu chứa kháng sinh nhóm β-Lactam và nguyên liệu làm thuốc phải kiểm soát đặc biệt).'\n",
      " 'Bán buôn thuốc hóa dược, thuốc dược liệu, thuốc cổ truyền, vắc xin và sinh phẩm (Có bao gồm thuốc phải kiểm soát đặc biệt: Thuốc dạng phối hợp có chứa dược chất gây nghiện; Thuốc dạng phối hợp có chứa dược chất hướng thần; Thuốc độc; Thuốc trong danh mục thuốc, dược chất thuộc danh mục chất bị cấm sử dụng trong một số ngành, lĩnh vực).'\n",
      " 'Bán buôn nguyên liệu làm thuốc (Tá dược).'\n",
      " 'Bán buôn thuốc hóa dược, thuốc dược liệu, thuốc cổ truyền, sinh phẩm bảo quản điều kiện thường (Có bao gồm thuốc phải kiểm soát đặc biệt: Thuốc dạng phối hợp có chứa dược chất gây nghiện; Thuốc dạng phối hợp có chứa dược chất hướng thần; Thuốc dạng phối hợp có chứa tiền chất; Thuốc độc; Thuốc trong danh mục thuốc, dược chất thuộc danh mục chất bị cấm sử dụng trong một số ngành, lĩnh vực); Nguyên liệu làm thuốc: Dược chất (Có bao gồm nguyên liệu nhóm β-Lactam; Có bao gồm nguyên liệu phải kiểm soát đặc biệt: Nguyên liệu độc; Dược chất trong danh mục thuốc, dược chất thuộc danh mục chất bị cấm sử dụng trong một số ngành, lĩnh vực); Dược liệu; Tá dược; Vỏ nang.'\n",
      " 'Bán buôn thuốc hóa dược, thuốc dược liệu, thuốc cổ truyền, vắc xin và sinh phẩm (Bảo quản điều kiện thường, điều kiện 2-80C và điều kiện bảo quản âm sâu (-)25 0C đến (-)150C); Có bao gồm thuốc phải kiểm soát đặc biệt: Thuốc dạng phối hợp có chứa dược chất gây nghiện; Thuốc dạng phối hợp có chứa dược chất hướng thần; Thuốc dạng phối hợp có chứa tiền chất; Thuốc độc; Thuốc trong danh mục thuốc, dược chất thuộc danh mục chất bị cấm sử dụng trong một số ngành, lĩnh vực).'\n",
      " 'Bán buôn thuốc hóa dược, thuốc dược liệu, thuốc cổ truyền, sinh phẩm bảo quản điều kiện thường (Có bao gồm thuốc phải kiểm soát đặc biệt: Thuốc dạng phối hợp có chứa dược chất gây nghiện; Thuốc dạng phối hợp có chứa dược chất hướng thần; Thuốc dạng phối hợp có chứa tiền chất; Thuốc độc; Thuốc trong danh mục thuốc, dược chất thuộc danh mục chất bị cấm sử dụng trong một số ngành, lĩnh vực); Nguyên liệu làm thuốc: Dược chất (Có bao gồm nhóm β -Lactam và Non β -Lactam; Nguyên liệu phải kiểm soát đặc biệt: Nguyên liệu độc; Dược chất trong danh mục thuốc, dược chất thuộc danh mục chất bị cấm sử dụng trong một số ngành, lĩnh vực); Tá dược; Vỏ nang.'\n",
      " 'Bán buôn thuốc dược liệu, thuốc cổ truyền.'\n",
      " 'Bán buôn thuốc hóa dược, thuốc dược liệu, thuốc cổ truyền, sinh phẩm bảo quản ở điều kiện thường (Có bao gồm thuốc phải kiểm soát đặc biệt: Thuốc dạng phối hợp có chứa dược chất gây nghiện; Thuốc dạng phối hợp có chứa dược chất hướng thần; Thuốc độc; Thuốc trong danh mục thuốc, dược chất thuộc danh mục chất bị cấm sử dụng trong một số ngành, lĩnh vực).'\n",
      " 'Bán buôn nguyên liệu làm thuốc: Dược chất, tá dược (Không bao gồm nguyên liệu nhóm β-lactam và nguyên liệu phải kiểm soát đặc biệt).'\n",
      " 'Bán buôn vắc xin, sinh phẩm (Có bao gồm thuốc phải kiểm soát đặc biệt: Thuốc độc (chỉ sinh phẩm))'\n",
      " 'Bán buôn thuốc hóa dược, vắc xin, sinh phẩm (Bảo quản điều kiện thường, điều kiện 2-80C và điều kiện bảo quản âm sâu (-)250C đến (-)150C; Có bao gồm thuốc phải kiểm soát đặc biệt: Thuốc dạng phối hợp có chứa dược chất gây nghiện; Thuốc dạng phối hợp có chứa dược chất hướng thần; Thuốc dạng phối hợp có chứa tiền chất; Thuốc độc; Thuốc trong danh mục thuốc, dược chất thuộc danh mục chất bị cấm sử dụng trong một số ngành, lĩnh vực).'\n",
      " 'Bán buôn thuốc hóa dược, thuốc dược liệu, thuốc cổ truyền và sinh phẩm (Có bao gồm Thuốc phải kiểm soát đặc biệt: Thuốc dạng phối hợp có chứa dược chất gây nghiện, thuốc dạng phối hợp có chứa dược chất hướng thần, thuốc dạng phối hợp có chứa tiền chất; thuốc độc; thuốc trong danh mục thuốc, dược chất thuộc danh mục chất bị cấm sử dụng trong một số ngành, lĩnh vực)'\n",
      " 'Bán buôn thuốc hóa dược, thuốc dược liệu, thuốc cổ truyền, sinh phẩm bảo quản điều kiện thường (Có bao gồm thuốc phải kiểm soát đặc biệt: Thuốc độc).'\n",
      " 'Bán buôn thuốc hóa dược, sinh phẩm bảo quản ở điều kiện thường (Có bao gồm thuốc phải kiểm soát đặc biệt: Thuốc độc; Thuốc trong danh mục thuốc, dược chất thuộc danh mục chất bị cấm sử dụng trong một số ngành, lĩnh vực).'\n",
      " 'Bán buôn Nguyên liệu làm thuốc: Dược chất (Không bao gồm nguyên liệu phải kiểm soát đặc biệt và nguyên liệu kháng sinh nhóm β Lactam); Tá dược; Vỏ nang.'\n",
      " 'Bán buôn thuốc hóa dược, thuốc dược liệu, thuốc cổ truyền và sinh phẩm bảo quản ở điều kiện thường (Không bao gồm thuốc phải kiểm soát đặc biệt) do Công ty TNHH Thai Nakorn Patana Việt Nam sản xuất (Doanh nghiệp có vốn đầu tư nước ngoài).'\n",
      " 'Bán buôn vắc xin, sinh phẩm (Bảo quản điều kiện thường, bảo quản điều kiện lạnh (2ºC - 8ºC) và bảo quản điều kiện âm sâu (từ -25ºC đến -15ºC).'\n",
      " 'Bán buôn thuốc hóa dược, thuốc dược liệu, thuốc cổ truyền, sinh phẩm bảo quản điều kiện thường (Có bao gồm thuốc phải kiểm soát đặc biệt; Thuốc trong danh mục thuốc, dược chất thuộc danh mục chất bị cấm sử dụng trong một số ngành, lĩnh vực).'\n",
      " 'Bán buôn thuốc hóa dược, thuốc dược liệu, thuốc cổ truyền, sinh phẩm bảo quản điều kiện thường (Không bao gồm thuốc phải kiểm soát đặc biệt). Bán buôn nguyên liệu làm thuốc: Dược chất, tá dược (Không bao gồm nguyên liệu kháng sinh nhóm β- Lactam và nguyên liệu làm thuốc phải kiểm soát đặc biệt).'\n",
      " 'Bán buôn thuốc hóa dược (có bao gồm thuốc bảo quản điều kiện 20C - 80C), thuốc dược liệu, thuốc cổ truyền (có bao gồm vị thuốc cổ truyền) (Có bao gồm thuốc phải kiểm soát đặc biệt: Thuốc dạng phối hợp có chứa dược chất gây nghiện; Thuốc dạng phối hợp có chứa dược chất hướng thần; Thuốc dạng phối hợp có chứa tiền chất; Thuốc độc; Thuốc trong danh mục thuốc, dược chất thuộc danh mục chất bị cấm sử dụng trong một số ngành, lĩnh vực); Vắc xin, sinh phẩm.'\n",
      " 'Bán buôn thuốc hóa dược, thuốc dược liệu, thuốc cổ truyền và sinh phẩm bảo quản điều kiện thường (Có bao gồm Thuốc phải kiểm soát đặc biệt: thuốc gây nghiện, thuốc hướng thần, thuốc tiền chất, thuốc dạng phối hợp có chứa dược chất gây nghiện, thuốc dạng phối hợp có chứa dược chất hướng thần, thuốc dạng phối hợp có chứa tiền chất; thuốc độc; thuốc trong danh mục thuốc, dược chất thuộc danh mục chất bị cấm sử dụng trong một số ngành, lĩnh vực)'\n",
      " 'Bán buôn thuốc hóa dược, thuốc dược liệu, thuốc cổ truyền và sinh phẩm (Có bao gồm Thuốc phải kiểm soát đặc biệt: thuốc độc)'\n",
      " 'Bán buôn thuốc hóa dược, thuốc dược liệu, thuốc cổ truyền, sinh phẩm bảo quản điều kiện thường (Có bao gồm thuốc phải kiểm soát đặc biệt: Thuốc dạng phối hợp có chứa dược chất gây nghiện; Thuốc dạng phối hợp có chứa dược chất hướng thần; Thuốc dạng phối hợp có chứa tiền chất; Thuốc độc; Thuốc trong danh mục thuốc, dược chất thuộc danh mục chất bị cấm sử dụng trong một số ngành, lĩnh vực), nguyên liệu làm thuốc (Có bao gồm nguyên liệu ß-Lactam, nguyên liệu Non ß-Lactam và nguyên liệu phải kiểm soát đặc biệt: nguyên liệu độc làm thuốc).'\n",
      " 'Bán buôn thuốc hóa dược, thuốc dược liệu, thuốc cổ truyền, vắc xin và sinh phẩm (Có bao gồm Thuốc phải kiểm soát đặc biệt: thuốc dạng phối hợp có chứa dược chất gây nghiện, thuốc dạng phối hợp có chứa dược chất hướng thần, thuốc dạng phối hợp có chứa tiền chất; thuốc độc; thuốc trong danh mục thuốc, dược chất thuộc danh mục chất bị cấm sử dụng trong một số ngành, lĩnh vực)'\n",
      " 'Bán buôn thuốc hóa dược, thuốc dược liệu, thuốc cổ truyền, sinh phẩm bảo quản điều kiện thường (Có bao gồm thuốc phải kiểm soát đặc biệt:Thuốc dạng phối hợp có chứa dược chất gây nghiện; Thuốc dạng phối hợp có chứa dược chất hướng thần; Thuốc dạng phối hợp có chứa tiền chất; Thuốc độc; Thuốc trong danh mục thuốc, dược chất thuộc danh mục chất bị cấm sử dụng trong một số ngành, lĩnh vực).'\n",
      " 'Bán buôn thuốc hóa dược, sinh phẩm bảo quản điều kiện thường (Có bao gồm thuốc phải kiểm soát đặc biệt: Thuốc độc; Thuốc trong danh mục thuốc, dược chất thuộc danh mục chất bị cấm sử dụng trong một số ngành, lĩnh vực).'\n",
      " 'Bán buôn thuốc hóa dược, thuốc dược liệu, thuốc cổ truyền, sinh phẩm (Có bao gồm thuốc phải kiểm soát đặc biệt: Thuốc dạng phối hợp có chứa dược chất gây nghiện, thuốc dạng phối hợp có chứa dược chất hướng thần, thuốc dạng phối hợp có chứa tiền chất; Thuốc độc; Thuốc trong danh mục thuốc, dược chất thuộc danh mục chất bị cấm sử dụng trong một số ngành, lĩnh vực).'\n",
      " 'Bán buôn thuốc hóa dược, thuốc dược liệu, thuốc cổ truyền, sinh phẩm bảo quản ở điều kiện thường (Có bao gồm thuốc phải kiểm soát đặc biệt: Thuốc dạng phối hợp có chứa dược chất gây nghiện; Thuốc trong danh mục thuốc, dược chất thuộc danh mục chất bị cấm sử dụng trong một số ngành, lĩnh vực).'\n",
      " 'Bán buôn nguyên liệu làm thuốc: tá dược.'\n",
      " 'Bán buôn thuốc hóa dược, thuốc dược liệu, thuốc cổ truyền, sinh phẩm bảo quản điều kiện thường (Có bao gồm thuốc phải kiểm soát đặc biệt: Thuốc dạng phối hợp có chứa dược chất gây nghiện; Thuốc dạng phối hợp có chứa dược chất hướng thần; Thuốc dạng phối hợp có chứa tiền chất; Thuốc độc; Thuốc trong danh mục thuốc, dược chất thuộc danh mục chất bị cấm sử dụng trong một số ngành, lĩnh vực); Nguyên liệu làm thuốc: dược chất, tá dược (Có bao gồm nguyên liệu chứa kháng sinh nhóm beta lactam. Có bao gồm nguyên liệu phải kiểm soát đặc biệt: dược chất trong danh mục thuốc, dược chất thuộc danh mục chất bị cấm sử dụng trong một số ngành, lĩnh vực).'\n",
      " 'Bán buôn thuốc hóa dược, thuốc dược liệu, thuốc cổ truyền, sinh phẩm (Có bao gồm thuốc phải kiểm soát đặc biệt: Thuốc dạng phối hợp có chứa dược chất gây nghiện; Thuốc dạng phối hợp có chứa dược chất hướng thần; Thuốc dạng phối hợp có chứa tiền chất; Thuốc độc; Thuốc trong danh mục thuốc, dược chất thuộc danh mục chất bị cấm sử dụng trong một số ngành, lĩnh vực).'\n",
      " 'Bán buôn thuốc thành phẩm.'\n",
      " 'Bán buôn thuốc hóa dược, thuốc dược liệu (Có bao gồm thuốc phải kiểm soát đặc biệt: Thuốc dạng phối hợp có chứa dược chất gây nghiện; Thuốc dạng phối hợp có chứa dược chất hướng thần; Thuốc dạng phối hợp có chứa tiền chất; Thuốc độc; Thuốc trong danh mục thuốc, dược chất thuộc danh mục chất bị cấm sử dụng trong một số ngành, lĩnh vực).'\n",
      " 'Bán buôn thuốc hóa dược, sinh phẩm bảo quản ở điều kiện thường (Có bao gồm thuốc phải kiểm soát đặc biệt: Thuốc dạng phối hợp có chứa dược chất gây nghiện; Thuốc dạng phối hợp có chứa dược chất hướng thần; Thuốc dạng phối hợp có chứa tiền chất; Thuốc độc; Thuốc trong danh mục thuốc, dược chất thuộc danh mục chất bị cấm sử dụng trong một số ngành, lĩnh vực).'\n",
      " 'Bán buôn thuốc hóa dược, thuốc dược liệu, thuốc cổ truyền (Có bao gồm thuốc phải kiểm soát đặc biệt: Thuốc độc; Thuốc trong danh mục thuốc, dược chất thuộc danh mục chất bị cấm sử dụng trong một số ngành, lĩnh vực).'\n",
      " 'Bán buôn thuốc hóa dược, thuốc dược liệu, thuốc cổ truyền và sinh phẩm (Không bao gồm thuốc phải kiểm soát đặc biệt).'\n",
      " 'Bán buôn thuốc hóa dược, thuốc dược liệu, thuốc cổ truyền, sinh phẩm bảo quản điều kiện thường (Có bao gồm Thuốc dạng phối hợp có chứa dược chất gây nghiện; Thuốc dạng phối hợp có chứa dược chất hướng thần; Thuốc dạng phối hợp có chứa tiền chất; Thuốc độc; Thuốc trong danh mục thuốc, dược chất thuộc danh mục chất bị cấm sử dụng trong một số ngành, lĩnh vực); Nguyên liệu làm thuốc là dược chất, tá dược, vỏ nang (Có bao gồm: Nguyên liệu độc làm thuốc; Dược chất thuộc danh mục chất bị cấm sử dụng trong một số ngành, lĩnh vực; Nguyên liệu kháng sinh nhóm β-Lactam).'\n",
      " 'Bán buôn thuốc hóa dược, thuốc dược liệu, thuốc cổ truyền, vắc xin, sinh phẩm (Có bao gồm thuốc phải kiểm soát đặc biệt: Thuốc độc; Thuốc trong danh mục thuốc, dược chất thuộc danh mục chất bị cấm sử dụng trong một số ngành, lĩnh vực).'\n",
      " 'Bán buôn thuốc hóa dược, thuốc dược liệu, sinh phẩm bảo quản điều kiện thường (Có bao gồm thuốc phải kiểm soát đặc biệt: Thuốc dạng phối hợp có chứa dược chất gây nghiện, thuốc dạng phối hợp có chứa dược chất hướng thần, thuốc dạng phối hợp có chứa tiền chất; Thuốc độc; Thuốc trong danh mục thuốc, dược chất thuộc danh mục chất bị cấm sử dụng trong một số ngành, lĩnh vực).'\n",
      " 'Bán buôn thuốc hóa dược, thuốc dược liệu, thuốc cổ truyền (Có bao gồm Thuốc phải kiểm soát đặc biệt: thuốc dạng phối hợp có chứa dược chất gây nghiện, thuốc trong danh mục thuốc, dược chất thuộc danh mục chất bị cấm sử dụng trong một số ngành, lĩnh vực)'\n",
      " 'Bán buôn thuốc hóa dược, thuốc dược liệu, thuốc cổ truyền (Có bao gồm thuốc phải kiểm soát đặc biệt: Thuốc trong danh mục thuốc, dược chất thuộc danh mục chất bị cấm sử dụng trong một số ngành, lĩnh vực).'\n",
      " 'Bán buôn thuốc hóa dược, thuốc dược liệu, thuốc cổ truyền (Có bao gồm Thuốc phải kiểm soát đặc biệt: thuốc gây nghiện, thuốc hướng thần, thuốc tiền chất, thuốc dạng phối hợp có chứa dược chất gây nghiện, thuốc dạng phối hợp có chứa dược chất hướng thần, thuốc dạng phối hợp có chứa tiền chất; thuốc độc; thuốc trong danh mục thuốc, dược chất thuộc danh mục chất bị cấm sử dụng trong một số ngành, lĩnh vực)'\n",
      " 'Bán buôn thuốc hóa dược bảo quản điều kiện thường và bảo quản điều kiện 2oC-8oC, thuốc dược liệu, thuốc cổ truyền, sinh phẩm (Có bao gồm thuốc phải kiểm soát đặc biệt: Thuốc dạng phối hợp có chứa dược chất gây nghiện; Thuốc dạng phối hợp có chứa dược chất hướng thần; Thuốc dạng phối hợp có chứa tiền chất; Thuốc độc; Thuốc trong danh mục thuốc, dược chất thuộc danh mục chất bị cấm sử dụng trong một số ngành, lĩnh vực); Nguyên liệu làm thuốc gồm tá dược, dược chất bảo quản điều kiện thường và bảo quản điều kiện mát 8oC-15oC (Có bao gồm nguyên liệu Beta-Lactam; Nguyên liệu phải kiểm soát đặc biệt: Nguyên liệu độc, Dược chất thuộc danh mục chất bị cấm sử dụng trong một số ngành, lĩnh vực).'\n",
      " 'Bán buôn thuốc hóa dược, thuốc dược liệu, thuốc cổ truyền, sinh phẩm bảo quản điều kiện thường; nguyên liệu làm thuốc (Dược chất, Tá dược) (Không bao gồm nhóm β-Lactam; Thuốc và nguyên liệu làm thuốc phải kiểm soát đặc biệt).'\n",
      " 'Bán buôn thuốc hóa dược, thuốc dược liệu, thuốc cổ truyền, sinh phẩm bảo quản điều kiện thường. Bán buôn nguyên liệu làm thuốc: Dược chất, Tá dược (Không bao gồm thuốc, nguyên liệu làm thuốc phải kiểm soát đặc biệt; Không bao gồm kháng sinh nhóm β-lactam).'\n",
      " 'Bán buôn thuốc hóa dược, thuốc dược liệu, thuốc cổ truyền, sinh phẩm bảo quản ở điều kiện thường (Có bao gồm thuốc phải kiểm soát đặc biệt: Thuốc dạng phối hợp có chứa dược chất gây nghiện, thuốc dạng phối hợp có chứa dược chất hướng thần, thuốc dạng phối hợp có chứa tiền chất; thuốc độc; thuốc trong danh mục thuốc, dược chất thuộc danh mục chất bị cấm sử dụng trong một số ngành, lĩnh vực).'\n",
      " 'Bán buôn nguyên liệu làm thuốc: Dược chất, Tá dược, Vỏ nang (Không bao gồm nguyên liệu nhóm beta-lactam và nguyên liệu phải kiểm soát đặc biệt).'\n",
      " 'Bán buôn thuốc hóa dược, thuốc dược liệu, thuốc cổ truyền, sinh phẩm bảo quản điều kiện thường (Có bao gồm thuốc phải kiểm soát đặc biệt: thuốc độc, thuốc trong danh mục thuốc, dược chất thuộc danh mục chất bị cấm sử dụng trong một số ngành, lĩnh vực).'\n",
      " 'Bán buôn thuốc hóa dược, thuốc dược liệu, vắc xin và sinh phẩm (Có bao gồm thuốc phải kiểm soát đặc biệt: Thuốc dạng phối hợp có chứa dược chất gây nghiện; Thuốc dạng phối hợp có chứa dược chất hướng thần; Thuốc dạng phối hợp có chứa tiền chất; Thuốc độc; Thuốc trong danh mục thuốc, dược chất thuộc danh mục chất bị cấm sử dụng trong một số ngành, lĩnh vực) và nguyên liệu làm thuốc (Có bao gồm nguyên liệu làm thuốc phải kiểm soát đặc biệt: Nguyên liệu độc làm thuốc, dược chất trong danh mục thuốc, dược chất thuộc danh mục chất bị cấm sử dụng trong một số ngành, lĩnh vực; không bao gồm nguyên liệu chứa kháng sinh nhóm β-lactam).'\n",
      " 'Bán buôn thuốc hóa dược, thuốc dược liệu, thuốc cổ truyền, sinh phẩm bảo quản ở điều kiện thường (Có bao gồm thuốc phải kiểm soát đặc biệt: Thuốc dạng phối hợp có chứa dược chất gây nghiện, thuốc dạng phối hợp có chứa dược chất hướng thần, thuốc dạng phối hợp có chứa tiền chất ; thuốc độc; thuốc trong danh mục thuốc, dược chất thuộc danh mục chất bị cấm sử dụng trong một số ngành, lĩnh vực); Nguyên liệu làm thuốc là dược chất (Không bao gồm β - Lactam và nguyên liệu làm thuốc phải kiểm soát đặc biệt).'\n",
      " 'Bán buôn nguyên liệu làm thuốc (Có bao gồm nguyên liệu phải kiểm soát đặc biệt: Nguyên liệu độc làm thuốc; Dược chất thuộc danh mục chất bị cấm sử dụng trong một số ngành, lĩnh vực) không bao gồm nguyên liệu nhóm Beta - Lactam.'\n",
      " 'Bán buôn thuốc hóa dược, thuốc dược liệu, thuốc cổ truyền, sinh phẩm bảo quản ở điều kiện thường (Không bao gồm thuốc kiểm soát đặc biệt).'\n",
      " 'Bán buôn thuốc hóa dược, thuốc dược liệu, thuốc cổ truyền, sinh phẩm bảo quản ở điều kiện thường (Có bao gồm thuốc phải kiểm soát đặc biệt: Thuốc độc; thuốc trong danh mục thuốc, dược chất thuộc danh mục chất bị cấm sử dụng trong một số ngành, lĩnh vực).'\n",
      " 'Bán buôn thuốc hóa dược, thuốc dược liệu, thuốc cổ truyền (Có bao gồm thuốc phải kiểm soát đặc biệt: Thuốc dạng phối hợp có chứa dược chất gây nghiện; Thuốc dạng phối hợp có chứa dược chất hướng thần; Thuốc độc; Thuốc trong danh mục thuốc, dược chất thuộc danh mục chất bị cấm sử dụng trong một số ngành, lĩnh vực).'\n",
      " 'Bán buôn thuốc hóa dược, thuốc dược liệu, thuốc cổ truyền, sinh phẩm bảo quản điều kiện thường (Có bao gồm thuốc phải kiểm soát đặc biệt: Thuốc dạng phối hợp có chứa dược chất gây nghiện; Thuốc dạng phối hợp có chứa dược chất hướng thần; Thuốc dạng phối hợp có chứa tiền chất; Thuốc độc; Thuốc trong danh mục thuốc, dược chất thuộc danh mục chất bị cấm sử dụng trong một số ngành, lĩnh vực); Bán buôn nguyên liệu làm thuốc: Dược chất, dược liệu, tá dược, vỏ nang (không bao gồm nguyên liệu nhóm β-Lactam; Bao gồm nguyên liệu phải kiểm soát đặc biệt: nguyên liệu độc, dược chất trong danh mục thuốc, dược chất thuộc danh mục chất bị cấm sử dụng trong một số ngành, lĩnh vực).'\n",
      " 'Bán buôn thuốc hóa dược, thuốc dược liệu, thuốc cổ truyền và sinh phẩm bảo quản ở điều kiện thường (Có bao gồm thuốc phải kiểm soát đặc biệt: Thuốc dạng phối hợp có chứa dược chất gây nghiện; Thuốc độc; Thuốc trong danh mục thuốc, dược chất thuộc danh mục chất bị cấm sử dụng trong một số ngành, lĩnh vực); Bán buôn nguyên liệu làm thuốc: Dược chất (Có bao gồm nguyên liệu phải kiểm soát đặc biệt: nguyên liệu độc làm thuốc; dược chất trong danh mục thuốc, dược chất thuộc danh mục chất bị cấm sử dụng trong một số ngành, lĩnh vực; Không bao gồm kháng sinh nhóm β-Lactam), tá dược, vỏ nang.'\n",
      " 'Bán buôn thuốc hóa dược, thuốc dược liệu, thuốc cổ truyền, sinh phẩm bảo quản điều kiện thường (Có bao gồm thuốc phải kiểm soát đặc biệt: Thuốc dạng phối hợp có chứa dược chất gây nghiện; Thuốc trong danh mục thuốc, dược chất thuộc danh mục chất bị cấm sử dụng trong một số ngành, lĩnh vực).'\n",
      " 'Bán buôn thuốc hóa dược, thuốc dược liệu, thuốc cổ truyền, sinh phẩm (Có bao gồm thuốc phải kiểm soát đặc biệt: Thuốc độc).'\n",
      " 'Bán buôn thuốc hóa dược, thuốc dược liệu, thuốc cổ truyền, sinh phẩm (Có bao gồm thuốc phải kiểm soát đặc biệt: Thuốc dạng phối hợp có chứa dược chất gây nghiện; Thuốc dạng phối hợp có chứa dược chất hướng thần; Thuốc dạng phối hợp có chứa tiền chất; Thuốc độc; Thuốc trong danh mục thuốc, dược chất thuộc danh mục chất bị cấm sử dụng trong một số ngành, lĩnh vực); Nguyên liệu làm thuốc bảo quản điều kiện thường và điều kiện 2-80C: tá dược , vỏ nang, dược chất (bao gồm nguyên liệu kháng sinh nhóm beta lactam và non beta lactam, có bao gồm nguyên liệu phải kiểm soát đặc biệt: dược chất trong danh mục thuốc, dược chất thuộc danh mục chất bị cấm sử dụng trong một số ngành, lĩnh vực).'\n",
      " 'Bán buôn thuốc hóa dược, thuốc dược liệu, thuốc cổ truyền, sinh phẩm (Có bao gồm thuốc phải kiểm soát đặc biệt: Thuốc hướng thần; Thuốc dạng phối hợp có chứa dược chất gây nghiện; Thuốc dạng phối hợp có chứa dược chất hướng thần; Thuốc dạng phối hợp có chứa tiền chất; Thuốc độc; Thuốc trong danh mục thuốc, dược chất thuộc danh mục chất bị cấm sử dụng trong một số ngành, lĩnh vực).'\n",
      " 'Bán buôn thuốc hóa dược, thuốc dược liệu, thuốc cổ truyền và sinh phẩm (Không bao gồm Thuốc phải kiểm soát đặc biệt)'\n",
      " 'Bán buôn nguyên liệu làm thuốc (Không bao gồm Nguyên liệu nhóm β-Lactam và Nguyên liệu phải kiểm soát đặc biệt)'\n",
      " 'Bán buôn thuốc hóa dược, sinh phẩm bảo quản điều kiện thường (Có bao gồm thuốc phải kiểm soát đặc biệt: Thuốc trong danh mục thuốc, dược chất thuộc danh mục chất bị cấm sử dụng trong một số ngành, lĩnh vực).'\n",
      " 'Bán buôn nguyên liệu làm thuốc: dược chất, dược liệu, tá dược, vỏ nang (Không bao gồm nguyên liệu làm thuốc phải kiểm soát đặc biệt và nguyên liệu làm thuốc nhóm β-lactam).'\n",
      " 'Bán buôn thuốc hóa dược, thuốc dược liệu, thuốc cổ truyền, vắc xin và sinh phẩm (Có bao gồm thuốc phải kiểm soát đặc biệt: Thuốc dạng phối hợp có chứa dược chất gây nghiện; Thuốc dạng phối hợp có chứa dược chất hướng thần; Thuốc dạng phối hợp có chứa tiền chất; Thuốc độc; Thuốc trong danh mục thuốc, dược chất thuộc danh mục chất bị cấm sử dụng trong một số ngành, lĩnh vực); Nguyên liệu làm thuốc: Dược chất, Tá dược (Có bao gồm nguyên liệu làm thuốc phải kiểm soát đặc biệt: Nguyên liệu độc làm thuốc; Dược chất thuộc danh mục thuốc, dược chất bị cấm sử dụng trong một số ngành, lĩnh vực; Không bao gồm nguyên liệu nhóm β-Lactam).'\n",
      " 'Bán buôn thuốc hóa dược, thuốc dược liệu, thuốc cổ truyền, sinh phẩm bảo quản điều kiện thường (Có bao gồm thuốc phải kiểm soát đặc biệt: Thuốc dạng phối hợp có chứa dược chất gây nghiện; Thuốc dạng phối hợp có chứa dược chất hướng thần; Thuốc dạng phối hợp có chứa tiền chất; Thuốc độc; Thuốc trong danh mục thuốc, dược chất thuộc danh mục chất bị cấm sử dụng trong một số ngành, lĩnh vực); Nguyên liệu làm thuốc: Dược chất, Tá dược; Vỏ nang (Không bao gồm nguyên liệu nhóm β-Lactam; Có bao gồm nguyên liệu phải kiểm soát đặc biệt: Nguyên liệu độc; Dược chất thuộc danh mục thuốc, dược chất thuộc danh mục chất bị cấm sử dụng trong một số ngành, lĩnh vực).'\n",
      " 'Bán buôn nguyên liệu làm thuốc bảo quản điều kiện thường (Không bao gồm nguyên liệu kháng sinh nhóm β-Lactam, nguyên liệu làm thuốc phải kiểm soát đặc biệt, dược liệu).'\n",
      " 'Bán buôn nguyên liệu làm thuốc: Dược chất (β-Lactam và Non β-Lactam); Tá dược và Vỏ nang (Có bao gồm nguyên liệu làm thuốc phải kiểm soát đặc biệt: Nguyên liệu độc; dược chất thuộc danh mục chất bị cấm sử dụng trong một số ngành, lĩnh vực).'\n",
      " 'Bán buôn thuốc hóa dược, thuốc dược liệu, thuốc cổ truyền, sinh phẩm bảo quản điều kiện thường (Có bao gồm thuốc phải kiểm soát đặc biệt: Thuốc dạng phối hợp có chứa dược chất gây nghiện; Thuốc độc; Thuốc trong danh mục thuốc, dược chất thuộc danh mục chất bị cấm sử dụng trong một số ngành, lĩnh vực)'\n",
      " 'Bán buôn thuốc hóa dược, thuốc dược liệu, thuốc cổ truyền, vắc xin và sinh phẩm (Có bao gồm Thuốc phải kiểm soát đặc biệt: thuốc gây nghiện, thuốc hướng thần, thuốc tiền chất, thuốc dạng phối hợp có chứa dược chất gây nghiện, thuốc dạng phối hợp có chứa dược chất hướng thần, thuốc dạng phối hợp có chứa tiền chất; thuốc độc; thuốc trong danh mục thuốc, dược chất thuộc danh mục chất bị cấm sử dụng trong một số ngành, lĩnh vực)'\n",
      " 'Bán buôn sản phẩm Vắc xin, Sinh phẩm y tế'\n",
      " 'Bán buôn thuốc hóa dược, thuốc dược liệu, thuốc cổ truyền, sinh phẩm bảo quản điều kiện thường (Không bao gồm thuốc phải kiểm soát đặc biệt)'\n",
      " 'Bán buôn thuốc hóa dược, thuốc dược liệu, thuốc cổ truyền, sinh phẩm bảo quản điều kiện thường (Có bao gồm Thuốc gây nghiện; Thuốc hướng thần; Thuốc tiền chất; Thuốc dạng phối hợp có chứa dược chất gây nghiện; Thuốc dạng phối hợp có chứa dược chất hướng thần; Thuốc dạng phối hợp có chứa tiền chất; Thuốc độc; Thuốc trong danh mục thuốc, dược chất thuộc danh mục chất bị cấm sử dụng trong một số ngành, lĩnh vực) và Nguyên liệu kháng sinh nhóm β Lactam (Không bao gồm nguyên liệu kiểm soát đặc biệt).'\n",
      " 'Bán buôn thuốc hóa dược, thuốc dược liệu, thuốc cổ truyền, sinh phẩm bảo quản điều kiện thường (Có bao gồm thuốc phải kiểm soát đặc biệt: Thuốc gây nghiện; Thuốc hướng thần; Thuốc tiền chất; Thuốc dạng phối hợp có chứa dược chất gây nghiện; Thuốc dạng phối hợp có chứa dược chất hướng thần; Thuốc dạng phối hợp có chứa tiền chất; Thuốc độc; Thuốc trong danh mục thuốc, dược chất thuộc danh mục chất bị cấm sử dụng trong một số ngành, lĩnh vực; không bao gồm thuốc phóng xạ); và nguyên liệu làm thuốc (Có bao gồm nguyên liệu làm thuốc phải kiểm soát đặc biệt: Nguyên liệu là dược chất gây nghiện; Nguyên liệu là dược chất hướng thần; Nguyên liệu là tiền chất dùng làm thuốc; Nguyên liệu độc làm thuốc; Dược chất trong danh mục thuốc, dược chất thuộc danh mục chất bị cấm sử dụng trong một số ngành, lĩnh vực; không bao gồm nguyên liệu β - Lactam, dược liệu, chất phóng xạ để sản xuất thuốc).'\n",
      " 'Bán buôn thuốc hóa dược (Có bao gồm thuốc bảo quản điều kiện 2 - 8oC), thuốc dược liệu, thuốc cổ truyền (Có bao gồm thuốc phải kiểm soát đặc biệt: Thuốc gây nghiện, thuốc hướng thần, thuốc tiền chất; Thuốc dạng phối hợp có chứa dược chất gây nghiện; Thuốc dạng phối hợp có chứa dược chất hướng thần; Thuốc dạng phối hợp có chứa tiền chất; Thuốc độc; Thuốc trong danh mục thuốc, dược chất thuộc danh mục chất bị cấm sử dụng trong một số ngành, lĩnh vực), Vắc xin và sinh phẩm (Có bao gồm bảo quản ở điều kiện 2-8 độC và điều kiện âm sâu -50 độC đến -15 độC và -25độC đến -15độC); Nguyên liệu làm thuốc: tá dược, dược chất (Có bao gồm nguyên liệu làm thuốc phải kiểm soát đặc biệt: Nguyên liệu độc; Dược chất trong danh mục thuốc, dược chất thuộc danh mục chất bị cấm sử dụng trong một số ngành, lĩnh vực; Không bao gồm nguyên liệu chứa kháng sinh nhóm Beta-lactam và chất phóng xạ).'\n",
      " 'Bán buôn thuốc hóa dược, thuốc dược liệu, thuốc cổ truyền, sinh phẩm bảo quản điều kiện thường (Có bao gồm thuốc phải kiểm soát đặc biệt: Thuốc hướng thần, Thuốc dạng phối hợp có chứa dược chất gây nghiện; Thuốc dạng phối hợp có chứa dược chất hướng thần; Thuốc dạng phối hợp có chứa tiền chất; Thuốc độc; Thuốc trong danh mục thuốc, dược chất thuộc danh mục chất bị cấm sử dụng trong một số ngành, lĩnh vực).'\n",
      " 'Bán buôn thuốc hóa dược, thuốc dược liệu, thuốc cổ truyền, vắc xin và sinh phẩm (Có bao gồm thuốc phải kiểm soát đặc biệt: Thuốc gây nghiện; Thuốc hướng thần; Thuốc tiền chất; Thuốc dạng phối hợp có chứa dược chất gây nghiện; Thuốc dạng phối hợp có chứa dược chất hướng thần; Thuốc dạng phối hợp có chứa tiền chất; Thuốc độc; Thuốc trong danh mục thuốc, dược chất thuộc danh mục chất bị cấm sử dụng trong một số ngành, lĩnh vực).'\n",
      " 'Bán buôn thuốc hóa dược, thuốc dược liệu, thuốc cổ truyền,  vắc xin và sinh phẩm (Có bao gồm thuốc phải kiểm soát đặc biệt: Thuốc gây nghiện; Thuốc hướng thần; thuốc tiền chất; Thuốc dạng phối hợp có chứa dược chất gây nghiện; Thuốc dạng phối hợp có chứa dược chất hướng thần; Thuốc dạng phối hợp có chứa tiền chất; Thuốc độc; Thuốc trong danh mục thuốc, dược chất thuộc danh mục chất bị cấm sử dụng trong một số ngành, lĩnh vực). Nguyên liệu làm thuốc (Có bao gồm nguyên liệu kiểm soát đặc biệt: nguyên liệu là dược chất gây nghiện, hướng thần, tiền chất; nguyên liệu độc làm thuốc, nguyên liệu là dược chất thuộc danh mục chất bị cấm sử dụng trong một số ngành, lĩnh vực); Nguyên liệu là bán thành phẩm dược liệu dùng làm thuốc, không bao gồm nguyên liệu kháng sinh nhóm β Lactam, chất phóng xạ.'\n",
      " 'Bán buôn thuốc hóa dược, thuốc dược liệu, thuốc cổ truyền, sinh phẩm bảo quản điều kiện thường (Có bao gồm thuốc phải kiểm soát đặc biệt: Thuốc gây nghiện; Thuốc hướng thần; Thuốc tiền chất; Thuốc dạng phối hợp có chứa dược chất gây nghiện; Thuốc dạng phối hợp có chứa dược chất hướng thần; Thuốc dạng phối hợp có chứa tiền chất; Thuốc độc; Thuốc trong danh mục thuốc, dược chất thuộc danh mục chất bị cấm sử dụng trong một số ngành, lĩnh vực).'\n",
      " 'Bán buôn thuốc hóa dược, thuốc dược liệu, thuốc cổ truyền, vắc xin và sinh phẩm (Có bao gồm thuốc phải kiểm soát đặc biệt: Thuốc gây nghiện; Thuốc hướng thần; Thuốc tiền chất; Thuốc dạng phối hợp có chứa dược chất gây nghiện; Thuốc dạng phối hợp có chứa dược chất hướng thần; Thuốc dạng phối hợp có chứa tiền chất; Thuốc độc; Thuốc trong danh mục thuốc, dược chất thuộc danh mục chất bị cấm sử dụng trong một số ngành, lĩnh vực). Bán buôn nguyên liệu làm thuốc: Dược chất, tá dược, vỏ nang (Có bao gồm nguyên liệu làm thuốc phải kiểm soát đặc biệt: Dược chất gây nghiện; Dược chất hướng thần; Tiền chất dùng làm thuốc; Nguyên liệu độc; Dược chất trong danh mục thuốc, dược chất thuộc danh mục chất bị cấm sử dụng trong một số ngành, lĩnh vực; Không bao gồm nguyên liệu chứa kháng sinh nhóm Beta-lactam).'\n",
      " 'Bán buôn thuốc hóa dược, thuốc dược liệu, thuốc cổ truyền, sinh phẩm bảo quản điều kiện thường (Có bao gồm thuốc phải kiểm soát đặc biệt: Thuốc gây nghiện; Thuốc hướng thần; Thuốc dạng phối hợp có chứa dược chất gây nghiện; Thuốc dạng phối hợp có chứa dược chất hướng thần; Thuốc dạng phối hợp có chứa tiền chất; Thuốc độc; Thuốc trong danh mục thuốc, dược chất thuộc danh mục chất bị cấm sử dụng trong một số ngành, lĩnh vực).'\n",
      " 'Xuất khẩu, nhập khẩu thuốc thành phẩm và nguyên liệu làm thuốc'\n",
      " 'Xuất khẩu, nhập khẩu thuốc thành phẩm, nguyên liệu làm thuốc'\n",
      " 'Xuất nhập khẩu thuốc hóa dược bảo quản điều kiện thường không chứa khánh sinh nhóm β-Lactam (Có bao gồm thuốc phải kiểm soát đặc biệt: Thuốc dạng phối hợp có chứa dược chất gây nghiện, thuốc dạng phối hợp có chứa dược chất hướng thần, thuốc dạng phối hợp có chứa tiền chất; Thuốc độc; Thuốc trong danh mục thuốc, dược chất thuộc danh mục chất bị cấm sử dụng trong một số ngành, lĩnh vực)'\n",
      " 'Xuất khẩu, nhập khẩu thuốc thành phẩm, nguyên liệu làm thuốc thành phẩm không vô trùng bảo quản ở điều kiện thường'\n",
      " 'Xuất khẩu, nhập khẩu thuốc thành phẩm và nguyên liệu dùng làm thuốc'\n",
      " 'Xuất khẩu, nhập khẩu thuốc thành phẩm, vắc xin, sinh phẩm y tế, nguyên liệu làm thuốc'\n",
      " 'Doanh nghiệp xuất khẩu, nhập khẩu thuốc thành phẩm, nguyên liệu làm thuốc'\n",
      " 'Xuất khẩu, nhập khẩu thuốc thành phẩm, nguyên liệu làm thuốc, vắc xin, sinh phẩm y tế'\n",
      " 'Xuất khẩu, nhập khẩu: Thuốc thành phẩm và nguyên liệu làm thuốc'\n",
      " 'Xuất khẩu, nhập khẩu thuốc thành phẩm, sinh phẩm y tế bảo quản ở điều kiện nhiệt độ thường'\n",
      " 'Xuất khẩu, nhập khẩu: Thuốc thành phẩm, nguyên liệu làm thuốc'\n",
      " 'Xuất khẩu, nhập khẩu thuốc thành phẩm, sinh phẩm y tế và nguyên liệu làm thuốc'\n",
      " 'Xuất khẩu, nhập khẩu thuốc thành phẩm.' 'Bán buôn sinh phẩm'\n",
      " 'Bán buôn sinh phẩm y tế (bảo quản ở điều kiện thường)'\n",
      " 'Bán buôn Vắc xin, Sinh phẩm y tế'\n",
      " 'Bán lẻ thuốc hóa dược, thuốc dược liệu, thuốc cổ truyền và sinh phẩm bảo quản điều kiện thường (Có bao gồm Thuốc phải kiểm soát đặc biệt: thuốc dạng phối hợp có chứa dược chất gây nghiện, thuốc dạng phối hợp có chứa dược chất hướng thần, thuốc dạng phối hợp có chứa tiền chất; thuốc độc; thuốc trong danh mục thuốc, dược chất thuộc danh mục chất bị cấm sử dụng trong một số ngành, lĩnh vực).'\n",
      " 'Bán lẻ thuốc hóa dược, thuốc dược liệu, thuốc cổ truyền và sinh phẩm bảo quản ở điều kiện thường (Có bao gồm thuốc phải kiểm soát đặc biệt: Thuốc dạng phối hợp có chứa dược chất gây nghiện; Thuốc dạng phối hợp có chứa dược chất hướng thần; Thuốc dạng phối hợp có chứa tiền chất; Thuốc độc; Thuốc trong danh mục thuốc, dược chất thuộc danh mục chất bị cấm sử dụng trong một số ngành, lĩnh vực).'\n",
      " 'Bán lẻ thuốc hóa dược, thuốc dược liệu, thuốc cổ truyền, sinh phẩm bảo quản ở điều kiện thường (Có bao gồm thuốc phải kiểm soát đặc biệt: Thuốc dạng phối hợp có chứa dược chất gây nghiện, thuốc dạng phối hợp có chứa dược chất hướng thần, thuốc dạng phối hợp có chứa tiền chất; thuốc độc; thuốc trong danh mục thuốc, dược chất thuộc danh mục chất bị cấm sử dụng trong một số ngành, lĩnh vực).'\n",
      " 'Bán lẻ thuốc hóa dược, thuốc dược liệu, thuốc cổ truyền, sinh phẩm bảo quản ở điều kiện thường (Có bao gồm thuốc phải kiểm soát đặc biệt: Thuốc dạng phối hợp có chứa dược chất gây nghiện, thuốc dạng phối hợp có chứa dược chất hướng thần, thuốc dạng phối hợp có chứa tiền chất ; thuốc độc; thuốc trong danh mục thuốc, dược chất thuộc danh mục chất bị cấm sử dụng trong một số ngành, lĩnh vực).'\n",
      " 'Bán lẻ thuốc hóa dược, thuốc dược liệu, thuốc cổ truyền, sinh phẩm bảo quản ở điều kiện thường (Có bao gồm thuốc phải kiểm soát đặc biệt: Thuốc dạng phối hợp có chứa dược chất gây nghiện; Thuốc dạng phối hợp có chứa dược chất hướng thần; Thuốc trong danh mục thuốc, dược chất thuộc danh mục chất bị cấm sử dụng trong một số ngành, lĩnh vực).'\n",
      " 'Bán lẻ thuốc hóa dược, thuốc dược liệu, thuốc cổ truyền và sinh phẩm bảo quản điều kiện thường (Có bao gồm thuốc phải kiểm soát đặc biệt: Thuốc dạng phối hợp có chứa dược chất gây nghiện; Thuốc dạng phối hợp có chứa dược chất hướng thần; Thuốc dạng phối hợp có chứa tiền chất; Thuốc độc; Thuốc trong danh mục thuốc, dược chất thuộc danh mục chất bị cấm sử dụng trong một số ngành, lĩnh vực).'\n",
      " 'Bán lẻ thuốc hóa dược, thuốc dược liệu, thuốc cổ truyền, sinh phẩm bảo quản điều kiện thường (Có bao gồm thuốc phải kiểm soát đặc biệt: Thuốc và dược chất trong danh mục thuốc, dược chất thuộc danh mục chất bị cấm sử dụng trong một số ngành, lĩnh vực).'\n",
      " 'Bán lẻ thuốc hóa dược, thuốc dược liệu, thuốc cổ truyền, sinh phẩm bảo quản ở điều kiện thường (Có bao gồm thuốc phải kiểm soát đặc biệt: Thuốc dạng phối hợp có chứa dược chất gây nghiện; Thuốc dạng phối hợp có chứa dược chất hướng thần; thuốc dạng phối hợp có chứa tiền chất; Thuốc độc; Thuốc trong danh mục thuốc, dược chất thuộc danh mục chất bị cấm sử dụng trong một số ngành, lĩnh vực.'\n",
      " 'Bán lẻ thuốc hóa dược, sinh phẩm bảo quản điều kiện thường (Có bao gồm thuốc phải kiểm soát đặc biệt: Thuốc dạng phối hợp có chứa dược chất gây nghiện; Thuốc dạng phối hợp có chứa dược chất hướng thần; Thuốc dạng phối hợp có chứa tiền chất; Thuốc độc; Thuốc trong danh mục thuốc, dược chất thuộc danh mục chất bị cấm sử dụng trong một số ngành, lĩnh vực).'\n",
      " 'Bán lẻ thuốc hóa dược, thuốc dược liệu, thuốc cổ truyền, sinh phẩm (Có bao gồm thuốc phải kiểm soát đặc biệt: Thuốc dạng phối hợp có chứa dược chất gây nghiện, thuốc dạng phối hợp có chứa dược chất hướng thần, thuốc dạng phối hợp có chứa tiền chất; Thuốc độc; Thuốc thuộc danh mục chất bị cấm sử dụng trong một số ngành, lĩnh vực).'\n",
      " 'Bán lẻ thuốc hóa dược, thuốc dược liệu, thuốc cổ truyền, sinh phẩm phẩm bảo quản ở điều kiện thường (Có bao gồm thuốc phải kiểm soát đặc biệt: Thuốc dạng phối hợp có chứa dược chất gây nghiện; Thuốc dạng phối hợp có chứa dược chất hướng thần; Thuốc dạng phối hợp có chứa tiền chất; Thuốc độc; Thuốc trong danh mục thuốc, dược chất thuộc danh mục chất bị cấm sử dụng trong một số ngành, lĩnh vực).'\n",
      " 'Bán lẻ thuốc hóa dược, thuốc dược liệu, thuốc cổ truyền, sinh phẩm bảo quản ở điều kiện thường (Có bao gồm thuốc phải kiểm soát đặc biệt: thuốc dạng phối hợp có chứa dược chất gây nghiện, thuốc dạng phối hợp có chứa dược chất hướng thần, thuốc độc, thuốc trong danh mục thuốc, dược chất thuộc danh mục chất bị cấm sử dụng trong một số ngành, lĩnh vực).'\n",
      " 'Bán lẻ thuốc hóa dược, thuốc dược liệu, thuốc cổ truyền (Có bao gồm thuốc phải kiểm soát đặc biệt: Thuốc dạng phối hợp có chứa dược chất gây nghiện; Thuốc dạng phối hợp có chứa dược chất hướng thần; Thuốc trong danh mục thuốc, dược chất thuộc danh mục chất bị cấm sử dụng trong một số ngành, lĩnh vực).'\n",
      " '`Bán lẻ thuốc hóa dược, thuốc dược liệu, thuốc cổ truyền, sinh phẩm bảo quản ở điều kiện thường (Có bao gồm thuốc phải kiểm soát đặc biệt: Thuốc dạng phối hợp có chứa dược chất gây nghiện; Thuốc dạng phối hợp có chứa dược chất hướng thần; Thuốc dạng phối hợp có chứa tiền chất; Thuốc độc; Thuốc trong danh mục thuốc, dược chất thuộc danh mục chất bị cấm sử dụng trong một số ngành, lĩnh vực).'\n",
      " 'Bán lẻ thuốc hóa dược, thuốc dược liệu, thuốc cổ truyền, sinh phẩm bảo quản điều kinh thường (Có bao gồm thuốc phải kiểm soát đặc biệt: Thuốc dạng phối hợp có chứa dược chất gây nghiện; Thuốc dạng phối hợp có chứa dược chất hướng thần; Thuốc dạng phối hợp có chứa tiền chất; Thuốc độc; Thuốc trong danh mục thuốc, dược chất thuộc danh mục chất bị cấm sử dụng trong một số ngành, lĩnh vực).'\n",
      " 'Bán lẻ thuốc hóa dược, thuốc dược liệu, thuốc cổ truyền và sinh phẩm bảo quản điều kiện thường (Không bao gồm Thuốc phải kiểm soát đặc biệt)'\n",
      " 'Bán lẻ thuốc hóa dược, thuốc dược liệu, thuốc cổ truyền và sinh phẩm (Có bao gồm Thuốc phải kiểm soát đặc biệt: thuốc dạng phối hợp có chứa dược chất gây nghiện, thuốc dạng phối hợp có chứa dược chất hướng thần, thuốc dạng phối hợp có chứa tiền chất; thuốc độc; thuốc trong danh mục thuốc, dược chất thuộc danh mục chất bị cấm sử dụng trong một số ngành, lĩnh vực).'\n",
      " 'Bán lẻ thuốc hóa dược, thuốc dược liệu, sinh phẩm (Có bao gồm thuốc phải kiểm soát đặc biệt: Thuốc dạng phối hợp có chứa dược chất gây nghiện; Thuốc độc; Thuốc trong danh mục thuốc, dược chất thuộc danh mục chất bị cấm sử dụng trong một số ngành, lĩnh vực).'\n",
      " 'Bán lẻ thuốc hóa dược, thuốc dược liệu, thuốc cổ truyền, sinh phẩm (Có bao gồm thuốc phải kiểm soát đặc biệt: Kinh doanh Thuốc dạng phối hợp có chứa dược chất gây nghiện; Thuốc dạng phối hợp có chứa dược chất hướng thần; Thuốc dạng phối hợp có chứa tiền chất; Thuốc độc; Thuốc trong danh mục thuốc, dược chất thuộc danh mục chất bị cấm sử dụng trong một số ngành, lĩnh vực).'\n",
      " 'Bán lẻ thuốc hóa dược, thuốc dược liệu, thuốc cổ truyền và sinh phẩm (Có bao gồm thuốc phải kiểm soát đặc biệt: Thuốc dạng phối hợp có chứa dược chất gây nghiện, thuốc dạng phối hợp có chứa dược chất hướng thần, thuốc dạng phối hợp có chứa tiền chất; Thuốc độc; Thuốc thuộc danh mục chất bị cấm sử dụng trong một số ngành, lĩnh vực).'\n",
      " 'Bán lẻ thuốc hóa dược, thuốc dược liệu, thuốc cổ truyền, sinh phẩm (Có bao gồm: Thuốc dạng phối hợp có chứa dược chất gây nghiện; Thuốc dạng phối hợp có chứa dược chất hướng thần; Thuốc dạng phối hợp có chứa tiền chất; Thuốc độc; Thuốc trong danh mục thuốc, dược chất thuộc danh mục chất bị cấm sử dụng trong một số ngành, lĩnh vực).'\n",
      " 'Bán lẻ thuốc hóa dược (bảo quản điều kiện thường và điều kiện 2-8oC), thuốc dược liệu, thuốc cổ truyền, sinh phẩm (Có bao gồm thuốc phải kiểm soát đặc biệt: Thuốc dạng phối hợp có chứa dược chất gây nghiện; Thuốc dạng phối hợp có chứa dược chất hướng thần; Thuốc dạng phối hợp có chứa tiền chất; Thuốc độc; Thuốc trong danh mục thuốc, dược chất thuộc danh mục chất bị cấm sử dụng trong một số ngành, lĩnh vực).'\n",
      " 'Bán lẻ thuốc hóa dược, thuốc dược liệu, thuốc cổ truyền, sinh phẩm (Có bao gồm thuốc phải kiểm soát đặc biệt: Thuốc dạng phối hợp có chứa dược chất gây nghiện, thuốc dạng phối hợp có chứa dược chất hướng thần, thuốc dạng phối hợp có chứa tiền chất; thuốc độc; thuốc trong danh mục thuốc, dược chất thuộc danh mục chất bị cấm sử dụng trong một số ngành, lĩnh vực).'\n",
      " 'Bán lẻ thuốc hóa dược, thuốc dược liệu, thuốc cổ truyền, sinh phẩm (Không bao gồm thuốc phải kiểm soát đặc biệt).'\n",
      " 'Bán lẻ thuốc hóa dược, thuốc dược liệu, thuốc cổ truyền và sinh phẩm. (Có bao gồm thuốc phải kiểm soát đặc biệt: Thuốc dạng phối hợp có chứa dược chất gây nghiện; Thuốc dạng phối hợp có chứa dược chất hướng thần; Thuốc dạng phối hợp có chứa tiền chất; Thuốc độc; Thuốc trong danh mục thuốc, dược chất thuộc danh mục chất bị cấm sử dụng trong một số ngành, lĩnh vực).'\n",
      " 'Bán lẻ thuốc hóa dược, thuốc dược liệu, thuốcBán lẻ thuốc hóa dược, thuốc dược liệu, thuốc cổ truyền, sinh phẩm bảo quản điều kiện thường (Có bao gồm thuốc phải kiểm soát đặc biệt: Thuốc dạng phối hợp có chứa dược chất gây nghiện; Thuốc dạng phối hợp có chứa dược chất hướng thần; Thuốc dạng phối hợp có chứa tiền chất; Thuốc độc; Thuốc trong danh mục thuốc, dược chất thuộc danh mục chất bị cấm sử dụng trong một số ngành, lĩnh vực).'\n",
      " 'Bán lẻ thuốc hóa dược, thuốc dược liệu, thuốc cổ truyền, sinh phẩm. (Có bao gồm thuốc phải kiểm soát đặc biệt: Thuốc độc; Thuốc trong danh mục thuốc, dược chất thuộc danh mục chất bị cấm sử dụng trong một số ngành, lĩnh vực).'\n",
      " 'Bán lẻ thuốc hóa dược, thuốc dược liệu, thuốc cổ truyền, sinh phẩm (Có bao gồm thuốc phải kiểm soát đặc biệt: Thuốc dạng phối hợp có chứa dược chất gây nghiện; Thuốc độc; Thuốc trong danh mục thuốc, dược chất thuộc danh mục chất bị cấm sử dụng trong một số ngành, lĩnh vực).'\n",
      " 'Bán lẻ thuốc hóa dược, thuốc dược liệu, thuốc cổ truyền, sinh phẩm bảo quản điều kiện thường (Có bao gồm thuốc phải kiểm soát đặc biệt: Thuốc hướng thần, Thuốc dạng phối hợp có chứa dược chất gây nghiện; Thuốc dạng phối hợp có chứa dược chất hướng thần; Thuốc dạng phối hợp có chứa tiền chất; Thuốc độc; Thuốc trong danh mục thuốc, dược chất thuộc danh mục chất bị cấm sử dụng trong một số ngành, lĩnh vực).'\n",
      " 'Bán lẻ thuốc hóa dược, thuốc dược liệu, thuốc cổ truyền, sinh phẩm bảo quản điều kiện thường (Có bao gồm thuốc phải kiểm soát đặc biệt: Thuốc hướng thần; Thuốc dạng phối hợp có chứa dược chất gây nghiện; Thuốc dạng phối hợp có chứa dược chất hướng thần; Thuốc dạng phối hợp có chứa tiền chất; Thuốc độc; Thuốc trong danh mục thuốc, dược chất thuộc danh mục chất bị cấm sử dụng trong một số ngành, lĩnh vực).'\n",
      " 'Bán lẻ thuốc hóa dược, thuốc dược liệu, thuốc cổ truyền, sinh phẩm (Có bao gồm thuốc phải kiểm soát đặc biệt: Thuốc hướng thần; Thuốc dạng phối hợp có chứa dược chất gây nghiện; Thuốc dạng phối hợp có chứa dược chất hướng thần; Thuốc dạng phối hợp có chứa tiền chất; Thuốc độc; Thuốc trong danh mục thuốc, dược chất thuộc danh mục chất bị cấm sử dụng trong một số ngành, lĩnh vực).'\n",
      " 'Bán lẻ thuốc hóa dược, thuốc dược liệu, thuốc cổ truyền, sinh phẩm bảo quản điều kiện thường (Có bao gồm thuốc phải kiểm soát đặc biệt: Thuốc gây nghiện; Thuốc hướng thần; Thuốc tiền chất; Thuốc dạng phối hợp có chứa dược chất gây nghiện; Thuốc dạng phối hợp có chứa dược chất hướng thần; Thuốc dạng phối hợp có chứa tiền chất; Thuốc độc; Thuốc trong danh mục thuốc, dược chất thuộc danh mục chất bị cấm sử dụng trong một số ngành, lĩnh vực).'\n",
      " 'Bán lẻ thuốc hóa dược, thuốc dược liệu, thuốc cổ truyền, sinh phẩm (Có bao gồm thuốc phải kiểm soát đặc biệt: Thuốc hướng thần; Thuốc dạng phối hợp có chứa dược chất gây nghiện; Thuốc độc; Thuốc trong danh mục thuốc, dược chất thuộc danh mục chất bị cấm sử dụng trong một số ngành, lĩnh vực).'\n",
      " 'Bán lẻ thuốc hóa dược, thuốc dược liệu, thuốc cổ truyền, sinh phẩm bảo quản ở điều kiện thường (Có bao gồm thuốc phải kiểm soát đặc biệt: Thuốc hướng thần; Thuốc dạng phối hợp có chứa dược chất gây nghiện; Thuốc dạng phối hợp có chứa dược chất hướng thần; thuốc dạng phối hợp có chứa tiền chất; Thuốc độc; Thuốc trong danh mục thuốc, dược chất thuộc danh mục chất bị cấm sử dụng trong một số ngành, lĩnh vực).'\n",
      " 'Bán lẻ thuốc hóa dược, thuốc dược liệu, thuốc cổ truyền, sinh phẩm (Có bao gồm thuốc phải kiểm soát đặc biệt: Thuốc gây nghiện; Thuốc hướng thần; Thuốc dạng phối hợp có chứa dược chất gây nghiện; Thuốc dạng phối hợp có chứa dược chất hướng thần; Thuốc dạng phối hợp có chứa tiền chất; Thuốc độc; Thuốc trong danh mục thuốc, dược chất thuộc danh mục chất bị cấm sử dụng trong một số ngành, lĩnh vực).'\n",
      " 'Bán lẻ thuốc hóa dược, thuốc dược liệu, thuốc cổ truyền, sinh phẩm (Có bao gồm thuốc phải kiểm soát đặc biệt: Thuốc gây nghiện; Thuốc hướng thần; Thuốc tiền chất; Thuốc dạng phối hợp có chứa dược chất gây nghiện; Thuốc dạng phối hợp có chứa dược chất hướng thần; thuốc dạng phối hợp có chứa tiền chất; Thuốc độc; Thuốc trong danh mục thuốc, dược chất thuộc danh mục chất bị cấm sử dụng trong một số ngành, lĩnh vực).'\n",
      " 'Bán lẻ thuốc hóa dược, thuốc dược liệu, thuốc cổ truyền, sinh phẩm (Có bao gồm thuốc phải kiểm soát đặc biệt: Thuốc hướng thần; Thuốc dạng phối hợp có chứa dược chất gây nghiện; Thuốc dạng phối hợp có chứa dược chất hướng thần; thuốc dạng phối hợp có chứa tiền chất; Thuốc độc; Thuốc trong danh mục thuốc, dược chất thuộc danh mục chất bị cấm sử dụng trong một số ngành, lĩnh vực).'\n",
      " 'Bán lẻ thuốc hóa dược, thuốc dược liệu, thuốc cổ truyền, sinh phẩm (Có bao gồm thuốc phải kiểm soát đặc biệt: Thuốc gây nghiện; Thuốc hướng thần; Thuốc dạng phối hợp có chứa dược chất gây nghiện; Thuốc độc; Thuốc trong danh mục thuốc, dược chất thuộc danh mục chất bị cấm sử dụng trong một số ngành, lĩnh vực).'\n",
      " 'Bán lẻ thuốc hóa dược, thuốc dược liệu, thuốc cổ truyền, sinh phẩm bảo quản ở điều kiện thường (Có bao gồm thuốc phải kiểm soát đặc biệt: Thuốc gây nghiện; Thuốc hướng thần; Thuốc tiền chất; Thuốc phóng xạ; Thuốc dạng phối hợp có chứa dược chất gây nghiện; Thuốc dạng phối hợp có chứa dược chất hướng thần; Thuốc dạng phối hợp có chứa tiền chất; Thuốc độc; Thuốc trong danh mục thuốc, dược chất thuộc danh mục chất bị cấm sử dụng trong một số ngành, lĩnh vực).'\n",
      " 'Bán lẻ thuốc hóa dược, thuốc dược liệu, thuốc cổ truyền, sinh phẩm bảo quản ở điều kiện thường (Có bao gồm thuốc phải kiểm soát đặc biệt: Thuốc hướng thần; Thuốc độc).'\n",
      " 'Bán lẻ thuốc hóa dược, thuốc dược liệu, thuốc cổ truyền, sinh phẩm bảo quản điều kiện thường (Có bao gồm thuốc phải kiểm soát đặc biệt: Thuốc gây nghiện; Thuốc hướng thần; Thuốc dạng phối hợp có chứa dược chất gây nghiện; Thuốc dạng phối hợp có chứa dược chất hướng thần; Thuốc dạng phối hợp có chứa tiền chất; Thuốc độc; Thuốc trong danh mục thuốc, dược chất thuộc danh mục chất bị cấm sử dụng trong một số ngành, lĩnh vực).'\n",
      " 'Bán lẻ thuốc hóa dược, thuốc dược liệu, thuốc cổ truyền, sinh phẩm (Có bao gồm thuốc phải kiểm soát đặc biệt: Thuốc gây nghiện, thuốc hướng thần, thuốc dạng phối hợp có chứa dược chất gây nghiện; Thuốc dạng phối hợp có chứa dược chất hướng thần; Thuốc dạng phối hợp có chứa tiền chất; Thuốc độc; Thuốc trong danh mục thuốc, dược chất thuộc danh mục chất bị cấm sử dụng trong một số ngành, lĩnh vực).'\n",
      " 'Bán buôn thuốc hóa dược, thuốc dược liệu, thuốc cổ truyền, sinh phẩm bảo quản điều kiện thường (Không bao gồm Thuốc phải kiểm soát đặc biệt), nguyên liệu làm thuốc (Không bao gồm nguyên liệu phải kiểm soát đặc biệt và nguyên liệu kháng sinh nhóm β Lactam).'\n",
      " 'Bán lẻ thuốc hóa dược, thuốc dược liệu, thuốc cổ truyền, sinh phẩm bảo quản điều kiện thường (Có bao gồm thuốc phải kiểm soát đặc biệt: Thuốc dạng phối hợp có chứa dược chất hướng thần; Thuốc dạng phối hợp có chứa tiền chất; Thuốc độc; Thuốc trong danh mục thuốc, dược chất thuộc danh mục chất bị cấm sử dụng trong một số ngành, lĩnh vực).'\n",
      " 'Bán lẻ thuốc hóa dược, thuốc dược liệu, thuốc cổ truyền, sinh phẩm bảo quản ở điều kiện thường (Có bao gồm thuốc phải kiểm soát đặc biệt: Thuốc dạng phối hợp có chứa dược chất gây nghiện, thuốc dạng phối hợp có chứa dược chất hướng thần, thuốc dạng phối hợp có chứa tiền chất; Thuốc độc; Thuốc trong danh mục thuốc, dược chất thuộc danh mục chất bị cấm sử dụng trong một số ngành, lĩnh vực).'\n",
      " 'Bán buôn thuốc hóa dược, thuốc dược liệu, thuốc cổ truyền, vắc xin và sinh phẩm (Có bao gồm thuốc phải kiểm soát đặc biệt: Thuốc gây nghiện; Thuốc hướng thần; thuốc tiền chất; Thuốc dạng phối hợp có chứa dược chất gây nghiện; Thuốc dạng phối hợp có chứa dược chất hướng thần; Thuốc dạng phối hợp có chứa tiền chất; Thuốc độc; Thuốc trong danh mục thuốc, dược chất thuộc danh mục chất bị cấm sử dụng trong một số ngành, lĩnh vực). Nguyên liệu làm thuốc (Có bao gồm nguyên liệu kiểm soát đặc biệt: nguyên liệu là dược chất gây nghiện, hướng thần, tiền chất; nguyên liệu độc làm thuốc, nguyên liệu là dược chất thuộc danh mục chất bị cấm sử dụng trong một số ngành, lĩnh vực); Nguyên liệu là bán thành phẩm dược liệu dùng làm thuốc, không bao gồm nguyên liệu kháng sinh nhóm β Lactam, chất phóng xạ.'\n",
      " 'Bán buôn thuốc hóa dược, thuốc dược liệu, thuốc cổ truyền, sinh phẩm bảo quản điều kiện thường (Có bao gồm thuốc phải kiểm soát đặc biệt: Thuốc dạng phối hợp có chứa dược chất gây nghiện; Thuốc dạng phối hợp có chứa dược chất hướng thần; Thuốc trong danh mục thuốc, dược chất thuộc danh mục chất bị cấm sử dụng trong một số ngành, lĩnh vực).'\n",
      " 'Bán buôn thuốc hóa dược, thuốc dược liệu, thuốc cổ truyền, sinh phẩm bảo quản điều kiện thường (Có bao gồm thuốc phải kiểm soát đặc biệt: Thuốc dạng phối hợp có chứa dược chất gây nghiện; Thuốc dạng phối hợp có chứa dược chất hướng thần; Thuốc dạng phối hợp có chứa tiền chất; Thuốc độc; Thuốc trong danh mục thuốc, dược chất thuộc danh mục chất bị cấm sử dụng trong một số ngành, lĩnh vực); Nguyên liệu làm thuốc: Dược chất (Có bao gồm nguyên liệu phải kiểm soát đặc biệt: Nguyên liệu độc; Dược chất thuộc danh mục thuốc, dược chất thuộc danh mục chất bị cấm sử dụng trong một số ngành, lĩnh vực; Không bao gồm nguyên liệu nhóm β-Lactam); Tá dược; Vỏ nang.'\n",
      " 'Bán buôn thuốc hóa dược, thuốc dược liệu, thuốc cổ truyền, sinh phẩm bảo quản điều kiện thường (Có bao gồm thuốc phải kiểm soát đặc biệt: Thước độc; Thuốc trong danh mục thuốc, dược chất thuộc danh mục chất bị cấm sử dụng trong một số ngành, lĩnh vực).'\n",
      " 'Bán buôn thuốc hóa dược, thuốc dược liệu, thuốc cổ truyền, sinh phẩm bảo quản điều kiện thường (Có bao gồm thuốc phải kiểm soát đặc biệt: Thuốc dạng phối hợp có chứa dược chất gây nghiện; Thuốc dạng phối hợp có chứa dược chất hướng thần; Thuốc dạng phối hợp có chứa tiền chất; Thuốc độc; Thuốc trong danh mục thuốc, dược chất thuộc danh mục chất bị cấm sử dụng trong một số ngành, lĩnh vực); Bán buôn nguyên liệu làm thuốc: Vỏ nang.'\n",
      " 'Bán buôn thuốc hóa dược, thuốc dược liệu, thuốc cổ truyền, sinh phẩm bảo quản điều kiện thường (Có Thuốc kiểm soát đặc biệt, theo danh mục thuốc, dược chất thuộc danh mục bị cấm sử dụng trong một số ngành, lĩnh vực).'\n",
      " 'Bán buôn thuốc hóa dược, thuốc dược liệu, thuốc cổ truyền và sinh phẩm (Có bao gồm thuốc phải kiểm soát đặc biệt: Thuốc dạng phối hợp có chứa dược chất gây nghiện; Thuốc dạng phối hợp có chứa dược chất hướng thần; Thuốc dạng phối hợp có chứa tiền chất; Thuốc trong danh mục thuốc, dược chất thuộc danh mục chất bị cấm sử dụng trong một số ngành, lĩnh vực).']\n",
      "\n",
      "Số lượng giá trị khác biệt trong cột: 458\n"
     ]
    }
   ],
   "source": [
    "print(data['PHAMVIHN'].unique())\n",
    "print('\\nSố lượng giá trị khác biệt trong cột:',len(data['PHAMVIHN'].unique()))"
   ]
  },
  {
   "cell_type": "markdown",
   "metadata": {},
   "source": [
    "Với số lượng khác biệt trong cột quá lớn, ta tạm không xét các mô tả chi tiết trong dấu ngoặc tròn để dễ dàng hơn trong phân tích. Đồng thời, các thông tin 'bán buôn' và 'bán lẻ' khá giống nhau, ta sẽ thay thế bằng 'bán' và loại bỏ các từ không quá quan trọng."
   ]
  },
  {
   "cell_type": "code",
   "execution_count": 16,
   "metadata": {},
   "outputs": [],
   "source": [
    "def remove_parentheses(text):\n",
    "    parts = re.split(r\"\\(\", text)\n",
    "    if parts:\n",
    "        return parts[0]\n",
    "    return text\n",
    "\n",
    "#Lọc các từ trong dấu ngoặc tròn\n",
    "data['PHAMVIHN'] = data['PHAMVIHN'].apply(remove_parentheses)\n",
    "data['PHAMVIHN'] = data['PHAMVIHN'].str.lower()\n",
    "\n",
    "#Lọc các từ không mang nhiều ý nghĩa\n",
    "data['PHAMVIHN'] = data['PHAMVIHN'].str.replace('bán lẻ', 'bán')\n",
    "data['PHAMVIHN'] = data['PHAMVIHN'].str.replace('bán buôn', 'bán')\n",
    "data['PHAMVIHN'] = data['PHAMVIHN'].str.replace('bảo quản ở điều kiện thường ', '')\n",
    "data['PHAMVIHN'] = data['PHAMVIHN'].str.replace('bảo quản điều kiện thường ', '')\n",
    "data['PHAMVIHN'] = data['PHAMVIHN'].str.replace(' và', ',')\n",
    "data['PHAMVIHN'] = data['PHAMVIHN'].apply(lambda x: x.rstrip('. ').rstrip() if \n",
    "                                         x.endswith('.') or x.endswith(' ') else x)"
   ]
  },
  {
   "cell_type": "code",
   "execution_count": 17,
   "metadata": {},
   "outputs": [
    {
     "name": "stdout",
     "output_type": "stream",
     "text": [
      "110\n",
      "'bán thuốc hóa dược, thuốc dược liệu, thuốc cổ truyền, sinh phẩm': 13914 lần\n",
      "'bán thuốc thành phẩm': 980 lần\n",
      "'bán thuốc trừ vắc xin': 480 lần\n",
      "'bán thuốc dược liệu, thuốc cổ truyền': 201 lần\n",
      "'bán thuốc thành phẩm thuộc danh mục thuốc thiết yếu': 152 lần\n",
      "'bán dược liệu, thuốc dược liệu, thuốc cổ truyền': 132 lần\n",
      "'bán thuốc hóa dược, thuốc dược liệu, thuốc cổ truyền': 117 lần\n",
      "'bán thuốc đông y, thuốc từ dược liệu': 67 lần\n",
      "'bán thuốc hóa dược, thuốc dược liệu, thuốc cổ truyền, vắc xin, sinh phẩm': 47 lần\n",
      "'bán dược liệu': 41 lần\n",
      "'sản xuất thuốc đông y, thuốc từ dược liệu': 26 lần\n",
      "'bán thuốc hóa dược': 21 lần\n",
      "'bán thuốc hóa dược, thuốc dược liệu, thuốc cổ truyền, sinh phẩm bảo quản điều kiện thường': 19 lần\n",
      "'bán dược liệu, vị thuốc cổ truyền': 13 lần\n",
      "'xuất khẩu, nhập khẩu thuốc thành phẩm, vắc xin, sinh phẩm y tế': 12 lần\n",
      "'xuất khẩu, nhập khẩu thuốc thành phẩm': 12 lần\n",
      "'bán thuốc hóa dược, sinh phẩm': 10 lần\n",
      "'bán thuốc hóa dược, thuốc dược liệu, thuốc cổ truyền, sinh phẩm bảo quản ở điều kiện thường': 10 lần\n",
      "'bán dược liệu, thuốc cổ truyền': 9 lần\n",
      "'bán vị thuốc cổ truyền': 9 lần\n",
      "'bán nguyên liệu làm thuốc': 8 lần\n",
      "'bán nguyên liệu làm thuốc: dược chất, tá dược': 8 lần\n",
      "'bán thuốc thành phẩm, vắc xin, sinh phẩm y tế': 5 lần\n",
      "'bán nguyên liệu làm thuốc: dược chất': 5 lần\n",
      "'bán thuốc cổ truyền': 4 lần\n",
      "'bán vắc xin, sinh phẩm y tế': 4 lần\n",
      "'bán thuốc thành phẩm, nguyên liệu làm thuốc': 4 lần\n",
      "'bán vắc xin, sinh phẩm': 4 lần\n",
      "'bán thuốc hóa dược, vắc xin, sinh phẩm': 4 lần\n",
      "'bán lẻ thuốc hóa dược, thuốc dược liệu, thuốc cổ truyền, sinh phẩm': 4 lần\n",
      "'bán dược liệu, thuốc đông y, thuốc từ dược liệu': 3 lần\n",
      "'bán thuốc hóa dược, thuốc dược liệu, sinh phẩm': 3 lần\n",
      "'xuất khẩu, nhập khẩu thuốc thành phẩm, nguyên liệu làm thuốc': 3 lần\n",
      "'bán thuốc': 3 lần\n",
      "'bán nguyên liệu làm thuốc: dược chất, tá dược, vỏ nang': 3 lần\n",
      "'cơ sở bán thuốc dược liệu, thuốc cổ truyền': 2 lần\n",
      "'bán nguyên liệu làm thuốc: tá dược': 2 lần\n",
      "'bán thuốc thuốc dược liệu, thuốc cổ truyền': 2 lần\n",
      "'cơ sở bán dược liệu, thuốc dược liệu, thuốc cổ truyền': 2 lần\n",
      "'bán nguyên liệu làm thuốc: chỉ dược liệu': 2 lần\n",
      "'bán thuốc hóa dược, thuốc dược liệu, thuốc cổ truyền,sinh phẩm': 2 lần\n",
      "'bán hóa dược, thuốc dược liệu, thuốc cổ truyền, sinh phẩm': 2 lần\n",
      "'bán thuốc hóa dược, thuốc dược liệu, vắc xin, sinh phẩm': 2 lần\n",
      "'xuất khẩu, nhập khẩu: thuốc thành phẩm, nguyên liệu làm thuốc': 2 lần\n",
      "'xuất khẩu, nhập khẩu thuốc thành phẩm, nguyên liệu làm thuốc thành phẩm không vô trùng bảo quản ở điều kiện thường': 2 lần\n",
      "'cơ sở chuyên bán thuốc dược liệu, thuốc cổ truyền': 2 lần\n",
      "'bán thuốc hóa dược, thuốc dược liệu': 2 lần\n",
      "'án lẻ thuốc hóa dược, thuốc dược liệu, thuốc cổ truyền, sinh phẩm': 1 lần\n",
      "'sản xuất thuốc đông y, thuốc từ dược liệu: dầu gió, cao xoa': 1 lần\n",
      "'bán thuốc thuốc hóa dược, thuốc dược liệu, thuốc cổ truyền, sinh phẩm bảo quản ở điều kiện thường': 1 lần\n",
      "'bán thuốc hóa dược, thuốc dược liệu, thuốc cổ truyền, sinh phẩm bảo quản điểu kiện thường': 1 lần\n",
      "'sản xuất thuốc bột, viên hoàn cứng, thuốc nước uống': 1 lần\n",
      "'bán sinh phẩm chẩn đoán bảo quản ở điều kiện thường': 1 lần\n",
      "'bán thuốc hóa dược, thuốc dược liệu, thuốc cổ truyền, sinh phẩm bảo quản ở điều kiện bảo quản thường': 1 lần\n",
      "'bán thuốc hóa dược, thuốc dược liệu, thuốc cổ truyền, vắc xin, sinh phẩm y tế': 1 lần\n",
      "'xuất khẩu, nhập khẩu dược liệu, thuốc đông y, thuốc từ dược liệu': 1 lần\n",
      "'bán thuốc hóa dược, thuốc dược liệu, thuốc cổ truyền, sinh phẩm': 1 lần\n",
      "'bán thuốc hóa dược, bảo quản điều kiện 2oc-8oc, thuốc dược liệu, thuốc cổ truyền, sinh phẩm': 1 lần\n",
      "'bán thuốc hóa dược, thuốc dược liệu, thuốc cổ truyền, sinh phẩm bảo quản điều kiện thường; nguyên liệu làm thuốc': 1 lần\n",
      "'bán thuốc hóa dược, thuốc dược liệu, thuốc cổ truyền, sinh phẩm bảo quản điều kiện thường. bán nguyên liệu làm thuốc: dược chất, tá dược': 1 lần\n",
      "'bán nguyên liệu làm thuốc: dược chất, dược liệu, tá dược, vỏ nang': 1 lần\n",
      "'bán sản phẩm vắc xin, sinh phẩm y tế': 1 lần\n",
      "'bán thuốc hóa dược, thuốc dược liệu, thuốc cổ truyền,  vắc xin, sinh phẩm': 1 lần\n",
      "'xuất nhập khẩu thuốc': 1 lần\n",
      "'xuất nhập khẩu thuốc hóa dược không chứa khánh sinh nhóm β-lactam': 1 lần\n",
      "'xuất khẩu, nhập khẩu thuốc thành phẩm, nguyên liệu dùng làm thuốc': 1 lần\n",
      "'xuất khẩu, nhập khẩu thuốc thành phẩm, vắc xin, sinh phẩm y tế, nguyên liệu làm thuốc': 1 lần\n",
      "'doanh nghiệp xuất khẩu, nhập khẩu thuốc thành phẩm, nguyên liệu làm thuốc': 1 lần\n",
      "'xuất khẩu, nhập khẩu thuốc thành phẩm, nguyên liệu làm thuốc, vắc xin, sinh phẩm y tế': 1 lần\n",
      "'bán thuốc thành phẩm do công ty tnhh dược phẩm shinpoong daewoo': 1 lần\n",
      "'xuất khẩu, nhập khẩu thuốc thành phẩm, sinh phẩm y tế bảo quản ở điều kiện nhiệt độ thường': 1 lần\n",
      "'xuất khẩu, nhập khẩu thuốc thành phẩm, sinh phẩm y tế, nguyên liệu làm thuốc': 1 lần\n",
      "'bán sinh phẩm': 1 lần\n",
      "'bán sinh phẩm y tế': 1 lần\n",
      "'bán thuốc hóa dược, thuốc dược liệu, thuốc cổ truyền, sinh phẩm phẩm': 1 lần\n",
      "'`bán thuốc hóa dược, thuốc dược liệu, thuốc cổ truyền, sinh phẩm': 1 lần\n",
      "'bán thuốc hóa dược, thuốc dược liệu, thuốc cổ truyền, sinh phẩm bảo quản điều kinh thường': 1 lần\n",
      "'bán thuốc hóa dược, thuốc dược liệu, thuốc cổ truyền, sinh phẩm bảo quản ở điều kiện thường; bán nguyên liệu làm thuốc, mát': 1 lần\n",
      "'bán thuốc: chất đánh dấu': 1 lần\n",
      "'bán vị thuốc cổ truyền, nguyên liệu làm thuốc': 1 lần\n",
      "'bảo quản thuốc thành phẩm, sinh phẩm y tế, nguyên liệu làm thuốc': 1 lần\n",
      "'bán dược chất, tá dược': 1 lần\n",
      "'bán thuốc dược liệu, thuốc cổ truyền, nguyên liệu làm thuốc': 1 lần\n",
      "'bán dược liệu, thuốc hóa dược, thuốc dược liệu, thuốc cổ truyền, sinh phẩm bảo quản ở điều kiện thường': 1 lần\n",
      "'sản xuất thuốc dùng ngoài từ dược liệu: cồn thuốc dùng ngoài': 1 lần\n",
      "'sản xuất viên hoàn cứng': 1 lần\n",
      "'bán dược liệu, thuốc từ dược liệu, thuốc cổ truyền': 1 lần\n",
      "'bán thuốc thành phẩm, nguyên liệu làm thuốc thành phẩm không vô trùng bảo quản ở điều kiện thường': 1 lần\n",
      "'bán thuốc hóa dược, thuốc dược liệu, thuốc cổ truyền, sinh phẩm bảo quản điều kiện thường, dược liệu, vị thuốc cổ truyền': 1 lần\n",
      "'bán dược liệu, thuôc cổ truyền': 1 lần\n",
      "'sản xuất thuốc cốm, thuốc nước, thuốc bột, viên hoàn cứng, viên hoàn mềm': 1 lần\n",
      "'bán thuốc dược liệu, thuốc cổ truyền; nguyên liệu làm thuốc: dược liệu': 1 lần\n",
      "'sản xuất dầu gió': 1 lần\n",
      "'bảo quản thuốc thành phẩm': 1 lần\n",
      "'bán quản thuốc thành phẩm, nguyên liệu làm thuốc': 1 lần\n",
      "'bán nguyên liệu làm thuốc: dược liệu': 1 lần\n",
      "'sản xuất viên hoàn mềm, rượu thuốc': 1 lần\n",
      "'sản xuất thuốc đông y, thuốc từ dược liệu dạng bào chế: viên hoàn cứng, thuốc bột': 1 lần\n",
      "'bán thuốc dược llệu, thuốc cổ truyền': 1 lần\n",
      "'cơ sở chuyên bán dược liệu, thuốc dược liệu, thuốc cổ truyền': 1 lần\n",
      "'xuất khẩu, nhập khẩu: thuốc thành phẩm, vắc xin, sinh phẩm y tế, nguyên liệu làm thuốc': 1 lần\n",
      "'bán dược liệu, vị thuốc cổ truyền; bán thuốc hóa dược, thuốc dược liệu, thuốc cổ truyền, sinh phẩm': 1 lần\n",
      "'cơ sở chuyên bán dược liệu, thuốc cổ truyền': 1 lần\n",
      "'sản xuất thuốc dùng ngoài từ dược liệu': 1 lần\n",
      "'cơ sơ bán thuốc đông y, thuốc từ dược liệu': 1 lần\n",
      "'cơ sở bán dược liệu, vị thuốc cổ truyền': 1 lần\n",
      "'bán thuốc dược liệu, vị thuốc cổ truyền': 1 lần\n",
      "'bán thuốc dược liệu, thuốc cổ truyền,': 1 lần\n",
      "'sản xuất viên hoàn cứng, thuốc nước, thuốc bột': 1 lần\n",
      "'bán thuốc hóa dược, thuốc dược liệu, thuốcbán thuốc hóa dược, thuốc dược liệu, thuốc cổ truyền, sinh phẩm': 1 lần\n"
     ]
    }
   ],
   "source": [
    "unique_counts = data['PHAMVIHN'].value_counts()\n",
    "print(len(unique_counts))\n",
    "for value, count in unique_counts.items():\n",
    "    print(f\"'{value}': {count} lần\")"
   ]
  },
  {
   "cell_type": "markdown",
   "metadata": {},
   "source": [
    "### Kiểm tra cột `NGAYCAPGCN`"
   ]
  },
  {
   "cell_type": "markdown",
   "metadata": {},
   "source": [
    "#### Ép kiểu dữ liệu về datetime"
   ]
  },
  {
   "cell_type": "code",
   "execution_count": 18,
   "metadata": {},
   "outputs": [
    {
     "name": "stderr",
     "output_type": "stream",
     "text": [
      "/var/folders/p3/hp8lgp_x5lq310kt_5_c2fsc0000gn/T/ipykernel_45371/314129247.py:1: UserWarning: Parsing dates in %d/%m/%Y format when dayfirst=False (the default) was specified. Pass `dayfirst=True` or specify a format to silence this warning.\n",
      "  data['NGAYCAPGCN'] = pd.to_datetime(data['NGAYCAPGCN'], errors='coerce')\n"
     ]
    },
    {
     "data": {
      "text/plain": [
       "dtype('<M8[ns]')"
      ]
     },
     "execution_count": 18,
     "metadata": {},
     "output_type": "execute_result"
    }
   ],
   "source": [
    "data['NGAYCAPGCN'] = pd.to_datetime(data['NGAYCAPGCN'], errors='coerce')\n",
    "\n",
    "data['NGAYCAPGCN'].dtypes"
   ]
  },
  {
   "cell_type": "markdown",
   "metadata": {},
   "source": [
    "#### Kiểm tra các năm "
   ]
  },
  {
   "cell_type": "code",
   "execution_count": 19,
   "metadata": {},
   "outputs": [
    {
     "name": "stdout",
     "output_type": "stream",
     "text": [
      "[  nan 2020. 2017. 2016. 2022. 2018. 2021. 2019. 2023. 2014. 2024. 2015.\n",
      " 2013. 2026. 2012. 2011.]\n"
     ]
    }
   ],
   "source": [
    "unique_years = data['NGAYCAPGCN'].dt.year.unique()\n",
    "\n",
    "# Hiển thị các năm\n",
    "print(unique_years)"
   ]
  },
  {
   "cell_type": "markdown",
   "metadata": {},
   "source": [
    "Tồn tại các năm lớn hơn năm 2024 là vô lý, chứng tỏ dữ liệu bị nhập sai, ta tiến hành loại bỏ các dòng này"
   ]
  },
  {
   "cell_type": "code",
   "execution_count": 20,
   "metadata": {},
   "outputs": [
    {
     "name": "stdout",
     "output_type": "stream",
     "text": [
      "[2020 2017 2016 2022 2018 2021 2019 2023 2014 2024 2015 2013 2012 2011]\n"
     ]
    }
   ],
   "source": [
    "data = data[data['NGAYCAPGCN'].dt.year <= 2024]\n",
    "unique_years = data['NGAYCAPGCN'].dt.year.unique()\n",
    "\n",
    "# Hiển thị các năm\n",
    "print(unique_years)"
   ]
  },
  {
   "cell_type": "markdown",
   "metadata": {},
   "source": [
    "### Kiểm tra cột `NGAYCAPCCHN`"
   ]
  },
  {
   "cell_type": "markdown",
   "metadata": {},
   "source": [
    "#### Ép kiểu dữ liệu về datetime"
   ]
  },
  {
   "cell_type": "code",
   "execution_count": 21,
   "metadata": {},
   "outputs": [
    {
     "name": "stderr",
     "output_type": "stream",
     "text": [
      "/var/folders/p3/hp8lgp_x5lq310kt_5_c2fsc0000gn/T/ipykernel_45371/3620005141.py:1: UserWarning: Parsing dates in %d/%m/%Y format when dayfirst=False (the default) was specified. Pass `dayfirst=True` or specify a format to silence this warning.\n",
      "  data['NGCAPCCHN'] = pd.to_datetime(data['NGCAPCCHN'], errors='coerce')\n"
     ]
    },
    {
     "data": {
      "text/plain": [
       "dtype('<M8[ns]')"
      ]
     },
     "execution_count": 21,
     "metadata": {},
     "output_type": "execute_result"
    }
   ],
   "source": [
    "data['NGCAPCCHN'] = pd.to_datetime(data['NGCAPCCHN'], errors='coerce')\n",
    "\n",
    "data['NGCAPCCHN'].dtypes"
   ]
  },
  {
   "cell_type": "markdown",
   "metadata": {},
   "source": [
    "#### Kiểm tra các năm"
   ]
  },
  {
   "cell_type": "code",
   "execution_count": 22,
   "metadata": {},
   "outputs": [
    {
     "name": "stdout",
     "output_type": "stream",
     "text": [
      "[2019. 2016. 2017. 2015. 2013. 2022. 2021. 2020. 2014.   nan 2018. 2011.\n",
      " 2024. 2023. 2012. 2010. 2009. 2026. 2007. 2031. 2002.]\n"
     ]
    }
   ],
   "source": [
    "unique_years = data['NGCAPCCHN'].dt.year.unique()\n",
    "\n",
    "# Hiển thị các năm\n",
    "print(unique_years)"
   ]
  },
  {
   "cell_type": "markdown",
   "metadata": {},
   "source": [
    "Tồn tại các năm nan là vô lý, chứng tỏ dữ liệu bị nhập sai, ta tiến hành loại bỏ các dòng này"
   ]
  },
  {
   "cell_type": "code",
   "execution_count": 23,
   "metadata": {},
   "outputs": [
    {
     "name": "stdout",
     "output_type": "stream",
     "text": [
      "[2019 2016 2017 2015 2013 2022 2021 2020 2014 2018 2011 2024 2023 2012\n",
      " 2010 2009 2007 2002]\n"
     ]
    }
   ],
   "source": [
    "data = data[data['NGCAPCCHN'].dt.year <= 2024]\n",
    "unique_years = data['NGCAPCCHN'].dt.year.unique()\n",
    "\n",
    "# Hiển thị các năm\n",
    "print(unique_years)"
   ]
  },
  {
   "cell_type": "markdown",
   "metadata": {},
   "source": [
    "### Loại bỏ các cột không mang nhiều ý nghĩa"
   ]
  },
  {
   "cell_type": "markdown",
   "metadata": {},
   "source": [
    "Ta nhận thấy các cột `TENCOSO`, `SOCCHN`, `SODDK`, `SOGCN` là các cột không mang lại nhiều thông tin đáng giá để phân tích, ta tiến hành loại các cột này"
   ]
  },
  {
   "cell_type": "code",
   "execution_count": 24,
   "metadata": {},
   "outputs": [],
   "source": [
    "data = data.drop(['TENCOSO', 'SOCCHN', 'SODDK', 'SOGCN'], axis=1)"
   ]
  },
  {
   "cell_type": "markdown",
   "metadata": {},
   "source": [
    "Bộ dữ liệu sau khi đã tiền xử lí xong có dạng:"
   ]
  },
  {
   "cell_type": "code",
   "execution_count": 25,
   "metadata": {},
   "outputs": [
    {
     "data": {
      "text/html": [
       "<div>\n",
       "<style scoped>\n",
       "    .dataframe tbody tr th:only-of-type {\n",
       "        vertical-align: middle;\n",
       "    }\n",
       "\n",
       "    .dataframe tbody tr th {\n",
       "        vertical-align: top;\n",
       "    }\n",
       "\n",
       "    .dataframe thead th {\n",
       "        text-align: right;\n",
       "    }\n",
       "</style>\n",
       "<table border=\"1\" class=\"dataframe\">\n",
       "  <thead>\n",
       "    <tr style=\"text-align: right;\">\n",
       "      <th></th>\n",
       "      <th>LOAIHINHHN</th>\n",
       "      <th>PHAMVIHN</th>\n",
       "      <th>DUONG</th>\n",
       "      <th>PHUONG</th>\n",
       "      <th>QUAN</th>\n",
       "      <th>CVXLCCHN</th>\n",
       "      <th>NGCAPCCHN</th>\n",
       "      <th>NOICAPCCHN</th>\n",
       "      <th>GPP_GDP_GSP</th>\n",
       "      <th>NGAYCAPGCN</th>\n",
       "      <th>NGAYHHGCN</th>\n",
       "    </tr>\n",
       "  </thead>\n",
       "  <tbody>\n",
       "    <tr>\n",
       "      <th>4154</th>\n",
       "      <td>nhà thuốc</td>\n",
       "      <td>bán thuốc hóa dược, thuốc dược liệu, thuốc cổ ...</td>\n",
       "      <td>11, Tam Bình, Khu phố 7</td>\n",
       "      <td>Phường Hiệp Bình Chánh</td>\n",
       "      <td>TP. Thủ Đức</td>\n",
       "      <td>Ds Lê Thị Thu Hòa</td>\n",
       "      <td>2014-03-28</td>\n",
       "      <td>Sở Y tế TP.HCM</td>\n",
       "      <td>GPP</td>\n",
       "      <td>2019-01-29</td>\n",
       "      <td>29/01/2022</td>\n",
       "    </tr>\n",
       "    <tr>\n",
       "      <th>1767</th>\n",
       "      <td>nhà thuốc</td>\n",
       "      <td>bán thuốc thành phẩm</td>\n",
       "      <td>45, Huỳnh Văn Bánh</td>\n",
       "      <td>Phường 17</td>\n",
       "      <td>Phú Nhuận</td>\n",
       "      <td>Ds Trần Minh Trí</td>\n",
       "      <td>2015-05-25</td>\n",
       "      <td>Sở Y tế TP.HCM</td>\n",
       "      <td>GPP</td>\n",
       "      <td>2016-03-28</td>\n",
       "      <td>28/03/2019</td>\n",
       "    </tr>\n",
       "    <tr>\n",
       "      <th>15984</th>\n",
       "      <td>nhà thuốc</td>\n",
       "      <td>bán thuốc hóa dược, thuốc dược liệu, thuốc cổ ...</td>\n",
       "      <td>D6/55, Quốc lộ 1A, ấp 4</td>\n",
       "      <td>Xã Bình Chánh</td>\n",
       "      <td>Bình Chánh</td>\n",
       "      <td>Ds. Nguyễn Trần Công Huân</td>\n",
       "      <td>2021-03-26</td>\n",
       "      <td>Sở Y tế TP.HCM</td>\n",
       "      <td>GPP</td>\n",
       "      <td>2022-04-15</td>\n",
       "      <td>15/04/2025</td>\n",
       "    </tr>\n",
       "    <tr>\n",
       "      <th>14240</th>\n",
       "      <td>nhà thuốc</td>\n",
       "      <td>bán thuốc hóa dược, thuốc dược liệu, thuốc cổ ...</td>\n",
       "      <td>Số 91, đường Trần Não, khu phố 4</td>\n",
       "      <td>Phường An Khánh</td>\n",
       "      <td>TP. Thủ Đức</td>\n",
       "      <td>Ds. Nguyễn Trần Công Huân</td>\n",
       "      <td>2023-11-14</td>\n",
       "      <td>Sở Y tế TP.HCM</td>\n",
       "      <td>GPP</td>\n",
       "      <td>2023-12-29</td>\n",
       "      <td>29/12/2026</td>\n",
       "    </tr>\n",
       "    <tr>\n",
       "      <th>16095</th>\n",
       "      <td>nhà thuốc</td>\n",
       "      <td>bán thuốc hóa dược, thuốc dược liệu, thuốc cổ ...</td>\n",
       "      <td>318, Bắc Hải</td>\n",
       "      <td>Phường 06</td>\n",
       "      <td>Tân Bình</td>\n",
       "      <td>NaN</td>\n",
       "      <td>2021-02-02</td>\n",
       "      <td>Sở Y tế Tây Ninh</td>\n",
       "      <td>GPP</td>\n",
       "      <td>2022-02-22</td>\n",
       "      <td>22/02/2025</td>\n",
       "    </tr>\n",
       "    <tr>\n",
       "      <th>4763</th>\n",
       "      <td>nhà thuốc</td>\n",
       "      <td>bán thuốc hóa dược, thuốc dược liệu, thuốc cổ ...</td>\n",
       "      <td>68, Tây Lân, Khu phố 7</td>\n",
       "      <td>Phường Bình Trị Đông A</td>\n",
       "      <td>Bình Tân</td>\n",
       "      <td>Ds. Nguyễn Huy Hùng</td>\n",
       "      <td>2020-09-28</td>\n",
       "      <td>Sở Y tế TP.HCM</td>\n",
       "      <td>GPP</td>\n",
       "      <td>2021-02-02</td>\n",
       "      <td>NaN</td>\n",
       "    </tr>\n",
       "    <tr>\n",
       "      <th>11620</th>\n",
       "      <td>nhà thuốc</td>\n",
       "      <td>bán thuốc thành phẩm</td>\n",
       "      <td>13, Tuệ Tĩnh</td>\n",
       "      <td>Phường 13</td>\n",
       "      <td>Quận 11</td>\n",
       "      <td>Ds Phạm Văn Sơn</td>\n",
       "      <td>2014-01-15</td>\n",
       "      <td>Sở Y tế TP.HCM</td>\n",
       "      <td>GPP</td>\n",
       "      <td>2014-09-18</td>\n",
       "      <td>18/09/2017</td>\n",
       "    </tr>\n",
       "  </tbody>\n",
       "</table>\n",
       "</div>"
      ],
      "text/plain": [
       "      LOAIHINHHN                                           PHAMVIHN  \\\n",
       "4154   nhà thuốc  bán thuốc hóa dược, thuốc dược liệu, thuốc cổ ...   \n",
       "1767   nhà thuốc                               bán thuốc thành phẩm   \n",
       "15984  nhà thuốc  bán thuốc hóa dược, thuốc dược liệu, thuốc cổ ...   \n",
       "14240  nhà thuốc  bán thuốc hóa dược, thuốc dược liệu, thuốc cổ ...   \n",
       "16095  nhà thuốc  bán thuốc hóa dược, thuốc dược liệu, thuốc cổ ...   \n",
       "4763   nhà thuốc  bán thuốc hóa dược, thuốc dược liệu, thuốc cổ ...   \n",
       "11620  nhà thuốc                               bán thuốc thành phẩm   \n",
       "\n",
       "                                  DUONG                  PHUONG         QUAN  \\\n",
       "4154            11, Tam Bình, Khu phố 7  Phường Hiệp Bình Chánh  TP. Thủ Đức   \n",
       "1767                 45, Huỳnh Văn Bánh               Phường 17    Phú Nhuận   \n",
       "15984           D6/55, Quốc lộ 1A, ấp 4           Xã Bình Chánh   Bình Chánh   \n",
       "14240  Số 91, đường Trần Não, khu phố 4         Phường An Khánh  TP. Thủ Đức   \n",
       "16095                      318, Bắc Hải               Phường 06     Tân Bình   \n",
       "4763             68, Tây Lân, Khu phố 7  Phường Bình Trị Đông A     Bình Tân   \n",
       "11620                      13, Tuệ Tĩnh               Phường 13      Quận 11   \n",
       "\n",
       "                        CVXLCCHN  NGCAPCCHN        NOICAPCCHN GPP_GDP_GSP  \\\n",
       "4154           Ds Lê Thị Thu Hòa 2014-03-28    Sở Y tế TP.HCM         GPP   \n",
       "1767            Ds Trần Minh Trí 2015-05-25    Sở Y tế TP.HCM         GPP   \n",
       "15984  Ds. Nguyễn Trần Công Huân 2021-03-26    Sở Y tế TP.HCM         GPP   \n",
       "14240  Ds. Nguyễn Trần Công Huân 2023-11-14    Sở Y tế TP.HCM         GPP   \n",
       "16095                        NaN 2021-02-02  Sở Y tế Tây Ninh         GPP   \n",
       "4763         Ds. Nguyễn Huy Hùng 2020-09-28    Sở Y tế TP.HCM         GPP   \n",
       "11620            Ds Phạm Văn Sơn 2014-01-15    Sở Y tế TP.HCM         GPP   \n",
       "\n",
       "      NGAYCAPGCN   NGAYHHGCN  \n",
       "4154  2019-01-29  29/01/2022  \n",
       "1767  2016-03-28  28/03/2019  \n",
       "15984 2022-04-15  15/04/2025  \n",
       "14240 2023-12-29  29/12/2026  \n",
       "16095 2022-02-22  22/02/2025  \n",
       "4763  2021-02-02         NaN  \n",
       "11620 2014-09-18  18/09/2017  "
      ]
     },
     "execution_count": 25,
     "metadata": {},
     "output_type": "execute_result"
    }
   ],
   "source": [
    "data.sample(7)"
   ]
  },
  {
   "cell_type": "markdown",
   "metadata": {},
   "source": [
    "### Lưu lại bộ dữ liệu"
   ]
  },
  {
   "cell_type": "markdown",
   "metadata": {},
   "source": [
    "#### Lưu dưới dạng csv"
   ]
  },
  {
   "cell_type": "code",
   "execution_count": 26,
   "metadata": {},
   "outputs": [],
   "source": [
    "data.to_csv('./Dataset/NhaThuoc_DaXuLy.csv', header=True, index=False)"
   ]
  },
  {
   "cell_type": "markdown",
   "metadata": {},
   "source": [
    "#### Lưu dưới dạng excel"
   ]
  },
  {
   "cell_type": "code",
   "execution_count": 27,
   "metadata": {},
   "outputs": [],
   "source": [
    "data.to_excel('./Dataset/NhaThuoc_DaXuLy.xlsx', header=True, index=False)"
   ]
  }
 ],
 "metadata": {
  "kernelspec": {
   "display_name": "Python 3",
   "language": "python",
   "name": "python3"
  },
  "language_info": {
   "codemirror_mode": {
    "name": "ipython",
    "version": 3
   },
   "file_extension": ".py",
   "mimetype": "text/x-python",
   "name": "python",
   "nbconvert_exporter": "python",
   "pygments_lexer": "ipython3",
   "version": "3.12.2"
  }
 },
 "nbformat": 4,
 "nbformat_minor": 2
}
