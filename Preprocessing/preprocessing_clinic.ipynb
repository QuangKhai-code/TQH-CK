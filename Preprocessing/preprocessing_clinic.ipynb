{
 "cells": [
  {
   "cell_type": "markdown",
   "metadata": {},
   "source": [
    "### Khai báo thư viện"
   ]
  },
  {
   "cell_type": "code",
   "execution_count": 3,
   "metadata": {},
   "outputs": [],
   "source": [
    "import pandas as pd"
   ]
  },
  {
   "cell_type": "markdown",
   "metadata": {},
   "source": [
    "### Tải dữ liệu"
   ]
  },
  {
   "cell_type": "code",
   "execution_count": 4,
   "metadata": {},
   "outputs": [
    {
     "ename": "FileNotFoundError",
     "evalue": "[Errno 2] No such file or directory: './Dataset/Co_so_kham_benh.csv'",
     "output_type": "error",
     "traceback": [
      "\u001b[0;31m---------------------------------------------------------------------------\u001b[0m",
      "\u001b[0;31mFileNotFoundError\u001b[0m                         Traceback (most recent call last)",
      "Cell \u001b[0;32mIn[4], line 1\u001b[0m\n\u001b[0;32m----> 1\u001b[0m data \u001b[38;5;241m=\u001b[39m \u001b[43mpd\u001b[49m\u001b[38;5;241;43m.\u001b[39;49m\u001b[43mread_csv\u001b[49m\u001b[43m(\u001b[49m\u001b[38;5;124;43m'\u001b[39;49m\u001b[38;5;124;43m./Dataset/Co_so_kham_benh.csv\u001b[39;49m\u001b[38;5;124;43m'\u001b[39;49m\u001b[43m)\u001b[49m\n\u001b[1;32m      2\u001b[0m data\u001b[38;5;241m.\u001b[39mhead(\u001b[38;5;241m5\u001b[39m)\n",
      "File \u001b[0;32m/Library/Frameworks/Python.framework/Versions/3.12/lib/python3.12/site-packages/pandas/io/parsers/readers.py:1026\u001b[0m, in \u001b[0;36mread_csv\u001b[0;34m(filepath_or_buffer, sep, delimiter, header, names, index_col, usecols, dtype, engine, converters, true_values, false_values, skipinitialspace, skiprows, skipfooter, nrows, na_values, keep_default_na, na_filter, verbose, skip_blank_lines, parse_dates, infer_datetime_format, keep_date_col, date_parser, date_format, dayfirst, cache_dates, iterator, chunksize, compression, thousands, decimal, lineterminator, quotechar, quoting, doublequote, escapechar, comment, encoding, encoding_errors, dialect, on_bad_lines, delim_whitespace, low_memory, memory_map, float_precision, storage_options, dtype_backend)\u001b[0m\n\u001b[1;32m   1013\u001b[0m kwds_defaults \u001b[38;5;241m=\u001b[39m _refine_defaults_read(\n\u001b[1;32m   1014\u001b[0m     dialect,\n\u001b[1;32m   1015\u001b[0m     delimiter,\n\u001b[0;32m   (...)\u001b[0m\n\u001b[1;32m   1022\u001b[0m     dtype_backend\u001b[38;5;241m=\u001b[39mdtype_backend,\n\u001b[1;32m   1023\u001b[0m )\n\u001b[1;32m   1024\u001b[0m kwds\u001b[38;5;241m.\u001b[39mupdate(kwds_defaults)\n\u001b[0;32m-> 1026\u001b[0m \u001b[38;5;28;01mreturn\u001b[39;00m \u001b[43m_read\u001b[49m\u001b[43m(\u001b[49m\u001b[43mfilepath_or_buffer\u001b[49m\u001b[43m,\u001b[49m\u001b[43m \u001b[49m\u001b[43mkwds\u001b[49m\u001b[43m)\u001b[49m\n",
      "File \u001b[0;32m/Library/Frameworks/Python.framework/Versions/3.12/lib/python3.12/site-packages/pandas/io/parsers/readers.py:620\u001b[0m, in \u001b[0;36m_read\u001b[0;34m(filepath_or_buffer, kwds)\u001b[0m\n\u001b[1;32m    617\u001b[0m _validate_names(kwds\u001b[38;5;241m.\u001b[39mget(\u001b[38;5;124m\"\u001b[39m\u001b[38;5;124mnames\u001b[39m\u001b[38;5;124m\"\u001b[39m, \u001b[38;5;28;01mNone\u001b[39;00m))\n\u001b[1;32m    619\u001b[0m \u001b[38;5;66;03m# Create the parser.\u001b[39;00m\n\u001b[0;32m--> 620\u001b[0m parser \u001b[38;5;241m=\u001b[39m \u001b[43mTextFileReader\u001b[49m\u001b[43m(\u001b[49m\u001b[43mfilepath_or_buffer\u001b[49m\u001b[43m,\u001b[49m\u001b[43m \u001b[49m\u001b[38;5;241;43m*\u001b[39;49m\u001b[38;5;241;43m*\u001b[39;49m\u001b[43mkwds\u001b[49m\u001b[43m)\u001b[49m\n\u001b[1;32m    622\u001b[0m \u001b[38;5;28;01mif\u001b[39;00m chunksize \u001b[38;5;129;01mor\u001b[39;00m iterator:\n\u001b[1;32m    623\u001b[0m     \u001b[38;5;28;01mreturn\u001b[39;00m parser\n",
      "File \u001b[0;32m/Library/Frameworks/Python.framework/Versions/3.12/lib/python3.12/site-packages/pandas/io/parsers/readers.py:1620\u001b[0m, in \u001b[0;36mTextFileReader.__init__\u001b[0;34m(self, f, engine, **kwds)\u001b[0m\n\u001b[1;32m   1617\u001b[0m     \u001b[38;5;28mself\u001b[39m\u001b[38;5;241m.\u001b[39moptions[\u001b[38;5;124m\"\u001b[39m\u001b[38;5;124mhas_index_names\u001b[39m\u001b[38;5;124m\"\u001b[39m] \u001b[38;5;241m=\u001b[39m kwds[\u001b[38;5;124m\"\u001b[39m\u001b[38;5;124mhas_index_names\u001b[39m\u001b[38;5;124m\"\u001b[39m]\n\u001b[1;32m   1619\u001b[0m \u001b[38;5;28mself\u001b[39m\u001b[38;5;241m.\u001b[39mhandles: IOHandles \u001b[38;5;241m|\u001b[39m \u001b[38;5;28;01mNone\u001b[39;00m \u001b[38;5;241m=\u001b[39m \u001b[38;5;28;01mNone\u001b[39;00m\n\u001b[0;32m-> 1620\u001b[0m \u001b[38;5;28mself\u001b[39m\u001b[38;5;241m.\u001b[39m_engine \u001b[38;5;241m=\u001b[39m \u001b[38;5;28;43mself\u001b[39;49m\u001b[38;5;241;43m.\u001b[39;49m\u001b[43m_make_engine\u001b[49m\u001b[43m(\u001b[49m\u001b[43mf\u001b[49m\u001b[43m,\u001b[49m\u001b[43m \u001b[49m\u001b[38;5;28;43mself\u001b[39;49m\u001b[38;5;241;43m.\u001b[39;49m\u001b[43mengine\u001b[49m\u001b[43m)\u001b[49m\n",
      "File \u001b[0;32m/Library/Frameworks/Python.framework/Versions/3.12/lib/python3.12/site-packages/pandas/io/parsers/readers.py:1880\u001b[0m, in \u001b[0;36mTextFileReader._make_engine\u001b[0;34m(self, f, engine)\u001b[0m\n\u001b[1;32m   1878\u001b[0m     \u001b[38;5;28;01mif\u001b[39;00m \u001b[38;5;124m\"\u001b[39m\u001b[38;5;124mb\u001b[39m\u001b[38;5;124m\"\u001b[39m \u001b[38;5;129;01mnot\u001b[39;00m \u001b[38;5;129;01min\u001b[39;00m mode:\n\u001b[1;32m   1879\u001b[0m         mode \u001b[38;5;241m+\u001b[39m\u001b[38;5;241m=\u001b[39m \u001b[38;5;124m\"\u001b[39m\u001b[38;5;124mb\u001b[39m\u001b[38;5;124m\"\u001b[39m\n\u001b[0;32m-> 1880\u001b[0m \u001b[38;5;28mself\u001b[39m\u001b[38;5;241m.\u001b[39mhandles \u001b[38;5;241m=\u001b[39m \u001b[43mget_handle\u001b[49m\u001b[43m(\u001b[49m\n\u001b[1;32m   1881\u001b[0m \u001b[43m    \u001b[49m\u001b[43mf\u001b[49m\u001b[43m,\u001b[49m\n\u001b[1;32m   1882\u001b[0m \u001b[43m    \u001b[49m\u001b[43mmode\u001b[49m\u001b[43m,\u001b[49m\n\u001b[1;32m   1883\u001b[0m \u001b[43m    \u001b[49m\u001b[43mencoding\u001b[49m\u001b[38;5;241;43m=\u001b[39;49m\u001b[38;5;28;43mself\u001b[39;49m\u001b[38;5;241;43m.\u001b[39;49m\u001b[43moptions\u001b[49m\u001b[38;5;241;43m.\u001b[39;49m\u001b[43mget\u001b[49m\u001b[43m(\u001b[49m\u001b[38;5;124;43m\"\u001b[39;49m\u001b[38;5;124;43mencoding\u001b[39;49m\u001b[38;5;124;43m\"\u001b[39;49m\u001b[43m,\u001b[49m\u001b[43m \u001b[49m\u001b[38;5;28;43;01mNone\u001b[39;49;00m\u001b[43m)\u001b[49m\u001b[43m,\u001b[49m\n\u001b[1;32m   1884\u001b[0m \u001b[43m    \u001b[49m\u001b[43mcompression\u001b[49m\u001b[38;5;241;43m=\u001b[39;49m\u001b[38;5;28;43mself\u001b[39;49m\u001b[38;5;241;43m.\u001b[39;49m\u001b[43moptions\u001b[49m\u001b[38;5;241;43m.\u001b[39;49m\u001b[43mget\u001b[49m\u001b[43m(\u001b[49m\u001b[38;5;124;43m\"\u001b[39;49m\u001b[38;5;124;43mcompression\u001b[39;49m\u001b[38;5;124;43m\"\u001b[39;49m\u001b[43m,\u001b[49m\u001b[43m \u001b[49m\u001b[38;5;28;43;01mNone\u001b[39;49;00m\u001b[43m)\u001b[49m\u001b[43m,\u001b[49m\n\u001b[1;32m   1885\u001b[0m \u001b[43m    \u001b[49m\u001b[43mmemory_map\u001b[49m\u001b[38;5;241;43m=\u001b[39;49m\u001b[38;5;28;43mself\u001b[39;49m\u001b[38;5;241;43m.\u001b[39;49m\u001b[43moptions\u001b[49m\u001b[38;5;241;43m.\u001b[39;49m\u001b[43mget\u001b[49m\u001b[43m(\u001b[49m\u001b[38;5;124;43m\"\u001b[39;49m\u001b[38;5;124;43mmemory_map\u001b[39;49m\u001b[38;5;124;43m\"\u001b[39;49m\u001b[43m,\u001b[49m\u001b[43m \u001b[49m\u001b[38;5;28;43;01mFalse\u001b[39;49;00m\u001b[43m)\u001b[49m\u001b[43m,\u001b[49m\n\u001b[1;32m   1886\u001b[0m \u001b[43m    \u001b[49m\u001b[43mis_text\u001b[49m\u001b[38;5;241;43m=\u001b[39;49m\u001b[43mis_text\u001b[49m\u001b[43m,\u001b[49m\n\u001b[1;32m   1887\u001b[0m \u001b[43m    \u001b[49m\u001b[43merrors\u001b[49m\u001b[38;5;241;43m=\u001b[39;49m\u001b[38;5;28;43mself\u001b[39;49m\u001b[38;5;241;43m.\u001b[39;49m\u001b[43moptions\u001b[49m\u001b[38;5;241;43m.\u001b[39;49m\u001b[43mget\u001b[49m\u001b[43m(\u001b[49m\u001b[38;5;124;43m\"\u001b[39;49m\u001b[38;5;124;43mencoding_errors\u001b[39;49m\u001b[38;5;124;43m\"\u001b[39;49m\u001b[43m,\u001b[49m\u001b[43m \u001b[49m\u001b[38;5;124;43m\"\u001b[39;49m\u001b[38;5;124;43mstrict\u001b[39;49m\u001b[38;5;124;43m\"\u001b[39;49m\u001b[43m)\u001b[49m\u001b[43m,\u001b[49m\n\u001b[1;32m   1888\u001b[0m \u001b[43m    \u001b[49m\u001b[43mstorage_options\u001b[49m\u001b[38;5;241;43m=\u001b[39;49m\u001b[38;5;28;43mself\u001b[39;49m\u001b[38;5;241;43m.\u001b[39;49m\u001b[43moptions\u001b[49m\u001b[38;5;241;43m.\u001b[39;49m\u001b[43mget\u001b[49m\u001b[43m(\u001b[49m\u001b[38;5;124;43m\"\u001b[39;49m\u001b[38;5;124;43mstorage_options\u001b[39;49m\u001b[38;5;124;43m\"\u001b[39;49m\u001b[43m,\u001b[49m\u001b[43m \u001b[49m\u001b[38;5;28;43;01mNone\u001b[39;49;00m\u001b[43m)\u001b[49m\u001b[43m,\u001b[49m\n\u001b[1;32m   1889\u001b[0m \u001b[43m\u001b[49m\u001b[43m)\u001b[49m\n\u001b[1;32m   1890\u001b[0m \u001b[38;5;28;01massert\u001b[39;00m \u001b[38;5;28mself\u001b[39m\u001b[38;5;241m.\u001b[39mhandles \u001b[38;5;129;01mis\u001b[39;00m \u001b[38;5;129;01mnot\u001b[39;00m \u001b[38;5;28;01mNone\u001b[39;00m\n\u001b[1;32m   1891\u001b[0m f \u001b[38;5;241m=\u001b[39m \u001b[38;5;28mself\u001b[39m\u001b[38;5;241m.\u001b[39mhandles\u001b[38;5;241m.\u001b[39mhandle\n",
      "File \u001b[0;32m/Library/Frameworks/Python.framework/Versions/3.12/lib/python3.12/site-packages/pandas/io/common.py:873\u001b[0m, in \u001b[0;36mget_handle\u001b[0;34m(path_or_buf, mode, encoding, compression, memory_map, is_text, errors, storage_options)\u001b[0m\n\u001b[1;32m    868\u001b[0m \u001b[38;5;28;01melif\u001b[39;00m \u001b[38;5;28misinstance\u001b[39m(handle, \u001b[38;5;28mstr\u001b[39m):\n\u001b[1;32m    869\u001b[0m     \u001b[38;5;66;03m# Check whether the filename is to be opened in binary mode.\u001b[39;00m\n\u001b[1;32m    870\u001b[0m     \u001b[38;5;66;03m# Binary mode does not support 'encoding' and 'newline'.\u001b[39;00m\n\u001b[1;32m    871\u001b[0m     \u001b[38;5;28;01mif\u001b[39;00m ioargs\u001b[38;5;241m.\u001b[39mencoding \u001b[38;5;129;01mand\u001b[39;00m \u001b[38;5;124m\"\u001b[39m\u001b[38;5;124mb\u001b[39m\u001b[38;5;124m\"\u001b[39m \u001b[38;5;129;01mnot\u001b[39;00m \u001b[38;5;129;01min\u001b[39;00m ioargs\u001b[38;5;241m.\u001b[39mmode:\n\u001b[1;32m    872\u001b[0m         \u001b[38;5;66;03m# Encoding\u001b[39;00m\n\u001b[0;32m--> 873\u001b[0m         handle \u001b[38;5;241m=\u001b[39m \u001b[38;5;28;43mopen\u001b[39;49m\u001b[43m(\u001b[49m\n\u001b[1;32m    874\u001b[0m \u001b[43m            \u001b[49m\u001b[43mhandle\u001b[49m\u001b[43m,\u001b[49m\n\u001b[1;32m    875\u001b[0m \u001b[43m            \u001b[49m\u001b[43mioargs\u001b[49m\u001b[38;5;241;43m.\u001b[39;49m\u001b[43mmode\u001b[49m\u001b[43m,\u001b[49m\n\u001b[1;32m    876\u001b[0m \u001b[43m            \u001b[49m\u001b[43mencoding\u001b[49m\u001b[38;5;241;43m=\u001b[39;49m\u001b[43mioargs\u001b[49m\u001b[38;5;241;43m.\u001b[39;49m\u001b[43mencoding\u001b[49m\u001b[43m,\u001b[49m\n\u001b[1;32m    877\u001b[0m \u001b[43m            \u001b[49m\u001b[43merrors\u001b[49m\u001b[38;5;241;43m=\u001b[39;49m\u001b[43merrors\u001b[49m\u001b[43m,\u001b[49m\n\u001b[1;32m    878\u001b[0m \u001b[43m            \u001b[49m\u001b[43mnewline\u001b[49m\u001b[38;5;241;43m=\u001b[39;49m\u001b[38;5;124;43m\"\u001b[39;49m\u001b[38;5;124;43m\"\u001b[39;49m\u001b[43m,\u001b[49m\n\u001b[1;32m    879\u001b[0m \u001b[43m        \u001b[49m\u001b[43m)\u001b[49m\n\u001b[1;32m    880\u001b[0m     \u001b[38;5;28;01melse\u001b[39;00m:\n\u001b[1;32m    881\u001b[0m         \u001b[38;5;66;03m# Binary mode\u001b[39;00m\n\u001b[1;32m    882\u001b[0m         handle \u001b[38;5;241m=\u001b[39m \u001b[38;5;28mopen\u001b[39m(handle, ioargs\u001b[38;5;241m.\u001b[39mmode)\n",
      "\u001b[0;31mFileNotFoundError\u001b[0m: [Errno 2] No such file or directory: './Dataset/Co_so_kham_benh.csv'"
     ]
    }
   ],
   "source": [
    "data = pd.read_csv('../Dataset/Co_so_kham_benh.csv')\n",
    "data.head(5)"
   ]
  },
  {
   "cell_type": "markdown",
   "metadata": {},
   "source": [
    "### Kiểm tra dữ liệu bị thiếu"
   ]
  },
  {
   "cell_type": "code",
   "execution_count": 21,
   "metadata": {},
   "outputs": [
    {
     "data": {
      "text/plain": [
       "TenCoSo        114\n",
       "SoGiayPhep      16\n",
       "DiaChi          67\n",
       "NgayCap         17\n",
       "TinhTrang        0\n",
       "TenHinhThuc      0\n",
       "SoCCHN_NDD       9\n",
       "dtype: int64"
      ]
     },
     "execution_count": 21,
     "metadata": {},
     "output_type": "execute_result"
    }
   ],
   "source": [
    "data.isna().sum()"
   ]
  },
  {
   "cell_type": "markdown",
   "metadata": {},
   "source": [
    "Ta nhận thấy tồn tại dữ liệu bị thiếu ở các cột trong bảng dữ liệu, ta sẽ tiến hành loại bỏ các dữ liệu này"
   ]
  },
  {
   "cell_type": "code",
   "execution_count": 22,
   "metadata": {},
   "outputs": [
    {
     "data": {
      "text/plain": [
       "TenCoSo        0\n",
       "SoGiayPhep     0\n",
       "DiaChi         0\n",
       "NgayCap        0\n",
       "TinhTrang      0\n",
       "TenHinhThuc    0\n",
       "SoCCHN_NDD     0\n",
       "dtype: int64"
      ]
     },
     "execution_count": 22,
     "metadata": {},
     "output_type": "execute_result"
    }
   ],
   "source": [
    "data.dropna(inplace=True)\n",
    "data.isna().sum()"
   ]
  },
  {
   "cell_type": "markdown",
   "metadata": {},
   "source": [
    "### Kiểm tra dữ liệu trùng lắp"
   ]
  },
  {
   "cell_type": "code",
   "execution_count": 23,
   "metadata": {},
   "outputs": [
    {
     "data": {
      "text/plain": [
       "0"
      ]
     },
     "execution_count": 23,
     "metadata": {},
     "output_type": "execute_result"
    }
   ],
   "source": [
    "data.duplicated().sum()"
   ]
  },
  {
   "cell_type": "markdown",
   "metadata": {},
   "source": [
    "Ta nhận thấy không có dữ liệu bị trùng lắp"
   ]
  },
  {
   "cell_type": "markdown",
   "metadata": {},
   "source": [
    "### Chuẩn hoá cột địa chỉ về quận"
   ]
  },
  {
   "cell_type": "code",
   "execution_count": 24,
   "metadata": {},
   "outputs": [
    {
     "data": {
      "text/html": [
       "<div>\n",
       "<style scoped>\n",
       "    .dataframe tbody tr th:only-of-type {\n",
       "        vertical-align: middle;\n",
       "    }\n",
       "\n",
       "    .dataframe tbody tr th {\n",
       "        vertical-align: top;\n",
       "    }\n",
       "\n",
       "    .dataframe thead th {\n",
       "        text-align: right;\n",
       "    }\n",
       "</style>\n",
       "<table border=\"1\" class=\"dataframe\">\n",
       "  <thead>\n",
       "    <tr style=\"text-align: right;\">\n",
       "      <th></th>\n",
       "      <th>TenCoSo</th>\n",
       "      <th>SoGiayPhep</th>\n",
       "      <th>DiaChi</th>\n",
       "      <th>NgayCap</th>\n",
       "      <th>TinhTrang</th>\n",
       "      <th>TenHinhThuc</th>\n",
       "      <th>SoCCHN_NDD</th>\n",
       "    </tr>\n",
       "  </thead>\n",
       "  <tbody>\n",
       "    <tr>\n",
       "      <th>6694</th>\n",
       "      <td>Hộ kinh doanh Phòng khám SALA (SALA CLINIC)</td>\n",
       "      <td>04146/HCM-GPHĐ</td>\n",
       "      <td>Quận 2</td>\n",
       "      <td>2019-01-07 00:00:00</td>\n",
       "      <td>Đang hoạt động</td>\n",
       "      <td>Phòng khám Nội tổng hợp</td>\n",
       "      <td>000673/HCM-CCHN</td>\n",
       "    </tr>\n",
       "    <tr>\n",
       "      <th>879</th>\n",
       "      <td>Phòng khám chuyên khoa Sản Phụ khoa</td>\n",
       "      <td>01412/SYT-GPHĐ</td>\n",
       "      <td>Quận 10</td>\n",
       "      <td>2014-02-11 00:00:00</td>\n",
       "      <td>Đang hoạt động</td>\n",
       "      <td>Phòng khám chuyên khoa Sản phụ khoa</td>\n",
       "      <td>001574/BYT-CCHN</td>\n",
       "    </tr>\n",
       "    <tr>\n",
       "      <th>2353</th>\n",
       "      <td>Phòng khám chuyên khoa Răng Hàm Mặt</td>\n",
       "      <td>04281/SYT-GPHĐ</td>\n",
       "      <td>Quận 5</td>\n",
       "      <td>2015-02-10 00:00:00</td>\n",
       "      <td>Đang hoạt động</td>\n",
       "      <td>Phòng khám chuyên khoa Răng Hàm Mặt</td>\n",
       "      <td>004447/HCM-CCHN</td>\n",
       "    </tr>\n",
       "    <tr>\n",
       "      <th>1653</th>\n",
       "      <td>Phòng khám đa khoa thuộc Công ty cổ phần Y kho...</td>\n",
       "      <td>04517/SYT-GPHĐ</td>\n",
       "      <td>Thủ Đức</td>\n",
       "      <td>2015-05-18 00:00:00</td>\n",
       "      <td>Đang hoạt động</td>\n",
       "      <td>Phòng khám đa khoa</td>\n",
       "      <td>003400/HCM-CCHN</td>\n",
       "    </tr>\n",
       "    <tr>\n",
       "      <th>5254</th>\n",
       "      <td>Phòng khám chuyên khoa Da liễu thuộc Phòng khá...</td>\n",
       "      <td>05511/SYT-GPHĐ</td>\n",
       "      <td>Quận 10</td>\n",
       "      <td>2016-03-11 00:00:00</td>\n",
       "      <td>Đang hoạt động</td>\n",
       "      <td>Phòng khám chuyên khoa Da liễu</td>\n",
       "      <td>0003782/BD-CCHN</td>\n",
       "    </tr>\n",
       "    <tr>\n",
       "      <th>1166</th>\n",
       "      <td>Phòng chẩn trị y học cổ truyền</td>\n",
       "      <td>04783/SYT-GPHĐ</td>\n",
       "      <td>Tân Phú</td>\n",
       "      <td>2015-08-24 00:00:00</td>\n",
       "      <td>Đang hoạt động</td>\n",
       "      <td>Phòng chẩn trị y học cổ truyền</td>\n",
       "      <td>0020826/HCM-CCHN</td>\n",
       "    </tr>\n",
       "    <tr>\n",
       "      <th>2384</th>\n",
       "      <td>Trạm Y tế Xã Phạm Văn Hai Huyện Bình Chánh</td>\n",
       "      <td>05160/SYT-GPHĐ</td>\n",
       "      <td>Bình Chánh</td>\n",
       "      <td>2015-12-24 00:00:00</td>\n",
       "      <td>Đang hoạt động</td>\n",
       "      <td>Trạm y tế phường xã</td>\n",
       "      <td>0031187/HCM-CCHN</td>\n",
       "    </tr>\n",
       "    <tr>\n",
       "      <th>2469</th>\n",
       "      <td>Trạm Y tế Xã Tân Phú Trung Huyện Củ Chi</td>\n",
       "      <td>05272/SYT-GPHĐ</td>\n",
       "      <td>Tân Phú</td>\n",
       "      <td>2015-12-28 00:00:00</td>\n",
       "      <td>Đang hoạt động</td>\n",
       "      <td>Trạm y tế phường xã</td>\n",
       "      <td>0033571/HCM-CCHN</td>\n",
       "    </tr>\n",
       "    <tr>\n",
       "      <th>1836</th>\n",
       "      <td>Phòng khám chuyên khoa Chấn thương chỉnh hình</td>\n",
       "      <td>04861/SYT-GPHĐ</td>\n",
       "      <td>Hóc Môn</td>\n",
       "      <td>2015-09-28 00:00:00</td>\n",
       "      <td>Đang hoạt động</td>\n",
       "      <td>Phòng khám chuyên khoa Chấn thương chỉnh hình</td>\n",
       "      <td>0024096/HCM-CCHN</td>\n",
       "    </tr>\n",
       "    <tr>\n",
       "      <th>5242</th>\n",
       "      <td>Phòng khám chuyên khoa Phẫu thuật thẩm mỹ</td>\n",
       "      <td>00129/SYT-GPHĐ</td>\n",
       "      <td>Quận 6</td>\n",
       "      <td>2016-03-01 00:00:00</td>\n",
       "      <td>Đang hoạt động</td>\n",
       "      <td>Phòng khám chuyên khoa Phẫu thuật thẩm mỹ</td>\n",
       "      <td>000034/BYT-CCHN</td>\n",
       "    </tr>\n",
       "  </tbody>\n",
       "</table>\n",
       "</div>"
      ],
      "text/plain": [
       "                                                TenCoSo      SoGiayPhep  \\\n",
       "6694        Hộ kinh doanh Phòng khám SALA (SALA CLINIC)  04146/HCM-GPHĐ   \n",
       "879                 Phòng khám chuyên khoa Sản Phụ khoa  01412/SYT-GPHĐ   \n",
       "2353                Phòng khám chuyên khoa Răng Hàm Mặt  04281/SYT-GPHĐ   \n",
       "1653  Phòng khám đa khoa thuộc Công ty cổ phần Y kho...  04517/SYT-GPHĐ   \n",
       "5254  Phòng khám chuyên khoa Da liễu thuộc Phòng khá...  05511/SYT-GPHĐ   \n",
       "1166                     Phòng chẩn trị y học cổ truyền  04783/SYT-GPHĐ   \n",
       "2384         Trạm Y tế Xã Phạm Văn Hai Huyện Bình Chánh  05160/SYT-GPHĐ   \n",
       "2469            Trạm Y tế Xã Tân Phú Trung Huyện Củ Chi  05272/SYT-GPHĐ   \n",
       "1836      Phòng khám chuyên khoa Chấn thương chỉnh hình  04861/SYT-GPHĐ   \n",
       "5242          Phòng khám chuyên khoa Phẫu thuật thẩm mỹ  00129/SYT-GPHĐ   \n",
       "\n",
       "          DiaChi              NgayCap       TinhTrang  \\\n",
       "6694      Quận 2  2019-01-07 00:00:00  Đang hoạt động   \n",
       "879      Quận 10  2014-02-11 00:00:00  Đang hoạt động   \n",
       "2353      Quận 5  2015-02-10 00:00:00  Đang hoạt động   \n",
       "1653     Thủ Đức  2015-05-18 00:00:00  Đang hoạt động   \n",
       "5254     Quận 10  2016-03-11 00:00:00  Đang hoạt động   \n",
       "1166     Tân Phú  2015-08-24 00:00:00  Đang hoạt động   \n",
       "2384  Bình Chánh  2015-12-24 00:00:00  Đang hoạt động   \n",
       "2469     Tân Phú  2015-12-28 00:00:00  Đang hoạt động   \n",
       "1836     Hóc Môn  2015-09-28 00:00:00  Đang hoạt động   \n",
       "5242      Quận 6  2016-03-01 00:00:00  Đang hoạt động   \n",
       "\n",
       "                                         TenHinhThuc        SoCCHN_NDD  \n",
       "6694                         Phòng khám Nội tổng hợp   000673/HCM-CCHN  \n",
       "879              Phòng khám chuyên khoa Sản phụ khoa   001574/BYT-CCHN  \n",
       "2353             Phòng khám chuyên khoa Răng Hàm Mặt   004447/HCM-CCHN  \n",
       "1653                              Phòng khám đa khoa   003400/HCM-CCHN  \n",
       "5254                  Phòng khám chuyên khoa Da liễu   0003782/BD-CCHN  \n",
       "1166                  Phòng chẩn trị y học cổ truyền  0020826/HCM-CCHN  \n",
       "2384                            Trạm y tế phường xã   0031187/HCM-CCHN  \n",
       "2469                            Trạm y tế phường xã   0033571/HCM-CCHN  \n",
       "1836  Phòng khám chuyên khoa Chấn thương chỉnh hình   0024096/HCM-CCHN  \n",
       "5242       Phòng khám chuyên khoa Phẫu thuật thẩm mỹ   000034/BYT-CCHN  "
      ]
     },
     "execution_count": 24,
     "metadata": {},
     "output_type": "execute_result"
    }
   ],
   "source": [
    "districts = [\n",
    "    'Quận 1', 'Quận 2', 'Quận 3', 'Quận 4', 'Quận 5', 'Quận 6', \n",
    "    'Quận 7', 'Quận 8', 'Quận 9', 'Quận 10', 'Quận 11', 'Quận 12',\n",
    "    'Bình Thạnh', 'Gò Vấp', 'Phú Nhuận', 'Tân Bình', 'Tân Phú', \n",
    "    'Bình Tân', 'Thủ Đức', 'Bình Chánh', 'Cần Giờ', 'Củ Chi', \n",
    "    'Hóc Môn', 'Nhà Bè'\n",
    "]\n",
    "\n",
    "def district_to_number(address, districts):\n",
    "    for district in districts:\n",
    "        if f\"{district},\" in address or f\"{district} \" in address:\n",
    "            return district\n",
    "    return None\n",
    "\n",
    "data['DiaChi'] = data['DiaChi'].apply(lambda x: district_to_number(x, districts))\n",
    "data.sample(10)"
   ]
  },
  {
   "cell_type": "code",
   "execution_count": 25,
   "metadata": {},
   "outputs": [
    {
     "data": {
      "text/plain": [
       "TenCoSo         0\n",
       "SoGiayPhep      0\n",
       "DiaChi         15\n",
       "NgayCap         0\n",
       "TinhTrang       0\n",
       "TenHinhThuc     0\n",
       "SoCCHN_NDD      0\n",
       "dtype: int64"
      ]
     },
     "execution_count": 25,
     "metadata": {},
     "output_type": "execute_result"
    }
   ],
   "source": [
    "data.isna().sum()"
   ]
  },
  {
   "cell_type": "markdown",
   "metadata": {},
   "source": [
    "Sau khi chuẩn hoá, ta nhận thấy có một vài giá trị bất thường không thuộc khu vực thành phố Hồ Chí Minh nên không tìm được quận, ta loại bỏ các giá trị này."
   ]
  },
  {
   "cell_type": "code",
   "execution_count": 26,
   "metadata": {},
   "outputs": [
    {
     "data": {
      "text/plain": [
       "TenCoSo        0\n",
       "SoGiayPhep     0\n",
       "DiaChi         0\n",
       "NgayCap        0\n",
       "TinhTrang      0\n",
       "TenHinhThuc    0\n",
       "SoCCHN_NDD     0\n",
       "dtype: int64"
      ]
     },
     "execution_count": 26,
     "metadata": {},
     "output_type": "execute_result"
    }
   ],
   "source": [
    "data.dropna(inplace=True)\n",
    "data.isna().sum()"
   ]
  },
  {
   "cell_type": "markdown",
   "metadata": {},
   "source": [
    "### Gom các quận trong thành phố Thủ Đức\n",
    "Sau khi chuẩn hoá, ta gom các quận Thủ Đức, 2 và 9 lại thành thành phố Thủ Đức."
   ]
  },
  {
   "cell_type": "code",
   "execution_count": 27,
   "metadata": {},
   "outputs": [
    {
     "data": {
      "text/plain": [
       "array(['Quận 7', 'TP. Thủ Đức', 'Quận 8', 'Quận 4', 'Phú Nhuận',\n",
       "       'Bình Tân', 'Quận 3', 'Quận 10', 'Quận 1', 'Tân Bình', 'Gò Vấp',\n",
       "       'Nhà Bè', 'Bình Thạnh', 'Quận 6', 'Quận 11', 'Hóc Môn', 'Củ Chi',\n",
       "       'Quận 5', 'Quận 12', 'Bình Chánh', 'Tân Phú', 'Cần Giờ'],\n",
       "      dtype=object)"
      ]
     },
     "execution_count": 27,
     "metadata": {},
     "output_type": "execute_result"
    }
   ],
   "source": [
    "districts = ['Thủ Đức', 'Quận 2', 'Quận 9']\n",
    "\n",
    "def normalize_address(address):\n",
    "    if address in districts:\n",
    "        return \"TP. Thủ Đức\"\n",
    "    return address\n",
    "\n",
    "data['DiaChi'] = data['DiaChi'].apply(normalize_address)\n",
    "\n",
    "data['DiaChi'].unique()"
   ]
  },
  {
   "cell_type": "markdown",
   "metadata": {},
   "source": [
    "### Kiểm tra các giá trị bất thường của cột `TenHinhThuc`"
   ]
  },
  {
   "cell_type": "markdown",
   "metadata": {},
   "source": [
    "#### Kiểm tra các giá trị của cột `TenHinhThuc`"
   ]
  },
  {
   "cell_type": "code",
   "execution_count": 28,
   "metadata": {},
   "outputs": [
    {
     "name": "stdout",
     "output_type": "stream",
     "text": [
      "'Phòng khám chuyên khoa Răng Hàm Mặt': 1601 lần\n",
      "'Phòng khám Nội tổng hợp': 1391 lần\n",
      "'Phòng chẩn trị y học cổ truyền': 573 lần\n",
      "'Phòng khám chuyên khoa Nhi': 512 lần\n",
      "'Phòng khám chuyên khoa Sản phụ khoa': 484 lần\n",
      "'Phòng khám đa khoa': 339 lần\n",
      "'Trạm y tế phường xã ': 316 lần\n",
      "'Phòng khám chuyên khoa Tai Mũi Họng': 243 lần\n",
      "'Phòng khám chuyên khoa Da liễu': 225 lần\n",
      "'Phòng khám chuyên khoa Phẫu thuật thẩm mỹ': 217 lần\n",
      "'Phòng khám chuyên khoa Mắt': 145 lần\n",
      "'Phòng khám chuyên khoa Ngoại': 140 lần\n",
      "'Cơ sở dịch vụ làm răng giả': 131 lần\n",
      "'Phòng khám chuyên khoa Chấn thương chỉnh hình ': 118 lần\n",
      "'Phòng xét nghiệm': 107 lần\n",
      "'Phòng khám Chẩn đoán hình ảnh': 97 lần\n",
      "'Phòng khám chuyên khoa Ung bướu': 66 lần\n",
      "'Bệnh viện đa khoa': 64 lần\n",
      "'Phòng khám chuyên khoa Nội thần kinh': 58 lần\n",
      "'Phòng khám chuyên khoa Phục hồi chức năng': 56 lần\n",
      "'Bệnh viện chuyên khoa': 56 lần\n",
      "'Cơ sở dịch vụ tiêm (chích), thay băng, đếm mạch, đo nhiệt độ, đo huyết áp': 55 lần\n",
      "'Hành nghề tỉnh': 46 lần\n",
      "'Phòng khám chuyên khoa Tâm thần': 41 lần\n",
      "'Phòng khám chuyên khoa Nội Tim mạch': 38 lần\n",
      "'Phòng khám chuyên khoa Lao và bệnh phổi': 34 lần\n",
      "'Phòng khám chuyên khoa Nội tiết': 27 lần\n",
      "'Phòng khám chuyên khoa Ngoại niệu': 25 lần\n",
      "'Phòng khám chuyên khoa Ngoại nhi': 20 lần\n",
      "'Phòng khám bác sĩ gia đình': 19 lần\n",
      "'Phòng khám chuyên khoa Ngoại thần kinh': 18 lần\n",
      "'Trạm y tế khác': 15 lần\n",
      "'Phòng khám, điều trị HIV/AIDS': 15 lần\n",
      "'Phòng khám chuyên khoa Ngoại lồng ngực': 13 lần\n",
      "'Cơ sở dịch vụ chăm sóc sức khỏe tại nhà': 10 lần\n",
      "'Nhà hộ sinh': 7 lần\n",
      "'Phòng khám bác sĩ gia đình tư nhân độc lập': 5 lần\n",
      "'Cơ sở dịch vụ cấp cứu, hỗ trợ vận chuyển người bệnh': 5 lần\n",
      "'Phòng khám chuyên khoa Nội tiêu hóa': 4 lần\n",
      "'Cơ sở dịch vụ y tế khác': 4 lần\n",
      "'Phòng khám chuyên khoa Nhiễm': 3 lần\n",
      "'Phòng chẩn trị y học cổ truyền khác': 3 lần\n",
      "'Phòng chẩn đoán hình ảnh': 3 lần\n",
      "'Phòng khám chuyên khoa thuộc hệ ngoại': 2 lần\n",
      "'Phòng khám chuyên khoa thuộc hệ nội': 2 lần\n",
      "'Cơ sở dịch vụ kính thuốc': 2 lần\n",
      "'Phòng khám tư vấn và điều trị dự phòng': 1 lần\n",
      "'Phòng khám chuyên khoa Lão': 1 lần\n",
      "'Phòng khám chuyên khoa Nội cơ xương khớp': 1 lần\n",
      "'Phòng khám chuyên khoa Nội hô hấp': 1 lần\n",
      "'Y tế cơ quan': 1 lần\n"
     ]
    }
   ],
   "source": [
    "unique_counts = data['TenHinhThuc'].value_counts()\n",
    "\n",
    "for value, count in unique_counts.items():\n",
    "    print(f\"'{value}': {count} lần\")"
   ]
  },
  {
   "cell_type": "markdown",
   "metadata": {},
   "source": [
    "Ta nhận thấy có dữ liệu 'Hành nghề tỉnh' là dữ liệu bất thường, ta sẽ loại bỏ các dòng liên quan đến hình thức này vì ta chỉ xét trong khu vực Hồ Chí Minh."
   ]
  },
  {
   "cell_type": "code",
   "execution_count": 29,
   "metadata": {},
   "outputs": [
    {
     "name": "stdout",
     "output_type": "stream",
     "text": [
      "'Số dòng có hình thức là 'Hành nghề tỉnh' trong bộ dữ liệu: 0\n"
     ]
    }
   ],
   "source": [
    "data = data[data['TenHinhThuc'] != 'Hành nghề tỉnh']\n",
    "#Test\n",
    "print(\"'Số dòng có hình thức là 'Hành nghề tỉnh' trong bộ dữ liệu:\", len(data[data['TenHinhThuc'] == 'Hành nghề tỉnh']))"
   ]
  },
  {
   "cell_type": "markdown",
   "metadata": {},
   "source": [
    "### Rút gọn chuỗi hình thức"
   ]
  },
  {
   "cell_type": "markdown",
   "metadata": {},
   "source": [
    "Ta nhận thấy hình thức phòng khám tồn tại rất nhiều, ta sẽ tiến hành loại bỏ chuỗi \"Phòng khám\", \"Phòng khám chuyên khoa\" thành \"PK\" và \"PKCK\" giúp ngắn gọn."
   ]
  },
  {
   "cell_type": "code",
   "execution_count": 30,
   "metadata": {},
   "outputs": [
    {
     "data": {
      "text/plain": [
       "array(['PK đa khoa', 'PKCK Răng Hàm Mặt', 'PKCK Mắt', 'PKCK Tai Mũi Họng',\n",
       "       'PKCK Sản phụ khoa', 'PK Nội tổng hợp', 'Bệnh viện đa khoa',\n",
       "       'PKCK Phẫu thuật thẩm mỹ', 'PKCK Da liễu', 'PKCK Nhi',\n",
       "       'PKCK Nội thần kinh', 'Phòng chẩn trị y học cổ truyền',\n",
       "       'Cơ sở dịch vụ làm răng giả', 'PKCK Ngoại niệu',\n",
       "       'PKCK Chấn thương chỉnh hình ', 'Phòng xét nghiệm',\n",
       "       'PKCK Nội Tim mạch', 'PKCK Phục hồi chức năng', 'PKCK Ngoại',\n",
       "       'Trạm y tế phường xã ', 'PK Chẩn đoán hình ảnh',\n",
       "       'PKCK Ngoại thần kinh', 'PKCK Nội tiết',\n",
       "       'Cơ sở dịch vụ cấp cứu, hỗ trợ vận chuyển người bệnh',\n",
       "       'Bệnh viện chuyên khoa', 'PKCK Ung bướu', 'PKCK Tâm thần',\n",
       "       'PK bác sĩ gia đình tư nhân độc lập', 'PKCK Lao và bệnh phổi',\n",
       "       'Cơ sở dịch vụ tiêm (chích), thay băng, đếm mạch, đo nhiệt độ, đo huyết áp',\n",
       "       'PKCK Nội tiêu hóa', 'PKCK Ngoại lồng ngực',\n",
       "       'PKCK Nội cơ xương khớp', 'PKCK Ngoại nhi', 'Nhà hộ sinh',\n",
       "       'PKCK Lão', 'PK tư vấn và điều trị dự phòng', 'PKCK Nhiễm',\n",
       "       'PK bác sĩ gia đình', 'PKCK thuộc hệ ngoại', 'PKCK thuộc hệ nội',\n",
       "       'Cơ sở dịch vụ chăm sóc sức khỏe tại nhà', 'PKCK Nội hô hấp',\n",
       "       'Y tế cơ quan', 'Phòng chẩn trị y học cổ truyền khác',\n",
       "       'Phòng chẩn đoán hình ảnh', 'Phòng khám, điều trị HIV/AIDS',\n",
       "       'Trạm y tế khác', 'Cơ sở dịch vụ kính thuốc',\n",
       "       'Cơ sở dịch vụ y tế khác'], dtype=object)"
      ]
     },
     "execution_count": 30,
     "metadata": {},
     "output_type": "execute_result"
    }
   ],
   "source": [
    "# Xóa chuỗi 'Phòng khám chuyên khoa' hoặc 'Phòng khám'\n",
    "data['TenHinhThuc'] = data['TenHinhThuc'].str.replace('Phòng khám chuyên khoa ', 'PKCK ', regex=True)\n",
    "data['TenHinhThuc'] = data['TenHinhThuc'].str.replace('Phòng khám ', 'PK ', regex=True)\n",
    "data['TenHinhThuc'].unique()"
   ]
  },
  {
   "cell_type": "markdown",
   "metadata": {},
   "source": [
    "### Kiểm tra tình trạng hoạt động của các phòng khám"
   ]
  },
  {
   "cell_type": "code",
   "execution_count": 31,
   "metadata": {},
   "outputs": [
    {
     "name": "stdout",
     "output_type": "stream",
     "text": [
      "Số lượng phòng khám đã đóng cửa: 0\n"
     ]
    }
   ],
   "source": [
    "print(\"Số lượng phòng khám đã đóng cửa:\",len(data[data['TinhTrang'] != 'Đang hoạt động']))"
   ]
  },
  {
   "cell_type": "markdown",
   "metadata": {},
   "source": [
    "Vậy không có phòng khám nào trong bộ dữ liệu hiện không hoạt động."
   ]
  },
  {
   "cell_type": "markdown",
   "metadata": {},
   "source": [
    "### Loại bỏ các cột dữ liệu không phân tích"
   ]
  },
  {
   "cell_type": "markdown",
   "metadata": {},
   "source": [
    "Ta nhận thấy các cột dữ liệu `TenCoSo`, `SoGiayPhep`, `TinhTrang`, `SoCCHN_NDD` không có nhiều giá trị phân tích, ta sẽ tiến hành loại bỏ các cột này để giảm độ phức tạp."
   ]
  },
  {
   "cell_type": "code",
   "execution_count": 32,
   "metadata": {},
   "outputs": [],
   "source": [
    "data = data.drop(['TenCoSo', 'SoGiayPhep', 'TinhTrang', 'SoCCHN_NDD'], axis=1)"
   ]
  },
  {
   "cell_type": "markdown",
   "metadata": {},
   "source": [
    "Bộ dữ liệu sau khi đã tiền xử lí xong có dạng:"
   ]
  },
  {
   "cell_type": "code",
   "execution_count": 33,
   "metadata": {},
   "outputs": [
    {
     "data": {
      "text/html": [
       "<div>\n",
       "<style scoped>\n",
       "    .dataframe tbody tr th:only-of-type {\n",
       "        vertical-align: middle;\n",
       "    }\n",
       "\n",
       "    .dataframe tbody tr th {\n",
       "        vertical-align: top;\n",
       "    }\n",
       "\n",
       "    .dataframe thead th {\n",
       "        text-align: right;\n",
       "    }\n",
       "</style>\n",
       "<table border=\"1\" class=\"dataframe\">\n",
       "  <thead>\n",
       "    <tr style=\"text-align: right;\">\n",
       "      <th></th>\n",
       "      <th>DiaChi</th>\n",
       "      <th>NgayCap</th>\n",
       "      <th>TenHinhThuc</th>\n",
       "    </tr>\n",
       "  </thead>\n",
       "  <tbody>\n",
       "    <tr>\n",
       "      <th>2780</th>\n",
       "      <td>Quận 1</td>\n",
       "      <td>2014-03-19 00:00:00</td>\n",
       "      <td>PKCK Răng Hàm Mặt</td>\n",
       "    </tr>\n",
       "    <tr>\n",
       "      <th>4265</th>\n",
       "      <td>Bình Tân</td>\n",
       "      <td>2014-11-26 00:00:00</td>\n",
       "      <td>PK Nội tổng hợp</td>\n",
       "    </tr>\n",
       "    <tr>\n",
       "      <th>90</th>\n",
       "      <td>Tân Bình</td>\n",
       "      <td>2017-07-31 00:00:00</td>\n",
       "      <td>PKCK Răng Hàm Mặt</td>\n",
       "    </tr>\n",
       "    <tr>\n",
       "      <th>1534</th>\n",
       "      <td>Tân Bình</td>\n",
       "      <td>2013-12-10 00:00:00</td>\n",
       "      <td>PKCK Tai Mũi Họng</td>\n",
       "    </tr>\n",
       "    <tr>\n",
       "      <th>338</th>\n",
       "      <td>Bình Thạnh</td>\n",
       "      <td>2014-04-15 00:00:00</td>\n",
       "      <td>PKCK Chấn thương chỉnh hình</td>\n",
       "    </tr>\n",
       "    <tr>\n",
       "      <th>4843</th>\n",
       "      <td>Gò Vấp</td>\n",
       "      <td>2013-12-12 00:00:00</td>\n",
       "      <td>PKCK Răng Hàm Mặt</td>\n",
       "    </tr>\n",
       "    <tr>\n",
       "      <th>14</th>\n",
       "      <td>Quận 10</td>\n",
       "      <td>2015-06-15 00:00:00</td>\n",
       "      <td>PK Nội tổng hợp</td>\n",
       "    </tr>\n",
       "  </tbody>\n",
       "</table>\n",
       "</div>"
      ],
      "text/plain": [
       "          DiaChi              NgayCap                   TenHinhThuc\n",
       "2780      Quận 1  2014-03-19 00:00:00             PKCK Răng Hàm Mặt\n",
       "4265    Bình Tân  2014-11-26 00:00:00               PK Nội tổng hợp\n",
       "90      Tân Bình  2017-07-31 00:00:00             PKCK Răng Hàm Mặt\n",
       "1534    Tân Bình  2013-12-10 00:00:00             PKCK Tai Mũi Họng\n",
       "338   Bình Thạnh  2014-04-15 00:00:00  PKCK Chấn thương chỉnh hình \n",
       "4843      Gò Vấp  2013-12-12 00:00:00             PKCK Răng Hàm Mặt\n",
       "14       Quận 10  2015-06-15 00:00:00               PK Nội tổng hợp"
      ]
     },
     "execution_count": 33,
     "metadata": {},
     "output_type": "execute_result"
    }
   ],
   "source": [
    "data.sample(7)"
   ]
  },
  {
   "cell_type": "markdown",
   "metadata": {},
   "source": [
    "#### Kích thước của bộ dữ liệu sau khi tiền xử lý"
   ]
  },
  {
   "cell_type": "code",
   "execution_count": 34,
   "metadata": {},
   "outputs": [
    {
     "data": {
      "text/plain": [
       "(7314, 3)"
      ]
     },
     "execution_count": 34,
     "metadata": {},
     "output_type": "execute_result"
    }
   ],
   "source": [
    "data.shape"
   ]
  },
  {
   "cell_type": "markdown",
   "metadata": {},
   "source": [
    "### Lưu lại bộ dữ liệu"
   ]
  },
  {
   "cell_type": "markdown",
   "metadata": {},
   "source": [
    "#### Lưu dưới dạng csv"
   ]
  },
  {
   "cell_type": "code",
   "execution_count": 35,
   "metadata": {},
   "outputs": [],
   "source": [
    "data.to_csv('../Dataset/CoSoKham_DaXuLy.csv', header=True, index=False)"
   ]
  },
  {
   "cell_type": "markdown",
   "metadata": {},
   "source": [
    "#### Lưu dưới dạng excel"
   ]
  },
  {
   "cell_type": "code",
   "execution_count": 36,
   "metadata": {},
   "outputs": [],
   "source": [
    "data.to_excel('../Dataset/CoSoKham_DaXuLy.xlsx', header=True, index=False)"
   ]
  }
 ],
 "metadata": {
  "kernelspec": {
   "display_name": "Python 3",
   "language": "python",
   "name": "python3"
  },
  "language_info": {
   "codemirror_mode": {
    "name": "ipython",
    "version": 3
   },
   "file_extension": ".py",
   "mimetype": "text/x-python",
   "name": "python",
   "nbconvert_exporter": "python",
   "pygments_lexer": "ipython3",
   "version": "3.12.2"
  }
 },
 "nbformat": 4,
 "nbformat_minor": 2
}
