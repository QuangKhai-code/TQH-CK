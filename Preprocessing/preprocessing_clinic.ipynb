{
 "cells": [
  {
   "cell_type": "markdown",
   "metadata": {},
   "source": [
    "### Khai báo thư viện"
   ]
  },
  {
   "cell_type": "code",
   "execution_count": 19,
   "metadata": {},
   "outputs": [],
   "source": [
    "import pandas as pd"
   ]
  },
  {
   "cell_type": "markdown",
   "metadata": {},
   "source": [
    "### Tải dữ liệu"
   ]
  },
  {
   "cell_type": "code",
   "execution_count": 20,
   "metadata": {},
   "outputs": [
    {
     "data": {
      "text/html": [
       "<div>\n",
       "<style scoped>\n",
       "    .dataframe tbody tr th:only-of-type {\n",
       "        vertical-align: middle;\n",
       "    }\n",
       "\n",
       "    .dataframe tbody tr th {\n",
       "        vertical-align: top;\n",
       "    }\n",
       "\n",
       "    .dataframe thead th {\n",
       "        text-align: right;\n",
       "    }\n",
       "</style>\n",
       "<table border=\"1\" class=\"dataframe\">\n",
       "  <thead>\n",
       "    <tr style=\"text-align: right;\">\n",
       "      <th></th>\n",
       "      <th>TenCoSo</th>\n",
       "      <th>SoGiayPhep</th>\n",
       "      <th>DiaChi</th>\n",
       "      <th>NgayCap</th>\n",
       "      <th>TinhTrang</th>\n",
       "      <th>TenHinhThuc</th>\n",
       "      <th>SoCCHN_NDD</th>\n",
       "    </tr>\n",
       "  </thead>\n",
       "  <tbody>\n",
       "    <tr>\n",
       "      <th>0</th>\n",
       "      <td>Phòng khám đa khoa thuộc Công ty Cổ phần Euro ...</td>\n",
       "      <td>04211/SYT-GPHĐ</td>\n",
       "      <td>SI-09 Khu phố Garden Court 2, Phường Tân Phong...</td>\n",
       "      <td>2015-10-15 00:00:00</td>\n",
       "      <td>Đang hoạt động</td>\n",
       "      <td>Phòng khám đa khoa</td>\n",
       "      <td>000013/BL-CCHN</td>\n",
       "    </tr>\n",
       "    <tr>\n",
       "      <th>1</th>\n",
       "      <td>Phòng khám chuyên khoa Răng Hàm Mặt thuộc Công...</td>\n",
       "      <td>03516/SYT-GPHĐ</td>\n",
       "      <td>Lô MD6, Khu A Khu đô thị mới Nam thành phố, Ng...</td>\n",
       "      <td>2014-10-20 00:00:00</td>\n",
       "      <td>Đang hoạt động</td>\n",
       "      <td>Phòng khám chuyên khoa Răng Hàm Mặt</td>\n",
       "      <td>000017/BYT-CCHN</td>\n",
       "    </tr>\n",
       "    <tr>\n",
       "      <th>2</th>\n",
       "      <td>Công ty TNHH American Eye Center</td>\n",
       "      <td>00002/SYT-GPHĐ</td>\n",
       "      <td>Phòng 509 &amp; 510, Tòa nhà Crescent Plaza, lô CR...</td>\n",
       "      <td>2012-08-24 00:00:00</td>\n",
       "      <td>Đang hoạt động</td>\n",
       "      <td>Phòng khám chuyên khoa Mắt</td>\n",
       "      <td>000018/BYT-CCHN</td>\n",
       "    </tr>\n",
       "    <tr>\n",
       "      <th>3</th>\n",
       "      <td>Phòng khám chuyên khoa Tai Mũi Họng</td>\n",
       "      <td>01696/SYT-GPHĐ</td>\n",
       "      <td>51 Nguyễn Duy Trinh, Phường Bình Trưng Tây, Qu...</td>\n",
       "      <td>2014-02-25 00:00:00</td>\n",
       "      <td>Đang hoạt động</td>\n",
       "      <td>Phòng khám chuyên khoa Tai Mũi Họng</td>\n",
       "      <td>000019/HCM-CCHN</td>\n",
       "    </tr>\n",
       "    <tr>\n",
       "      <th>4</th>\n",
       "      <td>Phòng khám chuyên khoa Sản Phụ khoa</td>\n",
       "      <td>00289/SYT-GPHĐ</td>\n",
       "      <td>51 Đường 284 Cao Lỗ, Phường 4, Quận 8, TP Hồ C...</td>\n",
       "      <td>2013-08-22 00:00:00</td>\n",
       "      <td>Đang hoạt động</td>\n",
       "      <td>Phòng khám chuyên khoa Sản phụ khoa</td>\n",
       "      <td>000025/HCM-CCHN</td>\n",
       "    </tr>\n",
       "  </tbody>\n",
       "</table>\n",
       "</div>"
      ],
      "text/plain": [
       "                                             TenCoSo      SoGiayPhep  \\\n",
       "0  Phòng khám đa khoa thuộc Công ty Cổ phần Euro ...  04211/SYT-GPHĐ   \n",
       "1  Phòng khám chuyên khoa Răng Hàm Mặt thuộc Công...  03516/SYT-GPHĐ   \n",
       "2                   Công ty TNHH American Eye Center  00002/SYT-GPHĐ   \n",
       "3                Phòng khám chuyên khoa Tai Mũi Họng  01696/SYT-GPHĐ   \n",
       "4                Phòng khám chuyên khoa Sản Phụ khoa  00289/SYT-GPHĐ   \n",
       "\n",
       "                                              DiaChi              NgayCap  \\\n",
       "0  SI-09 Khu phố Garden Court 2, Phường Tân Phong...  2015-10-15 00:00:00   \n",
       "1  Lô MD6, Khu A Khu đô thị mới Nam thành phố, Ng...  2014-10-20 00:00:00   \n",
       "2  Phòng 509 & 510, Tòa nhà Crescent Plaza, lô CR...  2012-08-24 00:00:00   \n",
       "3  51 Nguyễn Duy Trinh, Phường Bình Trưng Tây, Qu...  2014-02-25 00:00:00   \n",
       "4  51 Đường 284 Cao Lỗ, Phường 4, Quận 8, TP Hồ C...  2013-08-22 00:00:00   \n",
       "\n",
       "        TinhTrang                          TenHinhThuc       SoCCHN_NDD  \n",
       "0  Đang hoạt động                   Phòng khám đa khoa   000013/BL-CCHN  \n",
       "1  Đang hoạt động  Phòng khám chuyên khoa Răng Hàm Mặt  000017/BYT-CCHN  \n",
       "2  Đang hoạt động           Phòng khám chuyên khoa Mắt  000018/BYT-CCHN  \n",
       "3  Đang hoạt động  Phòng khám chuyên khoa Tai Mũi Họng  000019/HCM-CCHN  \n",
       "4  Đang hoạt động  Phòng khám chuyên khoa Sản phụ khoa  000025/HCM-CCHN  "
      ]
     },
     "execution_count": 20,
     "metadata": {},
     "output_type": "execute_result"
    }
   ],
   "source": [
    "data = pd.read_csv('./Dataset/Co_so_kham_benh.csv')\n",
    "data.head(5)"
   ]
  },
  {
   "cell_type": "markdown",
   "metadata": {},
   "source": [
    "### Kiểm tra dữ liệu bị thiếu"
   ]
  },
  {
   "cell_type": "code",
   "execution_count": 21,
   "metadata": {},
   "outputs": [
    {
     "data": {
      "text/plain": [
       "TenCoSo        114\n",
       "SoGiayPhep      16\n",
       "DiaChi          67\n",
       "NgayCap         17\n",
       "TinhTrang        0\n",
       "TenHinhThuc      0\n",
       "SoCCHN_NDD       9\n",
       "dtype: int64"
      ]
     },
     "execution_count": 21,
     "metadata": {},
     "output_type": "execute_result"
    }
   ],
   "source": [
    "data.isna().sum()"
   ]
  },
  {
   "cell_type": "markdown",
   "metadata": {},
   "source": [
    "Ta nhận thấy tồn tại dữ liệu bị thiếu ở các cột trong bảng dữ liệu, ta sẽ tiến hành loại bỏ các dữ liệu này"
   ]
  },
  {
   "cell_type": "code",
   "execution_count": 22,
   "metadata": {},
   "outputs": [
    {
     "data": {
      "text/plain": [
       "TenCoSo        0\n",
       "SoGiayPhep     0\n",
       "DiaChi         0\n",
       "NgayCap        0\n",
       "TinhTrang      0\n",
       "TenHinhThuc    0\n",
       "SoCCHN_NDD     0\n",
       "dtype: int64"
      ]
     },
     "execution_count": 22,
     "metadata": {},
     "output_type": "execute_result"
    }
   ],
   "source": [
    "data.dropna(inplace=True)\n",
    "data.isna().sum()"
   ]
  },
  {
   "cell_type": "markdown",
   "metadata": {},
   "source": [
    "### Kiểm tra dữ liệu trùng lắp"
   ]
  },
  {
   "cell_type": "code",
   "execution_count": 23,
   "metadata": {},
   "outputs": [
    {
     "data": {
      "text/plain": [
       "0"
      ]
     },
     "execution_count": 23,
     "metadata": {},
     "output_type": "execute_result"
    }
   ],
   "source": [
    "data.duplicated().sum()"
   ]
  },
  {
   "cell_type": "markdown",
   "metadata": {},
   "source": [
    "Ta nhận thấy không có dữ liệu bị trùng lắp"
   ]
  },
  {
   "cell_type": "markdown",
   "metadata": {},
   "source": [
    "### Chuẩn hoá cột địa chỉ về quận"
   ]
  },
  {
   "cell_type": "code",
   "execution_count": 24,
   "metadata": {},
   "outputs": [
    {
     "data": {
      "text/html": [
       "<div>\n",
       "<style scoped>\n",
       "    .dataframe tbody tr th:only-of-type {\n",
       "        vertical-align: middle;\n",
       "    }\n",
       "\n",
       "    .dataframe tbody tr th {\n",
       "        vertical-align: top;\n",
       "    }\n",
       "\n",
       "    .dataframe thead th {\n",
       "        text-align: right;\n",
       "    }\n",
       "</style>\n",
       "<table border=\"1\" class=\"dataframe\">\n",
       "  <thead>\n",
       "    <tr style=\"text-align: right;\">\n",
       "      <th></th>\n",
       "      <th>TenCoSo</th>\n",
       "      <th>SoGiayPhep</th>\n",
       "      <th>DiaChi</th>\n",
       "      <th>NgayCap</th>\n",
       "      <th>TinhTrang</th>\n",
       "      <th>TenHinhThuc</th>\n",
       "      <th>SoCCHN_NDD</th>\n",
       "    </tr>\n",
       "  </thead>\n",
       "  <tbody>\n",
       "    <tr>\n",
       "      <th>6694</th>\n",
       "      <td>Hộ kinh doanh Phòng khám SALA (SALA CLINIC)</td>\n",
       "      <td>04146/HCM-GPHĐ</td>\n",
       "      <td>Quận 2</td>\n",
       "      <td>2019-01-07 00:00:00</td>\n",
       "      <td>Đang hoạt động</td>\n",
       "      <td>Phòng khám Nội tổng hợp</td>\n",
       "      <td>000673/HCM-CCHN</td>\n",
       "    </tr>\n",
       "    <tr>\n",
       "      <th>879</th>\n",
       "      <td>Phòng khám chuyên khoa Sản Phụ khoa</td>\n",
       "      <td>01412/SYT-GPHĐ</td>\n",
       "      <td>Quận 10</td>\n",
       "      <td>2014-02-11 00:00:00</td>\n",
       "      <td>Đang hoạt động</td>\n",
       "      <td>Phòng khám chuyên khoa Sản phụ khoa</td>\n",
       "      <td>001574/BYT-CCHN</td>\n",
       "    </tr>\n",
       "    <tr>\n",
       "      <th>2353</th>\n",
       "      <td>Phòng khám chuyên khoa Răng Hàm Mặt</td>\n",
       "      <td>04281/SYT-GPHĐ</td>\n",
       "      <td>Quận 5</td>\n",
       "      <td>2015-02-10 00:00:00</td>\n",
       "      <td>Đang hoạt động</td>\n",
       "      <td>Phòng khám chuyên khoa Răng Hàm Mặt</td>\n",
       "      <td>004447/HCM-CCHN</td>\n",
       "    </tr>\n",
       "    <tr>\n",
       "      <th>1653</th>\n",
       "      <td>Phòng khám đa khoa thuộc Công ty cổ phần Y kho...</td>\n",
       "      <td>04517/SYT-GPHĐ</td>\n",
       "      <td>Thủ Đức</td>\n",
       "      <td>2015-05-18 00:00:00</td>\n",
       "      <td>Đang hoạt động</td>\n",
       "      <td>Phòng khám đa khoa</td>\n",
       "      <td>003400/HCM-CCHN</td>\n",
       "    </tr>\n",
       "    <tr>\n",
       "      <th>5254</th>\n",
       "      <td>Phòng khám chuyên khoa Da liễu thuộc Phòng khá...</td>\n",
       "      <td>05511/SYT-GPHĐ</td>\n",
       "      <td>Quận 10</td>\n",
       "      <td>2016-03-11 00:00:00</td>\n",
       "      <td>Đang hoạt động</td>\n",
       "      <td>Phòng khám chuyên khoa Da liễu</td>\n",
       "      <td>0003782/BD-CCHN</td>\n",
       "    </tr>\n",
       "    <tr>\n",
       "      <th>1166</th>\n",
       "      <td>Phòng chẩn trị y học cổ truyền</td>\n",
       "      <td>04783/SYT-GPHĐ</td>\n",
       "      <td>Tân Phú</td>\n",
       "      <td>2015-08-24 00:00:00</td>\n",
       "      <td>Đang hoạt động</td>\n",
       "      <td>Phòng chẩn trị y học cổ truyền</td>\n",
       "      <td>0020826/HCM-CCHN</td>\n",
       "    </tr>\n",
       "    <tr>\n",
       "      <th>2384</th>\n",
       "      <td>Trạm Y tế Xã Phạm Văn Hai Huyện Bình Chánh</td>\n",
       "      <td>05160/SYT-GPHĐ</td>\n",
       "      <td>Bình Chánh</td>\n",
       "      <td>2015-12-24 00:00:00</td>\n",
       "      <td>Đang hoạt động</td>\n",
       "      <td>Trạm y tế phường xã</td>\n",
       "      <td>0031187/HCM-CCHN</td>\n",
       "    </tr>\n",
       "    <tr>\n",
       "      <th>2469</th>\n",
       "      <td>Trạm Y tế Xã Tân Phú Trung Huyện Củ Chi</td>\n",
       "      <td>05272/SYT-GPHĐ</td>\n",
       "      <td>Tân Phú</td>\n",
       "      <td>2015-12-28 00:00:00</td>\n",
       "      <td>Đang hoạt động</td>\n",
       "      <td>Trạm y tế phường xã</td>\n",
       "      <td>0033571/HCM-CCHN</td>\n",
       "    </tr>\n",
       "    <tr>\n",
       "      <th>1836</th>\n",
       "      <td>Phòng khám chuyên khoa Chấn thương chỉnh hình</td>\n",
       "      <td>04861/SYT-GPHĐ</td>\n",
       "      <td>Hóc Môn</td>\n",
       "      <td>2015-09-28 00:00:00</td>\n",
       "      <td>Đang hoạt động</td>\n",
       "      <td>Phòng khám chuyên khoa Chấn thương chỉnh hình</td>\n",
       "      <td>0024096/HCM-CCHN</td>\n",
       "    </tr>\n",
       "    <tr>\n",
       "      <th>5242</th>\n",
       "      <td>Phòng khám chuyên khoa Phẫu thuật thẩm mỹ</td>\n",
       "      <td>00129/SYT-GPHĐ</td>\n",
       "      <td>Quận 6</td>\n",
       "      <td>2016-03-01 00:00:00</td>\n",
       "      <td>Đang hoạt động</td>\n",
       "      <td>Phòng khám chuyên khoa Phẫu thuật thẩm mỹ</td>\n",
       "      <td>000034/BYT-CCHN</td>\n",
       "    </tr>\n",
       "  </tbody>\n",
       "</table>\n",
       "</div>"
      ],
      "text/plain": [
       "                                                TenCoSo      SoGiayPhep  \\\n",
       "6694        Hộ kinh doanh Phòng khám SALA (SALA CLINIC)  04146/HCM-GPHĐ   \n",
       "879                 Phòng khám chuyên khoa Sản Phụ khoa  01412/SYT-GPHĐ   \n",
       "2353                Phòng khám chuyên khoa Răng Hàm Mặt  04281/SYT-GPHĐ   \n",
       "1653  Phòng khám đa khoa thuộc Công ty cổ phần Y kho...  04517/SYT-GPHĐ   \n",
       "5254  Phòng khám chuyên khoa Da liễu thuộc Phòng khá...  05511/SYT-GPHĐ   \n",
       "1166                     Phòng chẩn trị y học cổ truyền  04783/SYT-GPHĐ   \n",
       "2384         Trạm Y tế Xã Phạm Văn Hai Huyện Bình Chánh  05160/SYT-GPHĐ   \n",
       "2469            Trạm Y tế Xã Tân Phú Trung Huyện Củ Chi  05272/SYT-GPHĐ   \n",
       "1836      Phòng khám chuyên khoa Chấn thương chỉnh hình  04861/SYT-GPHĐ   \n",
       "5242          Phòng khám chuyên khoa Phẫu thuật thẩm mỹ  00129/SYT-GPHĐ   \n",
       "\n",
       "          DiaChi              NgayCap       TinhTrang  \\\n",
       "6694      Quận 2  2019-01-07 00:00:00  Đang hoạt động   \n",
       "879      Quận 10  2014-02-11 00:00:00  Đang hoạt động   \n",
       "2353      Quận 5  2015-02-10 00:00:00  Đang hoạt động   \n",
       "1653     Thủ Đức  2015-05-18 00:00:00  Đang hoạt động   \n",
       "5254     Quận 10  2016-03-11 00:00:00  Đang hoạt động   \n",
       "1166     Tân Phú  2015-08-24 00:00:00  Đang hoạt động   \n",
       "2384  Bình Chánh  2015-12-24 00:00:00  Đang hoạt động   \n",
       "2469     Tân Phú  2015-12-28 00:00:00  Đang hoạt động   \n",
       "1836     Hóc Môn  2015-09-28 00:00:00  Đang hoạt động   \n",
       "5242      Quận 6  2016-03-01 00:00:00  Đang hoạt động   \n",
       "\n",
       "                                         TenHinhThuc        SoCCHN_NDD  \n",
       "6694                         Phòng khám Nội tổng hợp   000673/HCM-CCHN  \n",
       "879              Phòng khám chuyên khoa Sản phụ khoa   001574/BYT-CCHN  \n",
       "2353             Phòng khám chuyên khoa Răng Hàm Mặt   004447/HCM-CCHN  \n",
       "1653                              Phòng khám đa khoa   003400/HCM-CCHN  \n",
       "5254                  Phòng khám chuyên khoa Da liễu   0003782/BD-CCHN  \n",
       "1166                  Phòng chẩn trị y học cổ truyền  0020826/HCM-CCHN  \n",
       "2384                            Trạm y tế phường xã   0031187/HCM-CCHN  \n",
       "2469                            Trạm y tế phường xã   0033571/HCM-CCHN  \n",
       "1836  Phòng khám chuyên khoa Chấn thương chỉnh hình   0024096/HCM-CCHN  \n",
       "5242       Phòng khám chuyên khoa Phẫu thuật thẩm mỹ   000034/BYT-CCHN  "
      ]
     },
     "execution_count": 24,
     "metadata": {},
     "output_type": "execute_result"
    }
   ],
   "source": [
    "districts = [\n",
    "    'Quận 1', 'Quận 2', 'Quận 3', 'Quận 4', 'Quận 5', 'Quận 6', \n",
    "    'Quận 7', 'Quận 8', 'Quận 9', 'Quận 10', 'Quận 11', 'Quận 12',\n",
    "    'Bình Thạnh', 'Gò Vấp', 'Phú Nhuận', 'Tân Bình', 'Tân Phú', \n",
    "    'Bình Tân', 'Thủ Đức', 'Bình Chánh', 'Cần Giờ', 'Củ Chi', \n",
    "    'Hóc Môn', 'Nhà Bè'\n",
    "]\n",
    "\n",
    "def district_to_number(address, districts):\n",
    "    for district in districts:\n",
    "        if f\"{district},\" in address or f\"{district} \" in address:\n",
    "            return district\n",
    "    return None\n",
    "\n",
    "data['DiaChi'] = data['DiaChi'].apply(lambda x: district_to_number(x, districts))\n",
    "data.sample(10)"
   ]
  },
  {
   "cell_type": "code",
   "execution_count": 25,
   "metadata": {},
   "outputs": [
    {
     "data": {
      "text/plain": [
       "TenCoSo         0\n",
       "SoGiayPhep      0\n",
       "DiaChi         15\n",
       "NgayCap         0\n",
       "TinhTrang       0\n",
       "TenHinhThuc     0\n",
       "SoCCHN_NDD      0\n",
       "dtype: int64"
      ]
     },
     "execution_count": 25,
     "metadata": {},
     "output_type": "execute_result"
    }
   ],
   "source": [
    "data.isna().sum()"
   ]
  },
  {
   "cell_type": "markdown",
   "metadata": {},
   "source": [
    "Sau khi chuẩn hoá, ta nhận thấy có một vài giá trị bất thường không thuộc khu vực thành phố Hồ Chí Minh nên không tìm được quận, ta loại bỏ các giá trị này."
   ]
  },
  {
   "cell_type": "code",
   "execution_count": 26,
   "metadata": {},
   "outputs": [
    {
     "data": {
      "text/plain": [
       "TenCoSo        0\n",
       "SoGiayPhep     0\n",
       "DiaChi         0\n",
       "NgayCap        0\n",
       "TinhTrang      0\n",
       "TenHinhThuc    0\n",
       "SoCCHN_NDD     0\n",
       "dtype: int64"
      ]
     },
     "execution_count": 26,
     "metadata": {},
     "output_type": "execute_result"
    }
   ],
   "source": [
    "data.dropna(inplace=True)\n",
    "data.isna().sum()"
   ]
  },
  {
   "cell_type": "markdown",
   "metadata": {},
   "source": [
    "### Gom các quận trong thành phố Thủ Đức\n",
    "Sau khi chuẩn hoá, ta gom các quận Thủ Đức, 2 và 9 lại thành thành phố Thủ Đức."
   ]
  },
  {
   "cell_type": "code",
   "execution_count": 27,
   "metadata": {},
   "outputs": [
    {
     "data": {
      "text/plain": [
       "array(['Quận 7', 'TP. Thủ Đức', 'Quận 8', 'Quận 4', 'Phú Nhuận',\n",
       "       'Bình Tân', 'Quận 3', 'Quận 10', 'Quận 1', 'Tân Bình', 'Gò Vấp',\n",
       "       'Nhà Bè', 'Bình Thạnh', 'Quận 6', 'Quận 11', 'Hóc Môn', 'Củ Chi',\n",
       "       'Quận 5', 'Quận 12', 'Bình Chánh', 'Tân Phú', 'Cần Giờ'],\n",
       "      dtype=object)"
      ]
     },
     "execution_count": 27,
     "metadata": {},
     "output_type": "execute_result"
    }
   ],
   "source": [
    "districts = ['Thủ Đức', 'Quận 2', 'Quận 9']\n",
    "\n",
    "def normalize_address(address):\n",
    "    if address in districts:\n",
    "        return \"TP. Thủ Đức\"\n",
    "    return address\n",
    "\n",
    "data['DiaChi'] = data['DiaChi'].apply(normalize_address)\n",
    "\n",
    "data['DiaChi'].unique()"
   ]
  },
  {
   "cell_type": "markdown",
   "metadata": {},
   "source": [
    "### Kiểm tra các giá trị bất thường của cột `TenHinhThuc`"
   ]
  },
  {
   "cell_type": "markdown",
   "metadata": {},
   "source": [
    "#### Kiểm tra các giá trị của cột `TenHinhThuc`"
   ]
  },
  {
   "cell_type": "code",
   "execution_count": 28,
   "metadata": {},
   "outputs": [
    {
     "name": "stdout",
     "output_type": "stream",
     "text": [
      "'Phòng khám chuyên khoa Răng Hàm Mặt': 1601 lần\n",
      "'Phòng khám Nội tổng hợp': 1391 lần\n",
      "'Phòng chẩn trị y học cổ truyền': 573 lần\n",
      "'Phòng khám chuyên khoa Nhi': 512 lần\n",
      "'Phòng khám chuyên khoa Sản phụ khoa': 484 lần\n",
      "'Phòng khám đa khoa': 339 lần\n",
      "'Trạm y tế phường xã ': 316 lần\n",
      "'Phòng khám chuyên khoa Tai Mũi Họng': 243 lần\n",
      "'Phòng khám chuyên khoa Da liễu': 225 lần\n",
      "'Phòng khám chuyên khoa Phẫu thuật thẩm mỹ': 217 lần\n",
      "'Phòng khám chuyên khoa Mắt': 145 lần\n",
      "'Phòng khám chuyên khoa Ngoại': 140 lần\n",
      "'Cơ sở dịch vụ làm răng giả': 131 lần\n",
      "'Phòng khám chuyên khoa Chấn thương chỉnh hình ': 118 lần\n",
      "'Phòng xét nghiệm': 107 lần\n",
      "'Phòng khám Chẩn đoán hình ảnh': 97 lần\n",
      "'Phòng khám chuyên khoa Ung bướu': 66 lần\n",
      "'Bệnh viện đa khoa': 64 lần\n",
      "'Phòng khám chuyên khoa Nội thần kinh': 58 lần\n",
      "'Phòng khám chuyên khoa Phục hồi chức năng': 56 lần\n",
      "'Bệnh viện chuyên khoa': 56 lần\n",
      "'Cơ sở dịch vụ tiêm (chích), thay băng, đếm mạch, đo nhiệt độ, đo huyết áp': 55 lần\n",
      "'Hành nghề tỉnh': 46 lần\n",
      "'Phòng khám chuyên khoa Tâm thần': 41 lần\n",
      "'Phòng khám chuyên khoa Nội Tim mạch': 38 lần\n",
      "'Phòng khám chuyên khoa Lao và bệnh phổi': 34 lần\n",
      "'Phòng khám chuyên khoa Nội tiết': 27 lần\n",
      "'Phòng khám chuyên khoa Ngoại niệu': 25 lần\n",
      "'Phòng khám chuyên khoa Ngoại nhi': 20 lần\n",
      "'Phòng khám bác sĩ gia đình': 19 lần\n",
      "'Phòng khám chuyên khoa Ngoại thần kinh': 18 lần\n",
      "'Trạm y tế khác': 15 lần\n",
      "'Phòng khám, điều trị HIV/AIDS': 15 lần\n",
      "'Phòng khám chuyên khoa Ngoại lồng ngực': 13 lần\n",
      "'Cơ sở dịch vụ chăm sóc sức khỏe tại nhà': 10 lần\n",
      "'Nhà hộ sinh': 7 lần\n",
      "'Phòng khám bác sĩ gia đình tư nhân độc lập': 5 lần\n",
      "'Cơ sở dịch vụ cấp cứu, hỗ trợ vận chuyển người bệnh': 5 lần\n",
      "'Phòng khám chuyên khoa Nội tiêu hóa': 4 lần\n",
      "'Cơ sở dịch vụ y tế khác': 4 lần\n",
      "'Phòng khám chuyên khoa Nhiễm': 3 lần\n",
      "'Phòng chẩn trị y học cổ truyền khác': 3 lần\n",
      "'Phòng chẩn đoán hình ảnh': 3 lần\n",
      "'Phòng khám chuyên khoa thuộc hệ ngoại': 2 lần\n",
      "'Phòng khám chuyên khoa thuộc hệ nội': 2 lần\n",
      "'Cơ sở dịch vụ kính thuốc': 2 lần\n",
      "'Phòng khám tư vấn và điều trị dự phòng': 1 lần\n",
      "'Phòng khám chuyên khoa Lão': 1 lần\n",
      "'Phòng khám chuyên khoa Nội cơ xương khớp': 1 lần\n",
      "'Phòng khám chuyên khoa Nội hô hấp': 1 lần\n",
      "'Y tế cơ quan': 1 lần\n"
     ]
    }
   ],
   "source": [
    "unique_counts = data['TenHinhThuc'].value_counts()\n",
    "\n",
    "for value, count in unique_counts.items():\n",
    "    print(f\"'{value}': {count} lần\")"
   ]
  },
  {
   "cell_type": "markdown",
   "metadata": {},
   "source": [
    "Ta nhận thấy có dữ liệu 'Hành nghề tỉnh' là dữ liệu bất thường, ta sẽ loại bỏ các dòng liên quan đến hình thức này vì ta chỉ xét trong khu vực Hồ Chí Minh."
   ]
  },
  {
   "cell_type": "code",
   "execution_count": 29,
   "metadata": {},
   "outputs": [
    {
     "name": "stdout",
     "output_type": "stream",
     "text": [
      "'Số dòng có hình thức là 'Hành nghề tỉnh' trong bộ dữ liệu: 0\n"
     ]
    }
   ],
   "source": [
    "data = data[data['TenHinhThuc'] != 'Hành nghề tỉnh']\n",
    "#Test\n",
    "print(\"'Số dòng có hình thức là 'Hành nghề tỉnh' trong bộ dữ liệu:\", len(data[data['TenHinhThuc'] == 'Hành nghề tỉnh']))"
   ]
  },
  {
   "cell_type": "markdown",
   "metadata": {},
   "source": [
    "### Rút gọn chuỗi hình thức"
   ]
  },
  {
   "cell_type": "markdown",
   "metadata": {},
   "source": [
    "Ta nhận thấy hình thức phòng khám tồn tại rất nhiều, ta sẽ tiến hành loại bỏ chuỗi \"Phòng khám\", \"Phòng khám chuyên khoa\" thành \"PK\" và \"PKCK\" giúp ngắn gọn."
   ]
  },
  {
   "cell_type": "code",
   "execution_count": 30,
   "metadata": {},
   "outputs": [
    {
     "data": {
      "text/plain": [
       "array(['PK đa khoa', 'PKCK Răng Hàm Mặt', 'PKCK Mắt', 'PKCK Tai Mũi Họng',\n",
       "       'PKCK Sản phụ khoa', 'PK Nội tổng hợp', 'Bệnh viện đa khoa',\n",
       "       'PKCK Phẫu thuật thẩm mỹ', 'PKCK Da liễu', 'PKCK Nhi',\n",
       "       'PKCK Nội thần kinh', 'Phòng chẩn trị y học cổ truyền',\n",
       "       'Cơ sở dịch vụ làm răng giả', 'PKCK Ngoại niệu',\n",
       "       'PKCK Chấn thương chỉnh hình ', 'Phòng xét nghiệm',\n",
       "       'PKCK Nội Tim mạch', 'PKCK Phục hồi chức năng', 'PKCK Ngoại',\n",
       "       'Trạm y tế phường xã ', 'PK Chẩn đoán hình ảnh',\n",
       "       'PKCK Ngoại thần kinh', 'PKCK Nội tiết',\n",
       "       'Cơ sở dịch vụ cấp cứu, hỗ trợ vận chuyển người bệnh',\n",
       "       'Bệnh viện chuyên khoa', 'PKCK Ung bướu', 'PKCK Tâm thần',\n",
       "       'PK bác sĩ gia đình tư nhân độc lập', 'PKCK Lao và bệnh phổi',\n",
       "       'Cơ sở dịch vụ tiêm (chích), thay băng, đếm mạch, đo nhiệt độ, đo huyết áp',\n",
       "       'PKCK Nội tiêu hóa', 'PKCK Ngoại lồng ngực',\n",
       "       'PKCK Nội cơ xương khớp', 'PKCK Ngoại nhi', 'Nhà hộ sinh',\n",
       "       'PKCK Lão', 'PK tư vấn và điều trị dự phòng', 'PKCK Nhiễm',\n",
       "       'PK bác sĩ gia đình', 'PKCK thuộc hệ ngoại', 'PKCK thuộc hệ nội',\n",
       "       'Cơ sở dịch vụ chăm sóc sức khỏe tại nhà', 'PKCK Nội hô hấp',\n",
       "       'Y tế cơ quan', 'Phòng chẩn trị y học cổ truyền khác',\n",
       "       'Phòng chẩn đoán hình ảnh', 'Phòng khám, điều trị HIV/AIDS',\n",
       "       'Trạm y tế khác', 'Cơ sở dịch vụ kính thuốc',\n",
       "       'Cơ sở dịch vụ y tế khác'], dtype=object)"
      ]
     },
     "execution_count": 30,
     "metadata": {},
     "output_type": "execute_result"
    }
   ],
   "source": [
    "# Xóa chuỗi 'Phòng khám chuyên khoa' hoặc 'Phòng khám'\n",
    "data['TenHinhThuc'] = data['TenHinhThuc'].str.replace('Phòng khám chuyên khoa ', 'PKCK ', regex=True)\n",
    "data['TenHinhThuc'] = data['TenHinhThuc'].str.replace('Phòng khám ', 'PK ', regex=True)\n",
    "data['TenHinhThuc'].unique()"
   ]
  },
  {
   "cell_type": "markdown",
   "metadata": {},
   "source": [
    "### Kiểm tra tình trạng hoạt động của các phòng khám"
   ]
  },
  {
   "cell_type": "code",
   "execution_count": 31,
   "metadata": {},
   "outputs": [
    {
     "name": "stdout",
     "output_type": "stream",
     "text": [
      "Số lượng phòng khám đã đóng cửa: 0\n"
     ]
    }
   ],
   "source": [
    "print(\"Số lượng phòng khám đã đóng cửa:\",len(data[data['TinhTrang'] != 'Đang hoạt động']))"
   ]
  },
  {
   "cell_type": "markdown",
   "metadata": {},
   "source": [
    "Vậy không có phòng khám nào trong bộ dữ liệu hiện không hoạt động."
   ]
  },
  {
   "cell_type": "markdown",
   "metadata": {},
   "source": [
    "### Loại bỏ các cột dữ liệu không phân tích"
   ]
  },
  {
   "cell_type": "markdown",
   "metadata": {},
   "source": [
    "Ta nhận thấy các cột dữ liệu `TenCoSo`, `SoGiayPhep`, `TinhTrang`, `SoCCHN_NDD` không có nhiều giá trị phân tích, ta sẽ tiến hành loại bỏ các cột này để giảm độ phức tạp."
   ]
  },
  {
   "cell_type": "code",
   "execution_count": 32,
   "metadata": {},
   "outputs": [],
   "source": [
    "data = data.drop(['TenCoSo', 'SoGiayPhep', 'TinhTrang', 'SoCCHN_NDD'], axis=1)"
   ]
  },
  {
   "cell_type": "markdown",
   "metadata": {},
   "source": [
    "Bộ dữ liệu sau khi đã tiền xử lí xong có dạng:"
   ]
  },
  {
   "cell_type": "code",
   "execution_count": 33,
   "metadata": {},
   "outputs": [
    {
     "data": {
      "text/html": [
       "<div>\n",
       "<style scoped>\n",
       "    .dataframe tbody tr th:only-of-type {\n",
       "        vertical-align: middle;\n",
       "    }\n",
       "\n",
       "    .dataframe tbody tr th {\n",
       "        vertical-align: top;\n",
       "    }\n",
       "\n",
       "    .dataframe thead th {\n",
       "        text-align: right;\n",
       "    }\n",
       "</style>\n",
       "<table border=\"1\" class=\"dataframe\">\n",
       "  <thead>\n",
       "    <tr style=\"text-align: right;\">\n",
       "      <th></th>\n",
       "      <th>DiaChi</th>\n",
       "      <th>NgayCap</th>\n",
       "      <th>TenHinhThuc</th>\n",
       "    </tr>\n",
       "  </thead>\n",
       "  <tbody>\n",
       "    <tr>\n",
       "      <th>2780</th>\n",
       "      <td>Quận 1</td>\n",
       "      <td>2014-03-19 00:00:00</td>\n",
       "      <td>PKCK Răng Hàm Mặt</td>\n",
       "    </tr>\n",
       "    <tr>\n",
       "      <th>4265</th>\n",
       "      <td>Bình Tân</td>\n",
       "      <td>2014-11-26 00:00:00</td>\n",
       "      <td>PK Nội tổng hợp</td>\n",
       "    </tr>\n",
       "    <tr>\n",
       "      <th>90</th>\n",
       "      <td>Tân Bình</td>\n",
       "      <td>2017-07-31 00:00:00</td>\n",
       "      <td>PKCK Răng Hàm Mặt</td>\n",
       "    </tr>\n",
       "    <tr>\n",
       "      <th>1534</th>\n",
       "      <td>Tân Bình</td>\n",
       "      <td>2013-12-10 00:00:00</td>\n",
       "      <td>PKCK Tai Mũi Họng</td>\n",
       "    </tr>\n",
       "    <tr>\n",
       "      <th>338</th>\n",
       "      <td>Bình Thạnh</td>\n",
       "      <td>2014-04-15 00:00:00</td>\n",
       "      <td>PKCK Chấn thương chỉnh hình</td>\n",
       "    </tr>\n",
       "    <tr>\n",
       "      <th>4843</th>\n",
       "      <td>Gò Vấp</td>\n",
       "      <td>2013-12-12 00:00:00</td>\n",
       "      <td>PKCK Răng Hàm Mặt</td>\n",
       "    </tr>\n",
       "    <tr>\n",
       "      <th>14</th>\n",
       "      <td>Quận 10</td>\n",
       "      <td>2015-06-15 00:00:00</td>\n",
       "      <td>PK Nội tổng hợp</td>\n",
       "    </tr>\n",
       "  </tbody>\n",
       "</table>\n",
       "</div>"
      ],
      "text/plain": [
       "          DiaChi              NgayCap                   TenHinhThuc\n",
       "2780      Quận 1  2014-03-19 00:00:00             PKCK Răng Hàm Mặt\n",
       "4265    Bình Tân  2014-11-26 00:00:00               PK Nội tổng hợp\n",
       "90      Tân Bình  2017-07-31 00:00:00             PKCK Răng Hàm Mặt\n",
       "1534    Tân Bình  2013-12-10 00:00:00             PKCK Tai Mũi Họng\n",
       "338   Bình Thạnh  2014-04-15 00:00:00  PKCK Chấn thương chỉnh hình \n",
       "4843      Gò Vấp  2013-12-12 00:00:00             PKCK Răng Hàm Mặt\n",
       "14       Quận 10  2015-06-15 00:00:00               PK Nội tổng hợp"
      ]
     },
     "execution_count": 33,
     "metadata": {},
     "output_type": "execute_result"
    }
   ],
   "source": [
    "data.sample(7)"
   ]
  },
  {
   "cell_type": "markdown",
   "metadata": {},
   "source": [
    "#### Kích thước của bộ dữ liệu sau khi tiền xử lý"
   ]
  },
  {
   "cell_type": "code",
   "execution_count": 34,
   "metadata": {},
   "outputs": [
    {
     "data": {
      "text/plain": [
       "(7314, 3)"
      ]
     },
     "execution_count": 34,
     "metadata": {},
     "output_type": "execute_result"
    }
   ],
   "source": [
    "data.shape"
   ]
  },
  {
   "cell_type": "markdown",
   "metadata": {},
   "source": [
    "### Lưu lại bộ dữ liệu"
   ]
  },
  {
   "cell_type": "markdown",
   "metadata": {},
   "source": [
    "#### Lưu dưới dạng csv"
   ]
  },
  {
   "cell_type": "code",
   "execution_count": 35,
   "metadata": {},
   "outputs": [],
   "source": [
    "data.to_csv('./Dataset/CoSoKham_DaXuLy.csv', header=True, index=False)"
   ]
  },
  {
   "cell_type": "markdown",
   "metadata": {},
   "source": [
    "#### Lưu dưới dạng excel"
   ]
  },
  {
   "cell_type": "code",
   "execution_count": 36,
   "metadata": {},
   "outputs": [],
   "source": [
    "data.to_excel('./Dataset/CoSoKham_DaXuLy.xlsx', header=True, index=False)"
   ]
  }
 ],
 "metadata": {
  "kernelspec": {
   "display_name": "Python 3",
   "language": "python",
   "name": "python3"
  },
  "language_info": {
   "codemirror_mode": {
    "name": "ipython",
    "version": 3
   },
   "file_extension": ".py",
   "mimetype": "text/x-python",
   "name": "python",
   "nbconvert_exporter": "python",
   "pygments_lexer": "ipython3",
   "version": "3.12.2"
  }
 },
 "nbformat": 4,
 "nbformat_minor": 2
}
